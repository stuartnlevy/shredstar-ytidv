{
 "cells": [
  {
   "cell_type": "code",
   "execution_count": 1,
   "metadata": {},
   "outputs": [
    {
     "data": {
      "text/plain": [
       "['/net/clio.ncsa.illinois.edu/fe4/blackhole-star/data/shredded',\n",
       " '/gd/home/src/anaconda3/lib/python39.zip',\n",
       " '/gd/home/src/anaconda3/lib/python3.9',\n",
       " '/gd/home/src/anaconda3/lib/python3.9/lib-dynload',\n",
       " '',\n",
       " '/gd/home/src/anaconda3/lib/python3.9/site-packages',\n",
       " '/fe0/gd/home/src/sci/yt',\n",
       " '/gd/home/src/anaconda3/lib/python3.9/site-packages/unyt-2.8.0-py3.9.egg',\n",
       " '/gd/home/src/anaconda3/lib/python3.9/site-packages/sympy-1.9rc1-py3.9.egg',\n",
       " '/gd/home/src/anaconda3/lib/python3.9/site-packages/cmyt-1.0.4-py3.9.egg',\n",
       " '/gd/home/src/anaconda3/lib/python3.9/site-packages/colorspacious-1.1.2-py3.9.egg',\n",
       " '/fe0/gd/home/src/sci/yt_idv',\n",
       " '/gd/home/src/anaconda3/lib/python3.9/site-packages/traittypes-0.2.1-py3.9.egg',\n",
       " '/gd/home/src/anaconda3/lib/python3.9/site-packages/pyglet-2.0.dev13-py3.9.egg',\n",
       " '/gd/home/src/anaconda3/lib/python3.9/site-packages/PyOpenGL-3.1.5-py3.9.egg',\n",
       " '/gd/home/src/anaconda3/lib/python3.9/site-packages/imgui-1.4.1-py3.9-linux-x86_64.egg',\n",
       " '/gd/home/src/anaconda3/lib/python3.9/site-packages/click-8.0.3-py3.9.egg',\n",
       " '/gd/home/src/anaconda3/lib/python3.9/site-packages/locket-0.2.1-py3.9.egg',\n",
       " '/fe0/gd/home/src/anaconda3/lib/python3.9/site-packages',\n",
       " '/gd/home/src/anaconda3/lib/python3.9/site-packages/IPython/extensions',\n",
       " '/localhome/slevy/.ipython']"
      ]
     },
     "execution_count": 1,
     "metadata": {},
     "output_type": "execute_result"
    }
   ],
   "source": [
    "%matplotlib notebook\n",
    "import sys; sys.path"
   ]
  },
  {
   "cell_type": "code",
   "execution_count": 2,
   "metadata": {},
   "outputs": [
    {
     "data": {
      "text/plain": [
       "'4.1.dev0'"
      ]
     },
     "execution_count": 2,
     "metadata": {},
     "output_type": "execute_result"
    }
   ],
   "source": [
    "import yt; yt.__version__"
   ]
  },
  {
   "cell_type": "code",
   "execution_count": 3,
   "metadata": {},
   "outputs": [],
   "source": [
    "import widgyts\n",
    "import yt\n",
    "import yt_idv"
   ]
  },
  {
   "cell_type": "code",
   "execution_count": 4,
   "metadata": {},
   "outputs": [
    {
     "name": "stderr",
     "output_type": "stream",
     "text": [
      "yt : [INFO     ] 2022-03-23 17:53:57,043 Parameters: current_time              = 0.0060000200028298\n",
      "yt : [INFO     ] 2022-03-23 17:53:57,044 Parameters: domain_dimensions         = [32 32 32]\n",
      "yt : [INFO     ] 2022-03-23 17:53:57,045 Parameters: domain_left_edge          = [0. 0. 0.]\n",
      "yt : [INFO     ] 2022-03-23 17:53:57,046 Parameters: domain_right_edge         = [1. 1. 1.]\n",
      "yt : [INFO     ] 2022-03-23 17:53:57,047 Parameters: cosmological_simulation   = 0\n"
     ]
    }
   ],
   "source": [
    "#ds = yt.load_sample(\"IsolatedGalaxy\")\n",
    "#ds = yt.load('m1.0_p16_b2.0_300k_plt50/multitidal_hdf5_plt_cnt_0200')\n",
    "ds = yt.load('/fe0/haoming/Example_Data/IsolatedGalaxy/galaxy0030/galaxy0030')"
   ]
  },
  {
   "cell_type": "code",
   "execution_count": 5,
   "metadata": {},
   "outputs": [
    {
     "name": "stderr",
     "output_type": "stream",
     "text": [
      "Parsing Hierarchy : 100%|███████████████████████████████████████████████████████████████| 173/173 [00:00<00:00, 4732.74it/s]\n",
      "yt : [INFO     ] 2022-03-23 17:53:57,156 Gathering a field list (this may take a moment.)\n"
     ]
    },
    {
     "data": {
      "application/vnd.jupyter.widget-view+json": {
       "model_id": "621c002b18b34a9ea62ab085dd88a1a0",
       "version_major": 2,
       "version_minor": 0
      },
      "text/plain": [
       "Tab(children=(HBox(children=(Renderer(camera=PerspectiveCamera(children=(AmbientLight(position=(0.0, 0.0, 0.0)…"
      ]
     },
     "metadata": {},
     "output_type": "display_data"
    }
   ],
   "source": [
    "v = widgyts.DatasetViewer(ds = ds)\n",
    "w = v.widget()\n",
    "w"
   ]
  },
  {
   "cell_type": "code",
   "execution_count": 6,
   "metadata": {},
   "outputs": [
    {
     "name": "stderr",
     "output_type": "stream",
     "text": [
      "/fe0/gd/home/src/sci/yt/yt/visualization/image_writer.py:152: RuntimeWarning: invalid value encountered in true_divide\n",
      "  bitmap_array = np.clip(bitmap_array[:, :, :3] / max_val, 0.0, 1.0) * 255\n"
     ]
    },
    {
     "data": {
      "application/vnd.jupyter.widget-view+json": {
       "model_id": "ecfb0a12092b4c44b6fcce73e8b2520d",
       "version_major": 2,
       "version_minor": 0
      },
      "text/plain": [
       "Image(value=b'\\x89PNG\\r\\n\\x1a\\n\\x00\\x00\\x00\\rIHDR\\x00\\x00\\x02\\xbc\\x00\\x00\\x02\\xbc\\x08\\x06\\x00\\x00\\x00\\r\\xbalC\\…"
      ]
     },
     "metadata": {},
     "output_type": "display_data"
    }
   ],
   "source": [
    "rc = yt_idv.render_context(\"egl\", width = 700, height = 700)\n",
    "ds.force_periodicity()\n",
    "dd = ds.all_data()\n",
    "dd.max_level = 10\n",
    "source = dd ### - ds.r[0.0:0.5,0.0:0.5,:]\n",
    "rc.add_scene(source, \"density\", no_ghost=True)\n",
    "im = rc.add_image()\n",
    "im"
   ]
  },
  {
   "cell_type": "code",
   "execution_count": 7,
   "metadata": {},
   "outputs": [
    {
     "name": "stdout",
     "output_type": "stream",
     "text": [
      "Computed new cmap values 4.354249938387511e-08 - 0.6283435821533203\n"
     ]
    }
   ],
   "source": [
    "rc.scene.camera._update_matrices()\n",
    "rc.run()"
   ]
  },
  {
   "cell_type": "code",
   "execution_count": 8,
   "metadata": {},
   "outputs": [],
   "source": [
    "cam = w.children[0].children[0].camera"
   ]
  },
  {
   "cell_type": "code",
   "execution_count": 9,
   "metadata": {},
   "outputs": [
    {
     "data": {
      "text/plain": [
       "{'_display_callbacks': <traitlets.traitlets.Instance at 0x7ff5d9fe10a0>,\n",
       " '_model_module': <traitlets.traitlets.Unicode at 0x7ff5d9f0f790>,\n",
       " '_model_module_version': <traitlets.traitlets.Unicode at 0x7ff5d9f0f7c0>,\n",
       " '_model_name': <traitlets.traitlets.Unicode at 0x7ff5d9eac6a0>,\n",
       " '_msg_callbacks': <traitlets.traitlets.Instance at 0x7ff5d9fe10d0>,\n",
       " '_property_lock': <traitlets.traitlets.Dict at 0x7ff5d9fe1040>,\n",
       " '_states_to_send': <traitlets.traitlets.Set at 0x7ff5d9fe1070>,\n",
       " '_view_count': <traitlets.traitlets.Int at 0x7ff5d9fd5ee0>,\n",
       " '_view_module': <traitlets.traitlets.Unicode at 0x7ff5d9fd5e50>,\n",
       " '_view_module_version': <traitlets.traitlets.Unicode at 0x7ff5d9fd5e80>,\n",
       " '_view_name': <traitlets.traitlets.Unicode at 0x7ff5d9fd5e20>,\n",
       " 'aspect': <traitlets.traitlets.CFloat at 0x7ff5d9eac820>,\n",
       " 'castShadow': <traitlets.traitlets.Bool at 0x7ff5d9eddd30>,\n",
       " 'children': <traitlets.traitlets.Tuple at 0x7ff5d9edd6d0>,\n",
       " 'comm': <traitlets.traitlets.Instance at 0x7ff5d9fd5f10>,\n",
       " 'far': <traitlets.traitlets.CFloat at 0x7ff5d9eac7c0>,\n",
       " 'focus': <traitlets.traitlets.CFloat at 0x7ff5d9eac7f0>,\n",
       " 'fov': <traitlets.traitlets.CFloat at 0x7ff5d9eac6d0>,\n",
       " 'frustumCulled': <traitlets.traitlets.Bool at 0x7ff5d9eddd90>,\n",
       " 'keys': <traitlets.traitlets.List at 0x7ff5d9fd5f70>,\n",
       " 'log': <traitlets.traitlets.Instance at 0x7ff5d9fd5ac0>,\n",
       " 'matrix': <pythreejs.traits.Matrix4 at 0x7ff5d9eddb50>,\n",
       " 'matrixAutoUpdate': <traitlets.traitlets.Bool at 0x7ff5d9eddca0>,\n",
       " 'matrixWorld': <pythreejs.traits.Matrix4 at 0x7ff5d9eddc10>,\n",
       " 'matrixWorldInverse': <pythreejs.traits.Matrix4 at 0x7ff5d9edb580>,\n",
       " 'matrixWorldNeedsUpdate': <traitlets.traitlets.Bool at 0x7ff5d9eddcd0>,\n",
       " 'modelViewMatrix': <pythreejs.traits.Matrix4 at 0x7ff5d9edda30>,\n",
       " 'name': <traitlets.traitlets.Unicode at 0x7ff5d9edd640>,\n",
       " 'near': <traitlets.traitlets.CFloat at 0x7ff5d9eac790>,\n",
       " 'normalMatrix': <pythreejs.traits.Matrix3 at 0x7ff5d9eddac0>,\n",
       " 'position': <pythreejs.traits.Vector3 at 0x7ff5d9edd760>,\n",
       " 'projectionMatrix': <pythreejs.traits.Matrix4 at 0x7ff5d9edb640>,\n",
       " 'quaternion': <pythreejs.traits.Vector4 at 0x7ff5d9edd940>,\n",
       " 'receiveShadow': <traitlets.traitlets.Bool at 0x7ff5d9eddd60>,\n",
       " 'renderOrder': <traitlets.traitlets.CInt at 0x7ff5d9edddc0>,\n",
       " 'rotation': <pythreejs.traits.Euler at 0x7ff5d9edd7f0>,\n",
       " 'scale': <pythreejs.traits.Vector3 at 0x7ff5d9edd9d0>,\n",
       " 'type': <traitlets.traitlets.Unicode at 0x7ff5d9eac850>,\n",
       " 'up': <pythreejs.traits.Vector3 at 0x7ff5d9edd700>,\n",
       " 'visible': <traitlets.traitlets.Bool at 0x7ff5d9eddd00>,\n",
       " 'zoom': <traitlets.traitlets.CFloat at 0x7ff5d9eac760>}"
      ]
     },
     "execution_count": 9,
     "metadata": {},
     "output_type": "execute_result"
    }
   ],
   "source": [
    "cam.traits()"
   ]
  },
  {
   "cell_type": "code",
   "execution_count": 10,
   "metadata": {},
   "outputs": [],
   "source": [
    "rc.scene.camera.position = cam.position"
   ]
  },
  {
   "cell_type": "code",
   "execution_count": 11,
   "metadata": {},
   "outputs": [
    {
     "data": {
      "text/plain": [
       "10.0"
      ]
     },
     "execution_count": 11,
     "metadata": {},
     "output_type": "execute_result"
    }
   ],
   "source": [
    "cam.focus"
   ]
  },
  {
   "cell_type": "code",
   "execution_count": null,
   "metadata": {},
   "outputs": [],
   "source": []
  },
  {
   "cell_type": "code",
   "execution_count": 12,
   "metadata": {},
   "outputs": [
    {
     "data": {
      "text/plain": [
       "{'aspect_ratio': <traitlets.traitlets.Float at 0x7ff5d8aae4c0>,\n",
       " 'far_plane': <traitlets.traitlets.Float at 0x7ff5d8aae820>,\n",
       " 'focus': <yt_idv.traitlets_support.YTPositionTrait at 0x7ff5d8aae7c0>,\n",
       " 'fov': <traitlets.traitlets.Float at 0x7ff5d8aae220>,\n",
       " 'held': <traitlets.traitlets.Bool at 0x7ff5d8aaef40>,\n",
       " 'near_plane': <traitlets.traitlets.Float at 0x7ff5d8aaeb80>,\n",
       " 'orientation': <traittypes.traittypes.Array at 0x7ff5d8aae9a0>,\n",
       " 'position': <yt_idv.traitlets_support.YTPositionTrait at 0x7ff5d8a9ffd0>,\n",
       " 'projection_matrix': <traittypes.traittypes.Array at 0x7ff5d8aae1f0>,\n",
       " 'up': <traittypes.traittypes.Array at 0x7ff5d8aae9d0>,\n",
       " 'view_matrix': <traittypes.traittypes.Array at 0x7ff5d8aae670>}"
      ]
     },
     "execution_count": 12,
     "metadata": {},
     "output_type": "execute_result"
    }
   ],
   "source": [
    "rc.scene.camera.traits()"
   ]
  },
  {
   "cell_type": "code",
   "execution_count": 13,
   "metadata": {},
   "outputs": [],
   "source": [
    "rc.scene.camera.up = (0.0, 1.0, 0.0)"
   ]
  },
  {
   "cell_type": "code",
   "execution_count": 14,
   "metadata": {},
   "outputs": [],
   "source": [
    "rc.scene.camera.position = (1.0, 1.0, 1.0)"
   ]
  },
  {
   "cell_type": "code",
   "execution_count": 15,
   "metadata": {},
   "outputs": [],
   "source": [
    "def redo():\n",
    "    rc.scene.camera.up = cam.up\n",
    "    rc.scene.camera.position = cam.position\n",
    "    rc.scene.camera._update_matrices()\n",
    "    rc.run()"
   ]
  },
  {
   "cell_type": "code",
   "execution_count": 16,
   "metadata": {},
   "outputs": [],
   "source": [
    "import traitlets"
   ]
  },
  {
   "cell_type": "code",
   "execution_count": 17,
   "metadata": {},
   "outputs": [
    {
     "data": {
      "text/plain": [
       "<traitlets.traitlets.link at 0x7ff5d1266970>"
      ]
     },
     "execution_count": 17,
     "metadata": {},
     "output_type": "execute_result"
    }
   ],
   "source": [
    "traitlets.link((cam, 'up'), (rc.scene.camera, 'up'))\n",
    "traitlets.link((cam, 'position'), (rc.scene.camera, 'position'))"
   ]
  },
  {
   "cell_type": "code",
   "execution_count": 18,
   "metadata": {},
   "outputs": [],
   "source": [
    "def redo2(event):\n",
    "    rc.scene.camera._update_matrices()\n",
    "    rc.run()\n",
    "cam.observe(redo2, 'position')"
   ]
  },
  {
   "cell_type": "code",
   "execution_count": 19,
   "metadata": {},
   "outputs": [
    {
     "data": {
      "text/plain": [
       "1.0"
      ]
     },
     "execution_count": 19,
     "metadata": {},
     "output_type": "execute_result"
    }
   ],
   "source": [
    "cam.zoom"
   ]
  },
  {
   "cell_type": "code",
   "execution_count": 20,
   "metadata": {},
   "outputs": [
    {
     "data": {
      "text/plain": [
       "20.0"
      ]
     },
     "execution_count": 20,
     "metadata": {},
     "output_type": "execute_result"
    }
   ],
   "source": [
    "cam.fov"
   ]
  },
  {
   "cell_type": "code",
   "execution_count": 21,
   "metadata": {},
   "outputs": [],
   "source": [
    "rc.scene.camera.fov = 20"
   ]
  },
  {
   "cell_type": "code",
   "execution_count": 22,
   "metadata": {},
   "outputs": [],
   "source": [
    "sl = ds.r[:,:,0.5]\n",
    "wcv = widgyts.WidgytsCanvasViewer.from_obj(sl, \"density\")"
   ]
  },
  {
   "cell_type": "code",
   "execution_count": 23,
   "metadata": {},
   "outputs": [
    {
     "data": {
      "application/vnd.jupyter.widget-view+json": {
       "model_id": "e1e44a4dda354ab6a036d5433a1e82fa",
       "version_major": 2,
       "version_minor": 0
      },
      "text/plain": [
       "WidgytsCanvasViewer(colormaps=ColormapContainer(colormap_values={'magma': [0, 0, 3, 255, 0, 0, 4, 255, 0, 0, 6…"
      ]
     },
     "metadata": {},
     "output_type": "display_data"
    }
   ],
   "source": [
    "wcv"
   ]
  },
  {
   "cell_type": "code",
   "execution_count": 24,
   "metadata": {},
   "outputs": [
    {
     "data": {
      "text/plain": [
       "array([2., 2., 2.], dtype=float32)"
      ]
     },
     "execution_count": 24,
     "metadata": {},
     "output_type": "execute_result"
    }
   ],
   "source": [
    "rc.scene.camera.position"
   ]
  },
  {
   "cell_type": "code",
   "execution_count": 25,
   "metadata": {},
   "outputs": [
    {
     "data": {
      "text/plain": [
       "(0.0003662109375, 20.0)"
      ]
     },
     "execution_count": 25,
     "metadata": {},
     "output_type": "execute_result"
    }
   ],
   "source": [
    "rc.scene.camera.near_plane, rc.scene.camera.far_plane"
   ]
  },
  {
   "cell_type": "code",
   "execution_count": 59,
   "metadata": {},
   "outputs": [],
   "source": [
    "rc.scene.camera.position[:] = (.695,.695,.69)"
   ]
  },
  {
   "cell_type": "code",
   "execution_count": 60,
   "metadata": {},
   "outputs": [],
   "source": [
    "#rc.scene.camera.position[:]=[1.79e14, 1.79e14, 1.79e14]\n",
    "redo2(None)"
   ]
  },
  {
   "cell_type": "code",
   "execution_count": 70,
   "metadata": {},
   "outputs": [
    {
     "name": "stdout",
     "output_type": "stream",
     "text": [
      "Help on module ipywidgets.widgets.widget_float in ipywidgets.widgets:\n",
      "\n",
      "NAME\n",
      "    ipywidgets.widgets.widget_float - Float class.\n",
      "\n",
      "DESCRIPTION\n",
      "    Represents an unbounded float using a widget.\n",
      "\n",
      "CLASSES\n",
      "    _BoundedFloat(_Float)\n",
      "        BoundedFloatText\n",
      "        FloatProgress\n",
      "        FloatSlider\n",
      "    _BoundedFloatRange(_FloatRange)\n",
      "        FloatRangeSlider\n",
      "    _BoundedLogFloat(_Float)\n",
      "        FloatLogSlider\n",
      "    _Float(ipywidgets.widgets.widget_description.DescriptionWidget, ipywidgets.widgets.valuewidget.ValueWidget, ipywidgets.widgets.widget_core.CoreWidget)\n",
      "        FloatText\n",
      "    \n",
      "    class BoundedFloatText(_BoundedFloat)\n",
      "     |  BoundedFloatText(*args, **kwargs)\n",
      "     |  \n",
      "     |  Displays a float value within a textbox. Value must be within the range specified.\n",
      "     |  \n",
      "     |  For a textbox in which the value doesn't need to be within a specific range, use FloatText.\n",
      "     |  \n",
      "     |  Parameters\n",
      "     |  ----------\n",
      "     |  value : float\n",
      "     |      value displayed\n",
      "     |  min : float\n",
      "     |      minimal value of the range of possible values displayed\n",
      "     |  max : float\n",
      "     |      maximal value of the range of possible values displayed\n",
      "     |  step : float\n",
      "     |      step of the increment (if None, any step is allowed)\n",
      "     |  description : str\n",
      "     |      description displayed next to the textbox\n",
      "     |  \n",
      "     |  Method resolution order:\n",
      "     |      BoundedFloatText\n",
      "     |      _BoundedFloat\n",
      "     |      _Float\n",
      "     |      ipywidgets.widgets.widget_description.DescriptionWidget\n",
      "     |      ipywidgets.widgets.domwidget.DOMWidget\n",
      "     |      ipywidgets.widgets.valuewidget.ValueWidget\n",
      "     |      ipywidgets.widgets.widget_core.CoreWidget\n",
      "     |      ipywidgets.widgets.widget.Widget\n",
      "     |      ipywidgets.widgets.widget.LoggingHasTraits\n",
      "     |      traitlets.traitlets.HasTraits\n",
      "     |      traitlets.traitlets.HasDescriptors\n",
      "     |      builtins.object\n",
      "     |  \n",
      "     |  Data descriptors defined here:\n",
      "     |  \n",
      "     |  continuous_update\n",
      "     |  \n",
      "     |  disabled\n",
      "     |  \n",
      "     |  step\n",
      "     |  \n",
      "     |  ----------------------------------------------------------------------\n",
      "     |  Data descriptors inherited from _BoundedFloat:\n",
      "     |  \n",
      "     |  max\n",
      "     |  \n",
      "     |  min\n",
      "     |  \n",
      "     |  ----------------------------------------------------------------------\n",
      "     |  Methods inherited from _Float:\n",
      "     |  \n",
      "     |  __init__(self, value=None, **kwargs)\n",
      "     |      Public constructor\n",
      "     |  \n",
      "     |  ----------------------------------------------------------------------\n",
      "     |  Data descriptors inherited from _Float:\n",
      "     |  \n",
      "     |  value\n",
      "     |  \n",
      "     |  ----------------------------------------------------------------------\n",
      "     |  Data descriptors inherited from ipywidgets.widgets.widget_description.DescriptionWidget:\n",
      "     |  \n",
      "     |  description\n",
      "     |  \n",
      "     |  description_tooltip\n",
      "     |  \n",
      "     |  style\n",
      "     |  \n",
      "     |  ----------------------------------------------------------------------\n",
      "     |  Methods inherited from ipywidgets.widgets.domwidget.DOMWidget:\n",
      "     |  \n",
      "     |  add_class(self, className)\n",
      "     |      Adds a class to the top level element of the widget.\n",
      "     |      \n",
      "     |      Doesn't add the class if it already exists.\n",
      "     |  \n",
      "     |  remove_class(self, className)\n",
      "     |      Removes a class from the top level element of the widget.\n",
      "     |      \n",
      "     |      Doesn't remove the class if it doesn't exist.\n",
      "     |  \n",
      "     |  ----------------------------------------------------------------------\n",
      "     |  Data descriptors inherited from ipywidgets.widgets.domwidget.DOMWidget:\n",
      "     |  \n",
      "     |  layout\n",
      "     |  \n",
      "     |  ----------------------------------------------------------------------\n",
      "     |  Methods inherited from ipywidgets.widgets.valuewidget.ValueWidget:\n",
      "     |  \n",
      "     |  get_interact_value(self)\n",
      "     |      Return the value for this widget which should be passed to\n",
      "     |      interactive functions. Custom widgets can change this method\n",
      "     |      to process the raw value ``self.value``.\n",
      "     |  \n",
      "     |  ----------------------------------------------------------------------\n",
      "     |  Methods inherited from ipywidgets.widgets.widget.Widget:\n",
      "     |  \n",
      "     |  __del__(self)\n",
      "     |      Object disposal\n",
      "     |  \n",
      "     |  __repr__(self)\n",
      "     |      Return repr(self).\n",
      "     |  \n",
      "     |  add_traits(self, **traits)\n",
      "     |      Dynamically add trait attributes to the Widget.\n",
      "     |  \n",
      "     |  close(self)\n",
      "     |      Close method.\n",
      "     |      \n",
      "     |      Closes the underlying comm.\n",
      "     |      When the comm is closed, all of the widget views are automatically\n",
      "     |      removed from the front-end.\n",
      "     |  \n",
      "     |  get_state(self, key=None, drop_defaults=False)\n",
      "     |      Gets the widget state, or a piece of it.\n",
      "     |      \n",
      "     |      Parameters\n",
      "     |      ----------\n",
      "     |      key : unicode or iterable (optional)\n",
      "     |          A single property's name or iterable of property names to get.\n",
      "     |      \n",
      "     |      Returns\n",
      "     |      -------\n",
      "     |      state : dict of states\n",
      "     |      metadata : dict\n",
      "     |          metadata for each field: {key: metadata}\n",
      "     |  \n",
      "     |  get_view_spec(self)\n",
      "     |  \n",
      "     |  hold_sync(self)\n",
      "     |      Hold syncing any state until the outermost context manager exits\n",
      "     |  \n",
      "     |  notify_change(self, change)\n",
      "     |      Called when a property has changed.\n",
      "     |  \n",
      "     |  on_displayed(self, callback, remove=False)\n",
      "     |      (Un)Register a widget displayed callback.\n",
      "     |      \n",
      "     |      Parameters\n",
      "     |      ----------\n",
      "     |      callback: method handler\n",
      "     |          Must have a signature of::\n",
      "     |      \n",
      "     |              callback(widget, **kwargs)\n",
      "     |      \n",
      "     |          kwargs from display are passed through without modification.\n",
      "     |      remove: bool\n",
      "     |          True if the callback should be unregistered.\n",
      "     |  \n",
      "     |  on_msg(self, callback, remove=False)\n",
      "     |      (Un)Register a custom msg receive callback.\n",
      "     |      \n",
      "     |      Parameters\n",
      "     |      ----------\n",
      "     |      callback: callable\n",
      "     |          callback will be passed three arguments when a message arrives::\n",
      "     |      \n",
      "     |              callback(widget, content, buffers)\n",
      "     |      \n",
      "     |      remove: bool\n",
      "     |          True if the callback should be unregistered.\n",
      "     |  \n",
      "     |  open(self)\n",
      "     |      Open a comm to the frontend if one isn't already open.\n",
      "     |  \n",
      "     |  send(self, content, buffers=None)\n",
      "     |      Sends a custom msg to the widget model in the front-end.\n",
      "     |      \n",
      "     |      Parameters\n",
      "     |      ----------\n",
      "     |      content : dict\n",
      "     |          Content of the message to send.\n",
      "     |      buffers : list of binary buffers\n",
      "     |          Binary buffers to send with message\n",
      "     |  \n",
      "     |  send_state(self, key=None)\n",
      "     |      Sends the widget state, or a piece of it, to the front-end, if it exists.\n",
      "     |      \n",
      "     |      Parameters\n",
      "     |      ----------\n",
      "     |      key : unicode, or iterable (optional)\n",
      "     |          A single property's name or iterable of property names to sync with the front-end.\n",
      "     |  \n",
      "     |  set_state(self, sync_data)\n",
      "     |      Called when a state is received from the front-end.\n",
      "     |  \n",
      "     |  ----------------------------------------------------------------------\n",
      "     |  Class methods inherited from ipywidgets.widgets.widget.Widget:\n",
      "     |  \n",
      "     |  close_all() from traitlets.traitlets.MetaHasTraits\n",
      "     |  \n",
      "     |  ----------------------------------------------------------------------\n",
      "     |  Static methods inherited from ipywidgets.widgets.widget.Widget:\n",
      "     |  \n",
      "     |  get_manager_state(drop_defaults=False, widgets=None)\n",
      "     |      Returns the full state for a widget manager for embedding\n",
      "     |      \n",
      "     |      :param drop_defaults: when True, it will not include default value\n",
      "     |      :param widgets: list with widgets to include in the state (or all widgets when None)\n",
      "     |      :return:\n",
      "     |  \n",
      "     |  handle_comm_opened(comm, msg)\n",
      "     |      Static method, called when a widget is constructed.\n",
      "     |  \n",
      "     |  on_widget_constructed(callback)\n",
      "     |      Registers a callback to be called when a widget is constructed.\n",
      "     |      \n",
      "     |      The callback must have the following signature:\n",
      "     |      callback(widget)\n",
      "     |  \n",
      "     |  ----------------------------------------------------------------------\n",
      "     |  Readonly properties inherited from ipywidgets.widgets.widget.Widget:\n",
      "     |  \n",
      "     |  model_id\n",
      "     |      Gets the model id of this widget.\n",
      "     |      \n",
      "     |      If a Comm doesn't exist yet, a Comm will be created automagically.\n",
      "     |  \n",
      "     |  ----------------------------------------------------------------------\n",
      "     |  Data descriptors inherited from ipywidgets.widgets.widget.Widget:\n",
      "     |  \n",
      "     |  comm\n",
      "     |  \n",
      "     |  keys\n",
      "     |  \n",
      "     |  ----------------------------------------------------------------------\n",
      "     |  Data and other attributes inherited from ipywidgets.widgets.widget.Widget:\n",
      "     |  \n",
      "     |  widget_types = <ipywidgets.widgets.widget.WidgetRegistry object>\n",
      "     |  \n",
      "     |  widgets = {'001cda02f2a34b929f1f582967394721': BufferAttribute(array=a...\n",
      "     |  \n",
      "     |  ----------------------------------------------------------------------\n",
      "     |  Data descriptors inherited from ipywidgets.widgets.widget.LoggingHasTraits:\n",
      "     |  \n",
      "     |  log\n",
      "     |  \n",
      "     |  ----------------------------------------------------------------------\n",
      "     |  Methods inherited from traitlets.traitlets.HasTraits:\n",
      "     |  \n",
      "     |  __getstate__(self)\n",
      "     |  \n",
      "     |  __setstate__(self, state)\n",
      "     |  \n",
      "     |  has_trait(self, name)\n",
      "     |      Returns True if the object has a trait with the specified name.\n",
      "     |  \n",
      "     |  hold_trait_notifications(self)\n",
      "     |      Context manager for bundling trait change notifications and cross\n",
      "     |      validation.\n",
      "     |      \n",
      "     |      Use this when doing multiple trait assignments (init, config), to avoid\n",
      "     |      race conditions in trait notifiers requesting other trait values.\n",
      "     |      All trait notifications will fire after all values have been assigned.\n",
      "     |  \n",
      "     |  observe(self, handler, names=traitlets.All, type='change')\n",
      "     |      Setup a handler to be called when a trait changes.\n",
      "     |      \n",
      "     |      This is used to setup dynamic notifications of trait changes.\n",
      "     |      \n",
      "     |      Parameters\n",
      "     |      ----------\n",
      "     |      handler : callable\n",
      "     |          A callable that is called when a trait changes. Its\n",
      "     |          signature should be ``handler(change)``, where ``change`` is a\n",
      "     |          dictionary. The change dictionary at least holds a 'type' key.\n",
      "     |          * ``type``: the type of notification.\n",
      "     |          Other keys may be passed depending on the value of 'type'. In the\n",
      "     |          case where type is 'change', we also have the following keys:\n",
      "     |          * ``owner`` : the HasTraits instance\n",
      "     |          * ``old`` : the old value of the modified trait attribute\n",
      "     |          * ``new`` : the new value of the modified trait attribute\n",
      "     |          * ``name`` : the name of the modified trait attribute.\n",
      "     |      names : list, str, All\n",
      "     |          If names is All, the handler will apply to all traits.  If a list\n",
      "     |          of str, handler will apply to all names in the list.  If a\n",
      "     |          str, the handler will apply just to that name.\n",
      "     |      type : str, All (default: 'change')\n",
      "     |          The type of notification to filter by. If equal to All, then all\n",
      "     |          notifications are passed to the observe handler.\n",
      "     |  \n",
      "     |  on_trait_change(self, handler=None, name=None, remove=False)\n",
      "     |      DEPRECATED: Setup a handler to be called when a trait changes.\n",
      "     |      \n",
      "     |      This is used to setup dynamic notifications of trait changes.\n",
      "     |      \n",
      "     |      Static handlers can be created by creating methods on a HasTraits\n",
      "     |      subclass with the naming convention '_[traitname]_changed'.  Thus,\n",
      "     |      to create static handler for the trait 'a', create the method\n",
      "     |      _a_changed(self, name, old, new) (fewer arguments can be used, see\n",
      "     |      below).\n",
      "     |      \n",
      "     |      If `remove` is True and `handler` is not specified, all change\n",
      "     |      handlers for the specified name are uninstalled.\n",
      "     |      \n",
      "     |      Parameters\n",
      "     |      ----------\n",
      "     |      handler : callable, None\n",
      "     |          A callable that is called when a trait changes.  Its\n",
      "     |          signature can be handler(), handler(name), handler(name, new),\n",
      "     |          handler(name, old, new), or handler(name, old, new, self).\n",
      "     |      name : list, str, None\n",
      "     |          If None, the handler will apply to all traits.  If a list\n",
      "     |          of str, handler will apply to all names in the list.  If a\n",
      "     |          str, the handler will apply just to that name.\n",
      "     |      remove : bool\n",
      "     |          If False (the default), then install the handler.  If True\n",
      "     |          then unintall it.\n",
      "     |  \n",
      "     |  set_trait(self, name, value)\n",
      "     |      Forcibly sets trait attribute, including read-only attributes.\n",
      "     |  \n",
      "     |  setup_instance(*args, **kwargs)\n",
      "     |      This is called **before** self.__init__ is called.\n",
      "     |  \n",
      "     |  trait_defaults(self, *names, **metadata)\n",
      "     |      Return a trait's default value or a dictionary of them\n",
      "     |      \n",
      "     |      Notes\n",
      "     |      -----\n",
      "     |      Dynamically generated default values may\n",
      "     |      depend on the current state of the object.\n",
      "     |  \n",
      "     |  trait_has_value(self, name)\n",
      "     |      Returns True if the specified trait has a value.\n",
      "     |      \n",
      "     |      This will return false even if ``getattr`` would return a\n",
      "     |      dynamically generated default value. These default values\n",
      "     |      will be recognized as existing only after they have been\n",
      "     |      generated.\n",
      "     |      \n",
      "     |      Example\n",
      "     |      \n",
      "     |      .. code-block:: python\n",
      "     |      \n",
      "     |          class MyClass(HasTraits):\n",
      "     |              i = Int()\n",
      "     |      \n",
      "     |          mc = MyClass()\n",
      "     |          assert not mc.trait_has_value(\"i\")\n",
      "     |          mc.i # generates a default value\n",
      "     |          assert mc.trait_has_value(\"i\")\n",
      "     |  \n",
      "     |  trait_metadata(self, traitname, key, default=None)\n",
      "     |      Get metadata values for trait by key.\n",
      "     |  \n",
      "     |  trait_names(self, **metadata)\n",
      "     |      Get a list of all the names of this class' traits.\n",
      "     |  \n",
      "     |  trait_values(self, **metadata)\n",
      "     |      A ``dict`` of trait names and their values.\n",
      "     |      \n",
      "     |      The metadata kwargs allow functions to be passed in which\n",
      "     |      filter traits based on metadata values.  The functions should\n",
      "     |      take a single value as an argument and return a boolean.  If\n",
      "     |      any function returns False, then the trait is not included in\n",
      "     |      the output.  If a metadata key doesn't exist, None will be passed\n",
      "     |      to the function.\n",
      "     |      \n",
      "     |      Returns\n",
      "     |      -------\n",
      "     |      A ``dict`` of trait names and their values.\n",
      "     |      \n",
      "     |      Notes\n",
      "     |      -----\n",
      "     |      Trait values are retrieved via ``getattr``, any exceptions raised\n",
      "     |      by traits or the operations they may trigger will result in the\n",
      "     |      absence of a trait value in the result ``dict``.\n",
      "     |  \n",
      "     |  traits(self, **metadata)\n",
      "     |      Get a ``dict`` of all the traits of this class.  The dictionary\n",
      "     |      is keyed on the name and the values are the TraitType objects.\n",
      "     |      \n",
      "     |      The TraitTypes returned don't know anything about the values\n",
      "     |      that the various HasTrait's instances are holding.\n",
      "     |      \n",
      "     |      The metadata kwargs allow functions to be passed in which\n",
      "     |      filter traits based on metadata values.  The functions should\n",
      "     |      take a single value as an argument and return a boolean.  If\n",
      "     |      any function returns False, then the trait is not included in\n",
      "     |      the output.  If a metadata key doesn't exist, None will be passed\n",
      "     |      to the function.\n",
      "     |  \n",
      "     |  unobserve(self, handler, names=traitlets.All, type='change')\n",
      "     |      Remove a trait change handler.\n",
      "     |      \n",
      "     |      This is used to unregister handlers to trait change notifications.\n",
      "     |      \n",
      "     |      Parameters\n",
      "     |      ----------\n",
      "     |      handler : callable\n",
      "     |          The callable called when a trait attribute changes.\n",
      "     |      names : list, str, All (default: All)\n",
      "     |          The names of the traits for which the specified handler should be\n",
      "     |          uninstalled. If names is All, the specified handler is uninstalled\n",
      "     |          from the list of notifiers corresponding to all changes.\n",
      "     |      type : str or All (default: 'change')\n",
      "     |          The type of notification to filter by. If All, the specified handler\n",
      "     |          is uninstalled from the list of notifiers corresponding to all types.\n",
      "     |  \n",
      "     |  unobserve_all(self, name=traitlets.All)\n",
      "     |      Remove trait change handlers of any type for the specified name.\n",
      "     |      If name is not specified, removes all trait notifiers.\n",
      "     |  \n",
      "     |  ----------------------------------------------------------------------\n",
      "     |  Class methods inherited from traitlets.traitlets.HasTraits:\n",
      "     |  \n",
      "     |  class_own_trait_events(name) from traitlets.traitlets.MetaHasTraits\n",
      "     |      Get a dict of all event handlers defined on this class, not a parent.\n",
      "     |      \n",
      "     |      Works like ``event_handlers``, except for excluding traits from parents.\n",
      "     |  \n",
      "     |  class_own_traits(**metadata) from traitlets.traitlets.MetaHasTraits\n",
      "     |      Get a dict of all the traitlets defined on this class, not a parent.\n",
      "     |      \n",
      "     |      Works like `class_traits`, except for excluding traits from parents.\n",
      "     |  \n",
      "     |  class_trait_names(**metadata) from traitlets.traitlets.MetaHasTraits\n",
      "     |      Get a list of all the names of this class' traits.\n",
      "     |      \n",
      "     |      This method is just like the :meth:`trait_names` method,\n",
      "     |      but is unbound.\n",
      "     |  \n",
      "     |  class_traits(**metadata) from traitlets.traitlets.MetaHasTraits\n",
      "     |      Get a ``dict`` of all the traits of this class.  The dictionary\n",
      "     |      is keyed on the name and the values are the TraitType objects.\n",
      "     |      \n",
      "     |      This method is just like the :meth:`traits` method, but is unbound.\n",
      "     |      \n",
      "     |      The TraitTypes returned don't know anything about the values\n",
      "     |      that the various HasTrait's instances are holding.\n",
      "     |      \n",
      "     |      The metadata kwargs allow functions to be passed in which\n",
      "     |      filter traits based on metadata values.  The functions should\n",
      "     |      take a single value as an argument and return a boolean.  If\n",
      "     |      any function returns False, then the trait is not included in\n",
      "     |      the output.  If a metadata key doesn't exist, None will be passed\n",
      "     |      to the function.\n",
      "     |  \n",
      "     |  trait_events(name=None) from traitlets.traitlets.MetaHasTraits\n",
      "     |      Get a ``dict`` of all the event handlers of this class.\n",
      "     |      \n",
      "     |      Parameters\n",
      "     |      ----------\n",
      "     |      name : str (default: None)\n",
      "     |          The name of a trait of this class. If name is ``None`` then all\n",
      "     |          the event handlers of this class will be returned instead.\n",
      "     |      \n",
      "     |      Returns\n",
      "     |      -------\n",
      "     |      The event handlers associated with a trait name, or all event handlers.\n",
      "     |  \n",
      "     |  ----------------------------------------------------------------------\n",
      "     |  Readonly properties inherited from traitlets.traitlets.HasTraits:\n",
      "     |  \n",
      "     |  cross_validation_lock\n",
      "     |      A contextmanager for running a block with our cross validation lock set\n",
      "     |      to True.\n",
      "     |      \n",
      "     |      At the end of the block, the lock's value is restored to its value\n",
      "     |      prior to entering the block.\n",
      "     |  \n",
      "     |  ----------------------------------------------------------------------\n",
      "     |  Static methods inherited from traitlets.traitlets.HasDescriptors:\n",
      "     |  \n",
      "     |  __new__(*args, **kwargs)\n",
      "     |      Create and return a new object.  See help(type) for accurate signature.\n",
      "     |  \n",
      "     |  ----------------------------------------------------------------------\n",
      "     |  Data descriptors inherited from traitlets.traitlets.HasDescriptors:\n",
      "     |  \n",
      "     |  __dict__\n",
      "     |      dictionary for instance variables (if defined)\n",
      "     |  \n",
      "     |  __weakref__\n",
      "     |      list of weak references to the object (if defined)\n",
      "    \n",
      "    class FloatLogSlider(_BoundedLogFloat)\n",
      "     |  FloatLogSlider(*args, **kwargs)\n",
      "     |  \n",
      "     |  Slider/trackbar of logarithmic floating values with the specified range.\n",
      "     |  \n",
      "     |  Parameters\n",
      "     |  ----------\n",
      "     |  value : float\n",
      "     |      position of the slider\n",
      "     |  base : float\n",
      "     |      base of the logarithmic scale. Default is 10\n",
      "     |  min : float\n",
      "     |      minimal position of the slider in log scale, i.e., actual minimum is base ** min\n",
      "     |  max : float\n",
      "     |      maximal position of the slider in log scale, i.e., actual maximum is base ** max\n",
      "     |  step : float\n",
      "     |      step of the trackbar, denotes steps for the exponent, not the actual value\n",
      "     |  description : str\n",
      "     |      name of the slider\n",
      "     |  orientation : {'horizontal', 'vertical'}\n",
      "     |      default is 'horizontal', orientation of the slider\n",
      "     |  readout : {True, False}\n",
      "     |      default is True, display the current value of the slider next to it\n",
      "     |  readout_format : str\n",
      "     |      default is '.3g', specifier for the format function used to represent\n",
      "     |      slider value for human consumption, modeled after Python 3's format\n",
      "     |      specification mini-language (PEP 3101).\n",
      "     |  \n",
      "     |  Method resolution order:\n",
      "     |      FloatLogSlider\n",
      "     |      _BoundedLogFloat\n",
      "     |      _Float\n",
      "     |      ipywidgets.widgets.widget_description.DescriptionWidget\n",
      "     |      ipywidgets.widgets.domwidget.DOMWidget\n",
      "     |      ipywidgets.widgets.valuewidget.ValueWidget\n",
      "     |      ipywidgets.widgets.widget_core.CoreWidget\n",
      "     |      ipywidgets.widgets.widget.Widget\n",
      "     |      ipywidgets.widgets.widget.LoggingHasTraits\n",
      "     |      traitlets.traitlets.HasTraits\n",
      "     |      traitlets.traitlets.HasDescriptors\n",
      "     |      builtins.object\n",
      "     |  \n",
      "     |  Data descriptors defined here:\n",
      "     |  \n",
      "     |  base\n",
      "     |  \n",
      "     |  continuous_update\n",
      "     |  \n",
      "     |  disabled\n",
      "     |  \n",
      "     |  orientation\n",
      "     |  \n",
      "     |  readout\n",
      "     |  \n",
      "     |  readout_format\n",
      "     |  \n",
      "     |  step\n",
      "     |  \n",
      "     |  style\n",
      "     |  \n",
      "     |  ----------------------------------------------------------------------\n",
      "     |  Data descriptors inherited from _BoundedLogFloat:\n",
      "     |  \n",
      "     |  max\n",
      "     |  \n",
      "     |  min\n",
      "     |  \n",
      "     |  value\n",
      "     |  \n",
      "     |  ----------------------------------------------------------------------\n",
      "     |  Methods inherited from _Float:\n",
      "     |  \n",
      "     |  __init__(self, value=None, **kwargs)\n",
      "     |      Public constructor\n",
      "     |  \n",
      "     |  ----------------------------------------------------------------------\n",
      "     |  Data descriptors inherited from ipywidgets.widgets.widget_description.DescriptionWidget:\n",
      "     |  \n",
      "     |  description\n",
      "     |  \n",
      "     |  description_tooltip\n",
      "     |  \n",
      "     |  ----------------------------------------------------------------------\n",
      "     |  Methods inherited from ipywidgets.widgets.domwidget.DOMWidget:\n",
      "     |  \n",
      "     |  add_class(self, className)\n",
      "     |      Adds a class to the top level element of the widget.\n",
      "     |      \n",
      "     |      Doesn't add the class if it already exists.\n",
      "     |  \n",
      "     |  remove_class(self, className)\n",
      "     |      Removes a class from the top level element of the widget.\n",
      "     |      \n",
      "     |      Doesn't remove the class if it doesn't exist.\n",
      "     |  \n",
      "     |  ----------------------------------------------------------------------\n",
      "     |  Data descriptors inherited from ipywidgets.widgets.domwidget.DOMWidget:\n",
      "     |  \n",
      "     |  layout\n",
      "     |  \n",
      "     |  ----------------------------------------------------------------------\n",
      "     |  Methods inherited from ipywidgets.widgets.valuewidget.ValueWidget:\n",
      "     |  \n",
      "     |  get_interact_value(self)\n",
      "     |      Return the value for this widget which should be passed to\n",
      "     |      interactive functions. Custom widgets can change this method\n",
      "     |      to process the raw value ``self.value``.\n",
      "     |  \n",
      "     |  ----------------------------------------------------------------------\n",
      "     |  Methods inherited from ipywidgets.widgets.widget.Widget:\n",
      "     |  \n",
      "     |  __del__(self)\n",
      "     |      Object disposal\n",
      "     |  \n",
      "     |  __repr__(self)\n",
      "     |      Return repr(self).\n",
      "     |  \n",
      "     |  add_traits(self, **traits)\n",
      "     |      Dynamically add trait attributes to the Widget.\n",
      "     |  \n",
      "     |  close(self)\n",
      "     |      Close method.\n",
      "     |      \n",
      "     |      Closes the underlying comm.\n",
      "     |      When the comm is closed, all of the widget views are automatically\n",
      "     |      removed from the front-end.\n",
      "     |  \n",
      "     |  get_state(self, key=None, drop_defaults=False)\n",
      "     |      Gets the widget state, or a piece of it.\n",
      "     |      \n",
      "     |      Parameters\n",
      "     |      ----------\n",
      "     |      key : unicode or iterable (optional)\n",
      "     |          A single property's name or iterable of property names to get.\n",
      "     |      \n",
      "     |      Returns\n",
      "     |      -------\n",
      "     |      state : dict of states\n",
      "     |      metadata : dict\n",
      "     |          metadata for each field: {key: metadata}\n",
      "     |  \n",
      "     |  get_view_spec(self)\n",
      "     |  \n",
      "     |  hold_sync(self)\n",
      "     |      Hold syncing any state until the outermost context manager exits\n",
      "     |  \n",
      "     |  notify_change(self, change)\n",
      "     |      Called when a property has changed.\n",
      "     |  \n",
      "     |  on_displayed(self, callback, remove=False)\n",
      "     |      (Un)Register a widget displayed callback.\n",
      "     |      \n",
      "     |      Parameters\n",
      "     |      ----------\n",
      "     |      callback: method handler\n",
      "     |          Must have a signature of::\n",
      "     |      \n",
      "     |              callback(widget, **kwargs)\n",
      "     |      \n",
      "     |          kwargs from display are passed through without modification.\n",
      "     |      remove: bool\n",
      "     |          True if the callback should be unregistered.\n",
      "     |  \n",
      "     |  on_msg(self, callback, remove=False)\n",
      "     |      (Un)Register a custom msg receive callback.\n",
      "     |      \n",
      "     |      Parameters\n",
      "     |      ----------\n",
      "     |      callback: callable\n",
      "     |          callback will be passed three arguments when a message arrives::\n",
      "     |      \n",
      "     |              callback(widget, content, buffers)\n",
      "     |      \n",
      "     |      remove: bool\n",
      "     |          True if the callback should be unregistered.\n",
      "     |  \n",
      "     |  open(self)\n",
      "     |      Open a comm to the frontend if one isn't already open.\n",
      "     |  \n",
      "     |  send(self, content, buffers=None)\n",
      "     |      Sends a custom msg to the widget model in the front-end.\n",
      "     |      \n",
      "     |      Parameters\n",
      "     |      ----------\n",
      "     |      content : dict\n",
      "     |          Content of the message to send.\n",
      "     |      buffers : list of binary buffers\n",
      "     |          Binary buffers to send with message\n",
      "     |  \n",
      "     |  send_state(self, key=None)\n",
      "     |      Sends the widget state, or a piece of it, to the front-end, if it exists.\n",
      "     |      \n",
      "     |      Parameters\n",
      "     |      ----------\n",
      "     |      key : unicode, or iterable (optional)\n",
      "     |          A single property's name or iterable of property names to sync with the front-end.\n",
      "     |  \n",
      "     |  set_state(self, sync_data)\n",
      "     |      Called when a state is received from the front-end.\n",
      "     |  \n",
      "     |  ----------------------------------------------------------------------\n",
      "     |  Class methods inherited from ipywidgets.widgets.widget.Widget:\n",
      "     |  \n",
      "     |  close_all() from traitlets.traitlets.MetaHasTraits\n",
      "     |  \n",
      "     |  ----------------------------------------------------------------------\n",
      "     |  Static methods inherited from ipywidgets.widgets.widget.Widget:\n",
      "     |  \n",
      "     |  get_manager_state(drop_defaults=False, widgets=None)\n",
      "     |      Returns the full state for a widget manager for embedding\n",
      "     |      \n",
      "     |      :param drop_defaults: when True, it will not include default value\n",
      "     |      :param widgets: list with widgets to include in the state (or all widgets when None)\n",
      "     |      :return:\n",
      "     |  \n",
      "     |  handle_comm_opened(comm, msg)\n",
      "     |      Static method, called when a widget is constructed.\n",
      "     |  \n",
      "     |  on_widget_constructed(callback)\n",
      "     |      Registers a callback to be called when a widget is constructed.\n",
      "     |      \n",
      "     |      The callback must have the following signature:\n",
      "     |      callback(widget)\n",
      "     |  \n",
      "     |  ----------------------------------------------------------------------\n",
      "     |  Readonly properties inherited from ipywidgets.widgets.widget.Widget:\n",
      "     |  \n",
      "     |  model_id\n",
      "     |      Gets the model id of this widget.\n",
      "     |      \n",
      "     |      If a Comm doesn't exist yet, a Comm will be created automagically.\n",
      "     |  \n",
      "     |  ----------------------------------------------------------------------\n",
      "     |  Data descriptors inherited from ipywidgets.widgets.widget.Widget:\n",
      "     |  \n",
      "     |  comm\n",
      "     |  \n",
      "     |  keys\n",
      "     |  \n",
      "     |  ----------------------------------------------------------------------\n",
      "     |  Data and other attributes inherited from ipywidgets.widgets.widget.Widget:\n",
      "     |  \n",
      "     |  widget_types = <ipywidgets.widgets.widget.WidgetRegistry object>\n",
      "     |  \n",
      "     |  widgets = {'001cda02f2a34b929f1f582967394721': BufferAttribute(array=a...\n",
      "     |  \n",
      "     |  ----------------------------------------------------------------------\n",
      "     |  Data descriptors inherited from ipywidgets.widgets.widget.LoggingHasTraits:\n",
      "     |  \n",
      "     |  log\n",
      "     |  \n",
      "     |  ----------------------------------------------------------------------\n",
      "     |  Methods inherited from traitlets.traitlets.HasTraits:\n",
      "     |  \n",
      "     |  __getstate__(self)\n",
      "     |  \n",
      "     |  __setstate__(self, state)\n",
      "     |  \n",
      "     |  has_trait(self, name)\n",
      "     |      Returns True if the object has a trait with the specified name.\n",
      "     |  \n",
      "     |  hold_trait_notifications(self)\n",
      "     |      Context manager for bundling trait change notifications and cross\n",
      "     |      validation.\n",
      "     |      \n",
      "     |      Use this when doing multiple trait assignments (init, config), to avoid\n",
      "     |      race conditions in trait notifiers requesting other trait values.\n",
      "     |      All trait notifications will fire after all values have been assigned.\n",
      "     |  \n",
      "     |  observe(self, handler, names=traitlets.All, type='change')\n",
      "     |      Setup a handler to be called when a trait changes.\n",
      "     |      \n",
      "     |      This is used to setup dynamic notifications of trait changes.\n",
      "     |      \n",
      "     |      Parameters\n",
      "     |      ----------\n",
      "     |      handler : callable\n",
      "     |          A callable that is called when a trait changes. Its\n",
      "     |          signature should be ``handler(change)``, where ``change`` is a\n",
      "     |          dictionary. The change dictionary at least holds a 'type' key.\n",
      "     |          * ``type``: the type of notification.\n",
      "     |          Other keys may be passed depending on the value of 'type'. In the\n",
      "     |          case where type is 'change', we also have the following keys:\n",
      "     |          * ``owner`` : the HasTraits instance\n",
      "     |          * ``old`` : the old value of the modified trait attribute\n",
      "     |          * ``new`` : the new value of the modified trait attribute\n",
      "     |          * ``name`` : the name of the modified trait attribute.\n",
      "     |      names : list, str, All\n",
      "     |          If names is All, the handler will apply to all traits.  If a list\n",
      "     |          of str, handler will apply to all names in the list.  If a\n",
      "     |          str, the handler will apply just to that name.\n",
      "     |      type : str, All (default: 'change')\n",
      "     |          The type of notification to filter by. If equal to All, then all\n",
      "     |          notifications are passed to the observe handler.\n",
      "     |  \n",
      "     |  on_trait_change(self, handler=None, name=None, remove=False)\n",
      "     |      DEPRECATED: Setup a handler to be called when a trait changes.\n",
      "     |      \n",
      "     |      This is used to setup dynamic notifications of trait changes.\n",
      "     |      \n",
      "     |      Static handlers can be created by creating methods on a HasTraits\n",
      "     |      subclass with the naming convention '_[traitname]_changed'.  Thus,\n",
      "     |      to create static handler for the trait 'a', create the method\n",
      "     |      _a_changed(self, name, old, new) (fewer arguments can be used, see\n",
      "     |      below).\n",
      "     |      \n",
      "     |      If `remove` is True and `handler` is not specified, all change\n",
      "     |      handlers for the specified name are uninstalled.\n",
      "     |      \n",
      "     |      Parameters\n",
      "     |      ----------\n",
      "     |      handler : callable, None\n",
      "     |          A callable that is called when a trait changes.  Its\n",
      "     |          signature can be handler(), handler(name), handler(name, new),\n",
      "     |          handler(name, old, new), or handler(name, old, new, self).\n",
      "     |      name : list, str, None\n",
      "     |          If None, the handler will apply to all traits.  If a list\n",
      "     |          of str, handler will apply to all names in the list.  If a\n",
      "     |          str, the handler will apply just to that name.\n",
      "     |      remove : bool\n",
      "     |          If False (the default), then install the handler.  If True\n",
      "     |          then unintall it.\n",
      "     |  \n",
      "     |  set_trait(self, name, value)\n",
      "     |      Forcibly sets trait attribute, including read-only attributes.\n",
      "     |  \n",
      "     |  setup_instance(*args, **kwargs)\n",
      "     |      This is called **before** self.__init__ is called.\n",
      "     |  \n",
      "     |  trait_defaults(self, *names, **metadata)\n",
      "     |      Return a trait's default value or a dictionary of them\n",
      "     |      \n",
      "     |      Notes\n",
      "     |      -----\n",
      "     |      Dynamically generated default values may\n",
      "     |      depend on the current state of the object.\n",
      "     |  \n",
      "     |  trait_has_value(self, name)\n",
      "     |      Returns True if the specified trait has a value.\n",
      "     |      \n",
      "     |      This will return false even if ``getattr`` would return a\n",
      "     |      dynamically generated default value. These default values\n",
      "     |      will be recognized as existing only after they have been\n",
      "     |      generated.\n",
      "     |      \n",
      "     |      Example\n",
      "     |      \n",
      "     |      .. code-block:: python\n",
      "     |      \n",
      "     |          class MyClass(HasTraits):\n",
      "     |              i = Int()\n",
      "     |      \n",
      "     |          mc = MyClass()\n",
      "     |          assert not mc.trait_has_value(\"i\")\n",
      "     |          mc.i # generates a default value\n",
      "     |          assert mc.trait_has_value(\"i\")\n",
      "     |  \n",
      "     |  trait_metadata(self, traitname, key, default=None)\n",
      "     |      Get metadata values for trait by key.\n",
      "     |  \n",
      "     |  trait_names(self, **metadata)\n",
      "     |      Get a list of all the names of this class' traits.\n",
      "     |  \n",
      "     |  trait_values(self, **metadata)\n",
      "     |      A ``dict`` of trait names and their values.\n",
      "     |      \n",
      "     |      The metadata kwargs allow functions to be passed in which\n",
      "     |      filter traits based on metadata values.  The functions should\n",
      "     |      take a single value as an argument and return a boolean.  If\n",
      "     |      any function returns False, then the trait is not included in\n",
      "     |      the output.  If a metadata key doesn't exist, None will be passed\n",
      "     |      to the function.\n",
      "     |      \n",
      "     |      Returns\n",
      "     |      -------\n",
      "     |      A ``dict`` of trait names and their values.\n",
      "     |      \n",
      "     |      Notes\n",
      "     |      -----\n",
      "     |      Trait values are retrieved via ``getattr``, any exceptions raised\n",
      "     |      by traits or the operations they may trigger will result in the\n",
      "     |      absence of a trait value in the result ``dict``.\n",
      "     |  \n",
      "     |  traits(self, **metadata)\n",
      "     |      Get a ``dict`` of all the traits of this class.  The dictionary\n",
      "     |      is keyed on the name and the values are the TraitType objects.\n",
      "     |      \n",
      "     |      The TraitTypes returned don't know anything about the values\n",
      "     |      that the various HasTrait's instances are holding.\n",
      "     |      \n",
      "     |      The metadata kwargs allow functions to be passed in which\n",
      "     |      filter traits based on metadata values.  The functions should\n",
      "     |      take a single value as an argument and return a boolean.  If\n",
      "     |      any function returns False, then the trait is not included in\n",
      "     |      the output.  If a metadata key doesn't exist, None will be passed\n",
      "     |      to the function.\n",
      "     |  \n",
      "     |  unobserve(self, handler, names=traitlets.All, type='change')\n",
      "     |      Remove a trait change handler.\n",
      "     |      \n",
      "     |      This is used to unregister handlers to trait change notifications.\n",
      "     |      \n",
      "     |      Parameters\n",
      "     |      ----------\n",
      "     |      handler : callable\n",
      "     |          The callable called when a trait attribute changes.\n",
      "     |      names : list, str, All (default: All)\n",
      "     |          The names of the traits for which the specified handler should be\n",
      "     |          uninstalled. If names is All, the specified handler is uninstalled\n",
      "     |          from the list of notifiers corresponding to all changes.\n",
      "     |      type : str or All (default: 'change')\n",
      "     |          The type of notification to filter by. If All, the specified handler\n",
      "     |          is uninstalled from the list of notifiers corresponding to all types.\n",
      "     |  \n",
      "     |  unobserve_all(self, name=traitlets.All)\n",
      "     |      Remove trait change handlers of any type for the specified name.\n",
      "     |      If name is not specified, removes all trait notifiers.\n",
      "     |  \n",
      "     |  ----------------------------------------------------------------------\n",
      "     |  Class methods inherited from traitlets.traitlets.HasTraits:\n",
      "     |  \n",
      "     |  class_own_trait_events(name) from traitlets.traitlets.MetaHasTraits\n",
      "     |      Get a dict of all event handlers defined on this class, not a parent.\n",
      "     |      \n",
      "     |      Works like ``event_handlers``, except for excluding traits from parents.\n",
      "     |  \n",
      "     |  class_own_traits(**metadata) from traitlets.traitlets.MetaHasTraits\n",
      "     |      Get a dict of all the traitlets defined on this class, not a parent.\n",
      "     |      \n",
      "     |      Works like `class_traits`, except for excluding traits from parents.\n",
      "     |  \n",
      "     |  class_trait_names(**metadata) from traitlets.traitlets.MetaHasTraits\n",
      "     |      Get a list of all the names of this class' traits.\n",
      "     |      \n",
      "     |      This method is just like the :meth:`trait_names` method,\n",
      "     |      but is unbound.\n",
      "     |  \n",
      "     |  class_traits(**metadata) from traitlets.traitlets.MetaHasTraits\n",
      "     |      Get a ``dict`` of all the traits of this class.  The dictionary\n",
      "     |      is keyed on the name and the values are the TraitType objects.\n",
      "     |      \n",
      "     |      This method is just like the :meth:`traits` method, but is unbound.\n",
      "     |      \n",
      "     |      The TraitTypes returned don't know anything about the values\n",
      "     |      that the various HasTrait's instances are holding.\n",
      "     |      \n",
      "     |      The metadata kwargs allow functions to be passed in which\n",
      "     |      filter traits based on metadata values.  The functions should\n",
      "     |      take a single value as an argument and return a boolean.  If\n",
      "     |      any function returns False, then the trait is not included in\n",
      "     |      the output.  If a metadata key doesn't exist, None will be passed\n",
      "     |      to the function.\n",
      "     |  \n",
      "     |  trait_events(name=None) from traitlets.traitlets.MetaHasTraits\n",
      "     |      Get a ``dict`` of all the event handlers of this class.\n",
      "     |      \n",
      "     |      Parameters\n",
      "     |      ----------\n",
      "     |      name : str (default: None)\n",
      "     |          The name of a trait of this class. If name is ``None`` then all\n",
      "     |          the event handlers of this class will be returned instead.\n",
      "     |      \n",
      "     |      Returns\n",
      "     |      -------\n",
      "     |      The event handlers associated with a trait name, or all event handlers.\n",
      "     |  \n",
      "     |  ----------------------------------------------------------------------\n",
      "     |  Readonly properties inherited from traitlets.traitlets.HasTraits:\n",
      "     |  \n",
      "     |  cross_validation_lock\n",
      "     |      A contextmanager for running a block with our cross validation lock set\n",
      "     |      to True.\n",
      "     |      \n",
      "     |      At the end of the block, the lock's value is restored to its value\n",
      "     |      prior to entering the block.\n",
      "     |  \n",
      "     |  ----------------------------------------------------------------------\n",
      "     |  Static methods inherited from traitlets.traitlets.HasDescriptors:\n",
      "     |  \n",
      "     |  __new__(*args, **kwargs)\n",
      "     |      Create and return a new object.  See help(type) for accurate signature.\n",
      "     |  \n",
      "     |  ----------------------------------------------------------------------\n",
      "     |  Data descriptors inherited from traitlets.traitlets.HasDescriptors:\n",
      "     |  \n",
      "     |  __dict__\n",
      "     |      dictionary for instance variables (if defined)\n",
      "     |  \n",
      "     |  __weakref__\n",
      "     |      list of weak references to the object (if defined)\n",
      "    \n",
      "    class FloatProgress(_BoundedFloat)\n",
      "     |  FloatProgress(*args, **kwargs)\n",
      "     |  \n",
      "     |  Displays a progress bar.\n",
      "     |  \n",
      "     |  Parameters\n",
      "     |  -----------\n",
      "     |  value : float\n",
      "     |      position within the range of the progress bar\n",
      "     |  min : float\n",
      "     |      minimal position of the slider\n",
      "     |  max : float\n",
      "     |      maximal position of the slider\n",
      "     |  description : str\n",
      "     |      name of the progress bar\n",
      "     |  orientation : {'horizontal', 'vertical'}\n",
      "     |      default is 'horizontal', orientation of the progress bar\n",
      "     |  bar_style: {'success', 'info', 'warning', 'danger', ''}\n",
      "     |      color of the progress bar, default is '' (blue)\n",
      "     |      colors are: 'success'-green, 'info'-light blue, 'warning'-orange, 'danger'-red\n",
      "     |  \n",
      "     |  Method resolution order:\n",
      "     |      FloatProgress\n",
      "     |      _BoundedFloat\n",
      "     |      _Float\n",
      "     |      ipywidgets.widgets.widget_description.DescriptionWidget\n",
      "     |      ipywidgets.widgets.domwidget.DOMWidget\n",
      "     |      ipywidgets.widgets.valuewidget.ValueWidget\n",
      "     |      ipywidgets.widgets.widget_core.CoreWidget\n",
      "     |      ipywidgets.widgets.widget.Widget\n",
      "     |      ipywidgets.widgets.widget.LoggingHasTraits\n",
      "     |      traitlets.traitlets.HasTraits\n",
      "     |      traitlets.traitlets.HasDescriptors\n",
      "     |      builtins.object\n",
      "     |  \n",
      "     |  Data descriptors defined here:\n",
      "     |  \n",
      "     |  bar_style\n",
      "     |  \n",
      "     |  orientation\n",
      "     |  \n",
      "     |  style\n",
      "     |  \n",
      "     |  ----------------------------------------------------------------------\n",
      "     |  Data descriptors inherited from _BoundedFloat:\n",
      "     |  \n",
      "     |  max\n",
      "     |  \n",
      "     |  min\n",
      "     |  \n",
      "     |  ----------------------------------------------------------------------\n",
      "     |  Methods inherited from _Float:\n",
      "     |  \n",
      "     |  __init__(self, value=None, **kwargs)\n",
      "     |      Public constructor\n",
      "     |  \n",
      "     |  ----------------------------------------------------------------------\n",
      "     |  Data descriptors inherited from _Float:\n",
      "     |  \n",
      "     |  value\n",
      "     |  \n",
      "     |  ----------------------------------------------------------------------\n",
      "     |  Data descriptors inherited from ipywidgets.widgets.widget_description.DescriptionWidget:\n",
      "     |  \n",
      "     |  description\n",
      "     |  \n",
      "     |  description_tooltip\n",
      "     |  \n",
      "     |  ----------------------------------------------------------------------\n",
      "     |  Methods inherited from ipywidgets.widgets.domwidget.DOMWidget:\n",
      "     |  \n",
      "     |  add_class(self, className)\n",
      "     |      Adds a class to the top level element of the widget.\n",
      "     |      \n",
      "     |      Doesn't add the class if it already exists.\n",
      "     |  \n",
      "     |  remove_class(self, className)\n",
      "     |      Removes a class from the top level element of the widget.\n",
      "     |      \n",
      "     |      Doesn't remove the class if it doesn't exist.\n",
      "     |  \n",
      "     |  ----------------------------------------------------------------------\n",
      "     |  Data descriptors inherited from ipywidgets.widgets.domwidget.DOMWidget:\n",
      "     |  \n",
      "     |  layout\n",
      "     |  \n",
      "     |  ----------------------------------------------------------------------\n",
      "     |  Methods inherited from ipywidgets.widgets.valuewidget.ValueWidget:\n",
      "     |  \n",
      "     |  get_interact_value(self)\n",
      "     |      Return the value for this widget which should be passed to\n",
      "     |      interactive functions. Custom widgets can change this method\n",
      "     |      to process the raw value ``self.value``.\n",
      "     |  \n",
      "     |  ----------------------------------------------------------------------\n",
      "     |  Methods inherited from ipywidgets.widgets.widget.Widget:\n",
      "     |  \n",
      "     |  __del__(self)\n",
      "     |      Object disposal\n",
      "     |  \n",
      "     |  __repr__(self)\n",
      "     |      Return repr(self).\n",
      "     |  \n",
      "     |  add_traits(self, **traits)\n",
      "     |      Dynamically add trait attributes to the Widget.\n",
      "     |  \n",
      "     |  close(self)\n",
      "     |      Close method.\n",
      "     |      \n",
      "     |      Closes the underlying comm.\n",
      "     |      When the comm is closed, all of the widget views are automatically\n",
      "     |      removed from the front-end.\n",
      "     |  \n",
      "     |  get_state(self, key=None, drop_defaults=False)\n",
      "     |      Gets the widget state, or a piece of it.\n",
      "     |      \n",
      "     |      Parameters\n",
      "     |      ----------\n",
      "     |      key : unicode or iterable (optional)\n",
      "     |          A single property's name or iterable of property names to get.\n",
      "     |      \n",
      "     |      Returns\n",
      "     |      -------\n",
      "     |      state : dict of states\n",
      "     |      metadata : dict\n",
      "     |          metadata for each field: {key: metadata}\n",
      "     |  \n",
      "     |  get_view_spec(self)\n",
      "     |  \n",
      "     |  hold_sync(self)\n",
      "     |      Hold syncing any state until the outermost context manager exits\n",
      "     |  \n",
      "     |  notify_change(self, change)\n",
      "     |      Called when a property has changed.\n",
      "     |  \n",
      "     |  on_displayed(self, callback, remove=False)\n",
      "     |      (Un)Register a widget displayed callback.\n",
      "     |      \n",
      "     |      Parameters\n",
      "     |      ----------\n",
      "     |      callback: method handler\n",
      "     |          Must have a signature of::\n",
      "     |      \n",
      "     |              callback(widget, **kwargs)\n",
      "     |      \n",
      "     |          kwargs from display are passed through without modification.\n",
      "     |      remove: bool\n",
      "     |          True if the callback should be unregistered.\n",
      "     |  \n",
      "     |  on_msg(self, callback, remove=False)\n",
      "     |      (Un)Register a custom msg receive callback.\n",
      "     |      \n",
      "     |      Parameters\n",
      "     |      ----------\n",
      "     |      callback: callable\n",
      "     |          callback will be passed three arguments when a message arrives::\n",
      "     |      \n",
      "     |              callback(widget, content, buffers)\n",
      "     |      \n",
      "     |      remove: bool\n",
      "     |          True if the callback should be unregistered.\n",
      "     |  \n",
      "     |  open(self)\n",
      "     |      Open a comm to the frontend if one isn't already open.\n",
      "     |  \n",
      "     |  send(self, content, buffers=None)\n",
      "     |      Sends a custom msg to the widget model in the front-end.\n",
      "     |      \n",
      "     |      Parameters\n",
      "     |      ----------\n",
      "     |      content : dict\n",
      "     |          Content of the message to send.\n",
      "     |      buffers : list of binary buffers\n",
      "     |          Binary buffers to send with message\n",
      "     |  \n",
      "     |  send_state(self, key=None)\n",
      "     |      Sends the widget state, or a piece of it, to the front-end, if it exists.\n",
      "     |      \n",
      "     |      Parameters\n",
      "     |      ----------\n",
      "     |      key : unicode, or iterable (optional)\n",
      "     |          A single property's name or iterable of property names to sync with the front-end.\n",
      "     |  \n",
      "     |  set_state(self, sync_data)\n",
      "     |      Called when a state is received from the front-end.\n",
      "     |  \n",
      "     |  ----------------------------------------------------------------------\n",
      "     |  Class methods inherited from ipywidgets.widgets.widget.Widget:\n",
      "     |  \n",
      "     |  close_all() from traitlets.traitlets.MetaHasTraits\n",
      "     |  \n",
      "     |  ----------------------------------------------------------------------\n",
      "     |  Static methods inherited from ipywidgets.widgets.widget.Widget:\n",
      "     |  \n",
      "     |  get_manager_state(drop_defaults=False, widgets=None)\n",
      "     |      Returns the full state for a widget manager for embedding\n",
      "     |      \n",
      "     |      :param drop_defaults: when True, it will not include default value\n",
      "     |      :param widgets: list with widgets to include in the state (or all widgets when None)\n",
      "     |      :return:\n",
      "     |  \n",
      "     |  handle_comm_opened(comm, msg)\n",
      "     |      Static method, called when a widget is constructed.\n",
      "     |  \n",
      "     |  on_widget_constructed(callback)\n",
      "     |      Registers a callback to be called when a widget is constructed.\n",
      "     |      \n",
      "     |      The callback must have the following signature:\n",
      "     |      callback(widget)\n",
      "     |  \n",
      "     |  ----------------------------------------------------------------------\n",
      "     |  Readonly properties inherited from ipywidgets.widgets.widget.Widget:\n",
      "     |  \n",
      "     |  model_id\n",
      "     |      Gets the model id of this widget.\n",
      "     |      \n",
      "     |      If a Comm doesn't exist yet, a Comm will be created automagically.\n",
      "     |  \n",
      "     |  ----------------------------------------------------------------------\n",
      "     |  Data descriptors inherited from ipywidgets.widgets.widget.Widget:\n",
      "     |  \n",
      "     |  comm\n",
      "     |  \n",
      "     |  keys\n",
      "     |  \n",
      "     |  ----------------------------------------------------------------------\n",
      "     |  Data and other attributes inherited from ipywidgets.widgets.widget.Widget:\n",
      "     |  \n",
      "     |  widget_types = <ipywidgets.widgets.widget.WidgetRegistry object>\n",
      "     |  \n",
      "     |  widgets = {'001cda02f2a34b929f1f582967394721': BufferAttribute(array=a...\n",
      "     |  \n",
      "     |  ----------------------------------------------------------------------\n",
      "     |  Data descriptors inherited from ipywidgets.widgets.widget.LoggingHasTraits:\n",
      "     |  \n",
      "     |  log\n",
      "     |  \n",
      "     |  ----------------------------------------------------------------------\n",
      "     |  Methods inherited from traitlets.traitlets.HasTraits:\n",
      "     |  \n",
      "     |  __getstate__(self)\n",
      "     |  \n",
      "     |  __setstate__(self, state)\n",
      "     |  \n",
      "     |  has_trait(self, name)\n",
      "     |      Returns True if the object has a trait with the specified name.\n",
      "     |  \n",
      "     |  hold_trait_notifications(self)\n",
      "     |      Context manager for bundling trait change notifications and cross\n",
      "     |      validation.\n",
      "     |      \n",
      "     |      Use this when doing multiple trait assignments (init, config), to avoid\n",
      "     |      race conditions in trait notifiers requesting other trait values.\n",
      "     |      All trait notifications will fire after all values have been assigned.\n",
      "     |  \n",
      "     |  observe(self, handler, names=traitlets.All, type='change')\n",
      "     |      Setup a handler to be called when a trait changes.\n",
      "     |      \n",
      "     |      This is used to setup dynamic notifications of trait changes.\n",
      "     |      \n",
      "     |      Parameters\n",
      "     |      ----------\n",
      "     |      handler : callable\n",
      "     |          A callable that is called when a trait changes. Its\n",
      "     |          signature should be ``handler(change)``, where ``change`` is a\n",
      "     |          dictionary. The change dictionary at least holds a 'type' key.\n",
      "     |          * ``type``: the type of notification.\n",
      "     |          Other keys may be passed depending on the value of 'type'. In the\n",
      "     |          case where type is 'change', we also have the following keys:\n",
      "     |          * ``owner`` : the HasTraits instance\n",
      "     |          * ``old`` : the old value of the modified trait attribute\n",
      "     |          * ``new`` : the new value of the modified trait attribute\n",
      "     |          * ``name`` : the name of the modified trait attribute.\n",
      "     |      names : list, str, All\n",
      "     |          If names is All, the handler will apply to all traits.  If a list\n",
      "     |          of str, handler will apply to all names in the list.  If a\n",
      "     |          str, the handler will apply just to that name.\n",
      "     |      type : str, All (default: 'change')\n",
      "     |          The type of notification to filter by. If equal to All, then all\n",
      "     |          notifications are passed to the observe handler.\n",
      "     |  \n",
      "     |  on_trait_change(self, handler=None, name=None, remove=False)\n",
      "     |      DEPRECATED: Setup a handler to be called when a trait changes.\n",
      "     |      \n",
      "     |      This is used to setup dynamic notifications of trait changes.\n",
      "     |      \n",
      "     |      Static handlers can be created by creating methods on a HasTraits\n",
      "     |      subclass with the naming convention '_[traitname]_changed'.  Thus,\n",
      "     |      to create static handler for the trait 'a', create the method\n",
      "     |      _a_changed(self, name, old, new) (fewer arguments can be used, see\n",
      "     |      below).\n",
      "     |      \n",
      "     |      If `remove` is True and `handler` is not specified, all change\n",
      "     |      handlers for the specified name are uninstalled.\n",
      "     |      \n",
      "     |      Parameters\n",
      "     |      ----------\n",
      "     |      handler : callable, None\n",
      "     |          A callable that is called when a trait changes.  Its\n",
      "     |          signature can be handler(), handler(name), handler(name, new),\n",
      "     |          handler(name, old, new), or handler(name, old, new, self).\n",
      "     |      name : list, str, None\n",
      "     |          If None, the handler will apply to all traits.  If a list\n",
      "     |          of str, handler will apply to all names in the list.  If a\n",
      "     |          str, the handler will apply just to that name.\n",
      "     |      remove : bool\n",
      "     |          If False (the default), then install the handler.  If True\n",
      "     |          then unintall it.\n",
      "     |  \n",
      "     |  set_trait(self, name, value)\n",
      "     |      Forcibly sets trait attribute, including read-only attributes.\n",
      "     |  \n",
      "     |  setup_instance(*args, **kwargs)\n",
      "     |      This is called **before** self.__init__ is called.\n",
      "     |  \n",
      "     |  trait_defaults(self, *names, **metadata)\n",
      "     |      Return a trait's default value or a dictionary of them\n",
      "     |      \n",
      "     |      Notes\n",
      "     |      -----\n",
      "     |      Dynamically generated default values may\n",
      "     |      depend on the current state of the object.\n",
      "     |  \n",
      "     |  trait_has_value(self, name)\n",
      "     |      Returns True if the specified trait has a value.\n",
      "     |      \n",
      "     |      This will return false even if ``getattr`` would return a\n",
      "     |      dynamically generated default value. These default values\n",
      "     |      will be recognized as existing only after they have been\n",
      "     |      generated.\n",
      "     |      \n",
      "     |      Example\n",
      "     |      \n",
      "     |      .. code-block:: python\n",
      "     |      \n",
      "     |          class MyClass(HasTraits):\n",
      "     |              i = Int()\n",
      "     |      \n",
      "     |          mc = MyClass()\n",
      "     |          assert not mc.trait_has_value(\"i\")\n",
      "     |          mc.i # generates a default value\n",
      "     |          assert mc.trait_has_value(\"i\")\n",
      "     |  \n",
      "     |  trait_metadata(self, traitname, key, default=None)\n",
      "     |      Get metadata values for trait by key.\n",
      "     |  \n",
      "     |  trait_names(self, **metadata)\n",
      "     |      Get a list of all the names of this class' traits.\n",
      "     |  \n",
      "     |  trait_values(self, **metadata)\n",
      "     |      A ``dict`` of trait names and their values.\n",
      "     |      \n",
      "     |      The metadata kwargs allow functions to be passed in which\n",
      "     |      filter traits based on metadata values.  The functions should\n",
      "     |      take a single value as an argument and return a boolean.  If\n",
      "     |      any function returns False, then the trait is not included in\n",
      "     |      the output.  If a metadata key doesn't exist, None will be passed\n",
      "     |      to the function.\n",
      "     |      \n",
      "     |      Returns\n",
      "     |      -------\n",
      "     |      A ``dict`` of trait names and their values.\n",
      "     |      \n",
      "     |      Notes\n",
      "     |      -----\n",
      "     |      Trait values are retrieved via ``getattr``, any exceptions raised\n",
      "     |      by traits or the operations they may trigger will result in the\n",
      "     |      absence of a trait value in the result ``dict``.\n",
      "     |  \n",
      "     |  traits(self, **metadata)\n",
      "     |      Get a ``dict`` of all the traits of this class.  The dictionary\n",
      "     |      is keyed on the name and the values are the TraitType objects.\n",
      "     |      \n",
      "     |      The TraitTypes returned don't know anything about the values\n",
      "     |      that the various HasTrait's instances are holding.\n",
      "     |      \n",
      "     |      The metadata kwargs allow functions to be passed in which\n",
      "     |      filter traits based on metadata values.  The functions should\n",
      "     |      take a single value as an argument and return a boolean.  If\n",
      "     |      any function returns False, then the trait is not included in\n",
      "     |      the output.  If a metadata key doesn't exist, None will be passed\n",
      "     |      to the function.\n",
      "     |  \n",
      "     |  unobserve(self, handler, names=traitlets.All, type='change')\n",
      "     |      Remove a trait change handler.\n",
      "     |      \n",
      "     |      This is used to unregister handlers to trait change notifications.\n",
      "     |      \n",
      "     |      Parameters\n",
      "     |      ----------\n",
      "     |      handler : callable\n",
      "     |          The callable called when a trait attribute changes.\n",
      "     |      names : list, str, All (default: All)\n",
      "     |          The names of the traits for which the specified handler should be\n",
      "     |          uninstalled. If names is All, the specified handler is uninstalled\n",
      "     |          from the list of notifiers corresponding to all changes.\n",
      "     |      type : str or All (default: 'change')\n",
      "     |          The type of notification to filter by. If All, the specified handler\n",
      "     |          is uninstalled from the list of notifiers corresponding to all types.\n",
      "     |  \n",
      "     |  unobserve_all(self, name=traitlets.All)\n",
      "     |      Remove trait change handlers of any type for the specified name.\n",
      "     |      If name is not specified, removes all trait notifiers.\n",
      "     |  \n",
      "     |  ----------------------------------------------------------------------\n",
      "     |  Class methods inherited from traitlets.traitlets.HasTraits:\n",
      "     |  \n",
      "     |  class_own_trait_events(name) from traitlets.traitlets.MetaHasTraits\n",
      "     |      Get a dict of all event handlers defined on this class, not a parent.\n",
      "     |      \n",
      "     |      Works like ``event_handlers``, except for excluding traits from parents.\n",
      "     |  \n",
      "     |  class_own_traits(**metadata) from traitlets.traitlets.MetaHasTraits\n",
      "     |      Get a dict of all the traitlets defined on this class, not a parent.\n",
      "     |      \n",
      "     |      Works like `class_traits`, except for excluding traits from parents.\n",
      "     |  \n",
      "     |  class_trait_names(**metadata) from traitlets.traitlets.MetaHasTraits\n",
      "     |      Get a list of all the names of this class' traits.\n",
      "     |      \n",
      "     |      This method is just like the :meth:`trait_names` method,\n",
      "     |      but is unbound.\n",
      "     |  \n",
      "     |  class_traits(**metadata) from traitlets.traitlets.MetaHasTraits\n",
      "     |      Get a ``dict`` of all the traits of this class.  The dictionary\n",
      "     |      is keyed on the name and the values are the TraitType objects.\n",
      "     |      \n",
      "     |      This method is just like the :meth:`traits` method, but is unbound.\n",
      "     |      \n",
      "     |      The TraitTypes returned don't know anything about the values\n",
      "     |      that the various HasTrait's instances are holding.\n",
      "     |      \n",
      "     |      The metadata kwargs allow functions to be passed in which\n",
      "     |      filter traits based on metadata values.  The functions should\n",
      "     |      take a single value as an argument and return a boolean.  If\n",
      "     |      any function returns False, then the trait is not included in\n",
      "     |      the output.  If a metadata key doesn't exist, None will be passed\n",
      "     |      to the function.\n",
      "     |  \n",
      "     |  trait_events(name=None) from traitlets.traitlets.MetaHasTraits\n",
      "     |      Get a ``dict`` of all the event handlers of this class.\n",
      "     |      \n",
      "     |      Parameters\n",
      "     |      ----------\n",
      "     |      name : str (default: None)\n",
      "     |          The name of a trait of this class. If name is ``None`` then all\n",
      "     |          the event handlers of this class will be returned instead.\n",
      "     |      \n",
      "     |      Returns\n",
      "     |      -------\n",
      "     |      The event handlers associated with a trait name, or all event handlers.\n",
      "     |  \n",
      "     |  ----------------------------------------------------------------------\n",
      "     |  Readonly properties inherited from traitlets.traitlets.HasTraits:\n",
      "     |  \n",
      "     |  cross_validation_lock\n",
      "     |      A contextmanager for running a block with our cross validation lock set\n",
      "     |      to True.\n",
      "     |      \n",
      "     |      At the end of the block, the lock's value is restored to its value\n",
      "     |      prior to entering the block.\n",
      "     |  \n",
      "     |  ----------------------------------------------------------------------\n",
      "     |  Static methods inherited from traitlets.traitlets.HasDescriptors:\n",
      "     |  \n",
      "     |  __new__(*args, **kwargs)\n",
      "     |      Create and return a new object.  See help(type) for accurate signature.\n",
      "     |  \n",
      "     |  ----------------------------------------------------------------------\n",
      "     |  Data descriptors inherited from traitlets.traitlets.HasDescriptors:\n",
      "     |  \n",
      "     |  __dict__\n",
      "     |      dictionary for instance variables (if defined)\n",
      "     |  \n",
      "     |  __weakref__\n",
      "     |      list of weak references to the object (if defined)\n",
      "    \n",
      "    class FloatRangeSlider(_BoundedFloatRange)\n",
      "     |  FloatRangeSlider(*args, **kwargs)\n",
      "     |  \n",
      "     |  Slider/trackbar that represents a pair of floats bounded by minimum and maximum value.\n",
      "     |  \n",
      "     |  Parameters\n",
      "     |  ----------\n",
      "     |  value : float tuple\n",
      "     |      range of the slider displayed\n",
      "     |  min : float\n",
      "     |      minimal position of the slider\n",
      "     |  max : float\n",
      "     |      maximal position of the slider\n",
      "     |  step : float\n",
      "     |      step of the trackbar\n",
      "     |  description : str\n",
      "     |      name of the slider\n",
      "     |  orientation : {'horizontal', 'vertical'}\n",
      "     |      default is 'horizontal'\n",
      "     |  readout : {True, False}\n",
      "     |      default is True, display the current value of the slider next to it\n",
      "     |  readout_format : str\n",
      "     |      default is '.2f', specifier for the format function used to represent\n",
      "     |      slider value for human consumption, modeled after Python 3's format\n",
      "     |      specification mini-language (PEP 3101).\n",
      "     |  \n",
      "     |  Method resolution order:\n",
      "     |      FloatRangeSlider\n",
      "     |      _BoundedFloatRange\n",
      "     |      _FloatRange\n",
      "     |      _Float\n",
      "     |      ipywidgets.widgets.widget_description.DescriptionWidget\n",
      "     |      ipywidgets.widgets.domwidget.DOMWidget\n",
      "     |      ipywidgets.widgets.valuewidget.ValueWidget\n",
      "     |      ipywidgets.widgets.widget_core.CoreWidget\n",
      "     |      ipywidgets.widgets.widget.Widget\n",
      "     |      ipywidgets.widgets.widget.LoggingHasTraits\n",
      "     |      traitlets.traitlets.HasTraits\n",
      "     |      traitlets.traitlets.HasDescriptors\n",
      "     |      builtins.object\n",
      "     |  \n",
      "     |  Data descriptors defined here:\n",
      "     |  \n",
      "     |  continuous_update\n",
      "     |  \n",
      "     |  disabled\n",
      "     |  \n",
      "     |  orientation\n",
      "     |  \n",
      "     |  readout\n",
      "     |  \n",
      "     |  readout_format\n",
      "     |  \n",
      "     |  step\n",
      "     |  \n",
      "     |  style\n",
      "     |  \n",
      "     |  ----------------------------------------------------------------------\n",
      "     |  Methods inherited from _BoundedFloatRange:\n",
      "     |  \n",
      "     |  __init__(self, *args, **kwargs)\n",
      "     |      Public constructor\n",
      "     |  \n",
      "     |  ----------------------------------------------------------------------\n",
      "     |  Data descriptors inherited from _BoundedFloatRange:\n",
      "     |  \n",
      "     |  max\n",
      "     |  \n",
      "     |  min\n",
      "     |  \n",
      "     |  ----------------------------------------------------------------------\n",
      "     |  Data descriptors inherited from _FloatRange:\n",
      "     |  \n",
      "     |  lower\n",
      "     |  \n",
      "     |  upper\n",
      "     |  \n",
      "     |  value\n",
      "     |  \n",
      "     |  ----------------------------------------------------------------------\n",
      "     |  Data descriptors inherited from ipywidgets.widgets.widget_description.DescriptionWidget:\n",
      "     |  \n",
      "     |  description\n",
      "     |  \n",
      "     |  description_tooltip\n",
      "     |  \n",
      "     |  ----------------------------------------------------------------------\n",
      "     |  Methods inherited from ipywidgets.widgets.domwidget.DOMWidget:\n",
      "     |  \n",
      "     |  add_class(self, className)\n",
      "     |      Adds a class to the top level element of the widget.\n",
      "     |      \n",
      "     |      Doesn't add the class if it already exists.\n",
      "     |  \n",
      "     |  remove_class(self, className)\n",
      "     |      Removes a class from the top level element of the widget.\n",
      "     |      \n",
      "     |      Doesn't remove the class if it doesn't exist.\n",
      "     |  \n",
      "     |  ----------------------------------------------------------------------\n",
      "     |  Data descriptors inherited from ipywidgets.widgets.domwidget.DOMWidget:\n",
      "     |  \n",
      "     |  layout\n",
      "     |  \n",
      "     |  ----------------------------------------------------------------------\n",
      "     |  Methods inherited from ipywidgets.widgets.valuewidget.ValueWidget:\n",
      "     |  \n",
      "     |  get_interact_value(self)\n",
      "     |      Return the value for this widget which should be passed to\n",
      "     |      interactive functions. Custom widgets can change this method\n",
      "     |      to process the raw value ``self.value``.\n",
      "     |  \n",
      "     |  ----------------------------------------------------------------------\n",
      "     |  Methods inherited from ipywidgets.widgets.widget.Widget:\n",
      "     |  \n",
      "     |  __del__(self)\n",
      "     |      Object disposal\n",
      "     |  \n",
      "     |  __repr__(self)\n",
      "     |      Return repr(self).\n",
      "     |  \n",
      "     |  add_traits(self, **traits)\n",
      "     |      Dynamically add trait attributes to the Widget.\n",
      "     |  \n",
      "     |  close(self)\n",
      "     |      Close method.\n",
      "     |      \n",
      "     |      Closes the underlying comm.\n",
      "     |      When the comm is closed, all of the widget views are automatically\n",
      "     |      removed from the front-end.\n",
      "     |  \n",
      "     |  get_state(self, key=None, drop_defaults=False)\n",
      "     |      Gets the widget state, or a piece of it.\n",
      "     |      \n",
      "     |      Parameters\n",
      "     |      ----------\n",
      "     |      key : unicode or iterable (optional)\n",
      "     |          A single property's name or iterable of property names to get.\n",
      "     |      \n",
      "     |      Returns\n",
      "     |      -------\n",
      "     |      state : dict of states\n",
      "     |      metadata : dict\n",
      "     |          metadata for each field: {key: metadata}\n",
      "     |  \n",
      "     |  get_view_spec(self)\n",
      "     |  \n",
      "     |  hold_sync(self)\n",
      "     |      Hold syncing any state until the outermost context manager exits\n",
      "     |  \n",
      "     |  notify_change(self, change)\n",
      "     |      Called when a property has changed.\n",
      "     |  \n",
      "     |  on_displayed(self, callback, remove=False)\n",
      "     |      (Un)Register a widget displayed callback.\n",
      "     |      \n",
      "     |      Parameters\n",
      "     |      ----------\n",
      "     |      callback: method handler\n",
      "     |          Must have a signature of::\n",
      "     |      \n",
      "     |              callback(widget, **kwargs)\n",
      "     |      \n",
      "     |          kwargs from display are passed through without modification.\n",
      "     |      remove: bool\n",
      "     |          True if the callback should be unregistered.\n",
      "     |  \n",
      "     |  on_msg(self, callback, remove=False)\n",
      "     |      (Un)Register a custom msg receive callback.\n",
      "     |      \n",
      "     |      Parameters\n",
      "     |      ----------\n",
      "     |      callback: callable\n",
      "     |          callback will be passed three arguments when a message arrives::\n",
      "     |      \n",
      "     |              callback(widget, content, buffers)\n",
      "     |      \n",
      "     |      remove: bool\n",
      "     |          True if the callback should be unregistered.\n",
      "     |  \n",
      "     |  open(self)\n",
      "     |      Open a comm to the frontend if one isn't already open.\n",
      "     |  \n",
      "     |  send(self, content, buffers=None)\n",
      "     |      Sends a custom msg to the widget model in the front-end.\n",
      "     |      \n",
      "     |      Parameters\n",
      "     |      ----------\n",
      "     |      content : dict\n",
      "     |          Content of the message to send.\n",
      "     |      buffers : list of binary buffers\n",
      "     |          Binary buffers to send with message\n",
      "     |  \n",
      "     |  send_state(self, key=None)\n",
      "     |      Sends the widget state, or a piece of it, to the front-end, if it exists.\n",
      "     |      \n",
      "     |      Parameters\n",
      "     |      ----------\n",
      "     |      key : unicode, or iterable (optional)\n",
      "     |          A single property's name or iterable of property names to sync with the front-end.\n",
      "     |  \n",
      "     |  set_state(self, sync_data)\n",
      "     |      Called when a state is received from the front-end.\n",
      "     |  \n",
      "     |  ----------------------------------------------------------------------\n",
      "     |  Class methods inherited from ipywidgets.widgets.widget.Widget:\n",
      "     |  \n",
      "     |  close_all() from traitlets.traitlets.MetaHasTraits\n",
      "     |  \n",
      "     |  ----------------------------------------------------------------------\n",
      "     |  Static methods inherited from ipywidgets.widgets.widget.Widget:\n",
      "     |  \n",
      "     |  get_manager_state(drop_defaults=False, widgets=None)\n",
      "     |      Returns the full state for a widget manager for embedding\n",
      "     |      \n",
      "     |      :param drop_defaults: when True, it will not include default value\n",
      "     |      :param widgets: list with widgets to include in the state (or all widgets when None)\n",
      "     |      :return:\n",
      "     |  \n",
      "     |  handle_comm_opened(comm, msg)\n",
      "     |      Static method, called when a widget is constructed.\n",
      "     |  \n",
      "     |  on_widget_constructed(callback)\n",
      "     |      Registers a callback to be called when a widget is constructed.\n",
      "     |      \n",
      "     |      The callback must have the following signature:\n",
      "     |      callback(widget)\n",
      "     |  \n",
      "     |  ----------------------------------------------------------------------\n",
      "     |  Readonly properties inherited from ipywidgets.widgets.widget.Widget:\n",
      "     |  \n",
      "     |  model_id\n",
      "     |      Gets the model id of this widget.\n",
      "     |      \n",
      "     |      If a Comm doesn't exist yet, a Comm will be created automagically.\n",
      "     |  \n",
      "     |  ----------------------------------------------------------------------\n",
      "     |  Data descriptors inherited from ipywidgets.widgets.widget.Widget:\n",
      "     |  \n",
      "     |  comm\n",
      "     |  \n",
      "     |  keys\n",
      "     |  \n",
      "     |  ----------------------------------------------------------------------\n",
      "     |  Data and other attributes inherited from ipywidgets.widgets.widget.Widget:\n",
      "     |  \n",
      "     |  widget_types = <ipywidgets.widgets.widget.WidgetRegistry object>\n",
      "     |  \n",
      "     |  widgets = {'001cda02f2a34b929f1f582967394721': BufferAttribute(array=a...\n",
      "     |  \n",
      "     |  ----------------------------------------------------------------------\n",
      "     |  Data descriptors inherited from ipywidgets.widgets.widget.LoggingHasTraits:\n",
      "     |  \n",
      "     |  log\n",
      "     |  \n",
      "     |  ----------------------------------------------------------------------\n",
      "     |  Methods inherited from traitlets.traitlets.HasTraits:\n",
      "     |  \n",
      "     |  __getstate__(self)\n",
      "     |  \n",
      "     |  __setstate__(self, state)\n",
      "     |  \n",
      "     |  has_trait(self, name)\n",
      "     |      Returns True if the object has a trait with the specified name.\n",
      "     |  \n",
      "     |  hold_trait_notifications(self)\n",
      "     |      Context manager for bundling trait change notifications and cross\n",
      "     |      validation.\n",
      "     |      \n",
      "     |      Use this when doing multiple trait assignments (init, config), to avoid\n",
      "     |      race conditions in trait notifiers requesting other trait values.\n",
      "     |      All trait notifications will fire after all values have been assigned.\n",
      "     |  \n",
      "     |  observe(self, handler, names=traitlets.All, type='change')\n",
      "     |      Setup a handler to be called when a trait changes.\n",
      "     |      \n",
      "     |      This is used to setup dynamic notifications of trait changes.\n",
      "     |      \n",
      "     |      Parameters\n",
      "     |      ----------\n",
      "     |      handler : callable\n",
      "     |          A callable that is called when a trait changes. Its\n",
      "     |          signature should be ``handler(change)``, where ``change`` is a\n",
      "     |          dictionary. The change dictionary at least holds a 'type' key.\n",
      "     |          * ``type``: the type of notification.\n",
      "     |          Other keys may be passed depending on the value of 'type'. In the\n",
      "     |          case where type is 'change', we also have the following keys:\n",
      "     |          * ``owner`` : the HasTraits instance\n",
      "     |          * ``old`` : the old value of the modified trait attribute\n",
      "     |          * ``new`` : the new value of the modified trait attribute\n",
      "     |          * ``name`` : the name of the modified trait attribute.\n",
      "     |      names : list, str, All\n",
      "     |          If names is All, the handler will apply to all traits.  If a list\n",
      "     |          of str, handler will apply to all names in the list.  If a\n",
      "     |          str, the handler will apply just to that name.\n",
      "     |      type : str, All (default: 'change')\n",
      "     |          The type of notification to filter by. If equal to All, then all\n",
      "     |          notifications are passed to the observe handler.\n",
      "     |  \n",
      "     |  on_trait_change(self, handler=None, name=None, remove=False)\n",
      "     |      DEPRECATED: Setup a handler to be called when a trait changes.\n",
      "     |      \n",
      "     |      This is used to setup dynamic notifications of trait changes.\n",
      "     |      \n",
      "     |      Static handlers can be created by creating methods on a HasTraits\n",
      "     |      subclass with the naming convention '_[traitname]_changed'.  Thus,\n",
      "     |      to create static handler for the trait 'a', create the method\n",
      "     |      _a_changed(self, name, old, new) (fewer arguments can be used, see\n",
      "     |      below).\n",
      "     |      \n",
      "     |      If `remove` is True and `handler` is not specified, all change\n",
      "     |      handlers for the specified name are uninstalled.\n",
      "     |      \n",
      "     |      Parameters\n",
      "     |      ----------\n",
      "     |      handler : callable, None\n",
      "     |          A callable that is called when a trait changes.  Its\n",
      "     |          signature can be handler(), handler(name), handler(name, new),\n",
      "     |          handler(name, old, new), or handler(name, old, new, self).\n",
      "     |      name : list, str, None\n",
      "     |          If None, the handler will apply to all traits.  If a list\n",
      "     |          of str, handler will apply to all names in the list.  If a\n",
      "     |          str, the handler will apply just to that name.\n",
      "     |      remove : bool\n",
      "     |          If False (the default), then install the handler.  If True\n",
      "     |          then unintall it.\n",
      "     |  \n",
      "     |  set_trait(self, name, value)\n",
      "     |      Forcibly sets trait attribute, including read-only attributes.\n",
      "     |  \n",
      "     |  setup_instance(*args, **kwargs)\n",
      "     |      This is called **before** self.__init__ is called.\n",
      "     |  \n",
      "     |  trait_defaults(self, *names, **metadata)\n",
      "     |      Return a trait's default value or a dictionary of them\n",
      "     |      \n",
      "     |      Notes\n",
      "     |      -----\n",
      "     |      Dynamically generated default values may\n",
      "     |      depend on the current state of the object.\n",
      "     |  \n",
      "     |  trait_has_value(self, name)\n",
      "     |      Returns True if the specified trait has a value.\n",
      "     |      \n",
      "     |      This will return false even if ``getattr`` would return a\n",
      "     |      dynamically generated default value. These default values\n",
      "     |      will be recognized as existing only after they have been\n",
      "     |      generated.\n",
      "     |      \n",
      "     |      Example\n",
      "     |      \n",
      "     |      .. code-block:: python\n",
      "     |      \n",
      "     |          class MyClass(HasTraits):\n",
      "     |              i = Int()\n",
      "     |      \n",
      "     |          mc = MyClass()\n",
      "     |          assert not mc.trait_has_value(\"i\")\n",
      "     |          mc.i # generates a default value\n",
      "     |          assert mc.trait_has_value(\"i\")\n",
      "     |  \n",
      "     |  trait_metadata(self, traitname, key, default=None)\n",
      "     |      Get metadata values for trait by key.\n",
      "     |  \n",
      "     |  trait_names(self, **metadata)\n",
      "     |      Get a list of all the names of this class' traits.\n",
      "     |  \n",
      "     |  trait_values(self, **metadata)\n",
      "     |      A ``dict`` of trait names and their values.\n",
      "     |      \n",
      "     |      The metadata kwargs allow functions to be passed in which\n",
      "     |      filter traits based on metadata values.  The functions should\n",
      "     |      take a single value as an argument and return a boolean.  If\n",
      "     |      any function returns False, then the trait is not included in\n",
      "     |      the output.  If a metadata key doesn't exist, None will be passed\n",
      "     |      to the function.\n",
      "     |      \n",
      "     |      Returns\n",
      "     |      -------\n",
      "     |      A ``dict`` of trait names and their values.\n",
      "     |      \n",
      "     |      Notes\n",
      "     |      -----\n",
      "     |      Trait values are retrieved via ``getattr``, any exceptions raised\n",
      "     |      by traits or the operations they may trigger will result in the\n",
      "     |      absence of a trait value in the result ``dict``.\n",
      "     |  \n",
      "     |  traits(self, **metadata)\n",
      "     |      Get a ``dict`` of all the traits of this class.  The dictionary\n",
      "     |      is keyed on the name and the values are the TraitType objects.\n",
      "     |      \n",
      "     |      The TraitTypes returned don't know anything about the values\n",
      "     |      that the various HasTrait's instances are holding.\n",
      "     |      \n",
      "     |      The metadata kwargs allow functions to be passed in which\n",
      "     |      filter traits based on metadata values.  The functions should\n",
      "     |      take a single value as an argument and return a boolean.  If\n",
      "     |      any function returns False, then the trait is not included in\n",
      "     |      the output.  If a metadata key doesn't exist, None will be passed\n",
      "     |      to the function.\n",
      "     |  \n",
      "     |  unobserve(self, handler, names=traitlets.All, type='change')\n",
      "     |      Remove a trait change handler.\n",
      "     |      \n",
      "     |      This is used to unregister handlers to trait change notifications.\n",
      "     |      \n",
      "     |      Parameters\n",
      "     |      ----------\n",
      "     |      handler : callable\n",
      "     |          The callable called when a trait attribute changes.\n",
      "     |      names : list, str, All (default: All)\n",
      "     |          The names of the traits for which the specified handler should be\n",
      "     |          uninstalled. If names is All, the specified handler is uninstalled\n",
      "     |          from the list of notifiers corresponding to all changes.\n",
      "     |      type : str or All (default: 'change')\n",
      "     |          The type of notification to filter by. If All, the specified handler\n",
      "     |          is uninstalled from the list of notifiers corresponding to all types.\n",
      "     |  \n",
      "     |  unobserve_all(self, name=traitlets.All)\n",
      "     |      Remove trait change handlers of any type for the specified name.\n",
      "     |      If name is not specified, removes all trait notifiers.\n",
      "     |  \n",
      "     |  ----------------------------------------------------------------------\n",
      "     |  Class methods inherited from traitlets.traitlets.HasTraits:\n",
      "     |  \n",
      "     |  class_own_trait_events(name) from traitlets.traitlets.MetaHasTraits\n",
      "     |      Get a dict of all event handlers defined on this class, not a parent.\n",
      "     |      \n",
      "     |      Works like ``event_handlers``, except for excluding traits from parents.\n",
      "     |  \n",
      "     |  class_own_traits(**metadata) from traitlets.traitlets.MetaHasTraits\n",
      "     |      Get a dict of all the traitlets defined on this class, not a parent.\n",
      "     |      \n",
      "     |      Works like `class_traits`, except for excluding traits from parents.\n",
      "     |  \n",
      "     |  class_trait_names(**metadata) from traitlets.traitlets.MetaHasTraits\n",
      "     |      Get a list of all the names of this class' traits.\n",
      "     |      \n",
      "     |      This method is just like the :meth:`trait_names` method,\n",
      "     |      but is unbound.\n",
      "     |  \n",
      "     |  class_traits(**metadata) from traitlets.traitlets.MetaHasTraits\n",
      "     |      Get a ``dict`` of all the traits of this class.  The dictionary\n",
      "     |      is keyed on the name and the values are the TraitType objects.\n",
      "     |      \n",
      "     |      This method is just like the :meth:`traits` method, but is unbound.\n",
      "     |      \n",
      "     |      The TraitTypes returned don't know anything about the values\n",
      "     |      that the various HasTrait's instances are holding.\n",
      "     |      \n",
      "     |      The metadata kwargs allow functions to be passed in which\n",
      "     |      filter traits based on metadata values.  The functions should\n",
      "     |      take a single value as an argument and return a boolean.  If\n",
      "     |      any function returns False, then the trait is not included in\n",
      "     |      the output.  If a metadata key doesn't exist, None will be passed\n",
      "     |      to the function.\n",
      "     |  \n",
      "     |  trait_events(name=None) from traitlets.traitlets.MetaHasTraits\n",
      "     |      Get a ``dict`` of all the event handlers of this class.\n",
      "     |      \n",
      "     |      Parameters\n",
      "     |      ----------\n",
      "     |      name : str (default: None)\n",
      "     |          The name of a trait of this class. If name is ``None`` then all\n",
      "     |          the event handlers of this class will be returned instead.\n",
      "     |      \n",
      "     |      Returns\n",
      "     |      -------\n",
      "     |      The event handlers associated with a trait name, or all event handlers.\n",
      "     |  \n",
      "     |  ----------------------------------------------------------------------\n",
      "     |  Readonly properties inherited from traitlets.traitlets.HasTraits:\n",
      "     |  \n",
      "     |  cross_validation_lock\n",
      "     |      A contextmanager for running a block with our cross validation lock set\n",
      "     |      to True.\n",
      "     |      \n",
      "     |      At the end of the block, the lock's value is restored to its value\n",
      "     |      prior to entering the block.\n",
      "     |  \n",
      "     |  ----------------------------------------------------------------------\n",
      "     |  Static methods inherited from traitlets.traitlets.HasDescriptors:\n",
      "     |  \n",
      "     |  __new__(*args, **kwargs)\n",
      "     |      Create and return a new object.  See help(type) for accurate signature.\n",
      "     |  \n",
      "     |  ----------------------------------------------------------------------\n",
      "     |  Data descriptors inherited from traitlets.traitlets.HasDescriptors:\n",
      "     |  \n",
      "     |  __dict__\n",
      "     |      dictionary for instance variables (if defined)\n",
      "     |  \n",
      "     |  __weakref__\n",
      "     |      list of weak references to the object (if defined)\n",
      "    \n",
      "    class FloatSlider(_BoundedFloat)\n",
      "     |  FloatSlider(*args, **kwargs)\n",
      "     |  \n",
      "     |  Slider/trackbar of floating values with the specified range.\n",
      "     |  \n",
      "     |  Parameters\n",
      "     |  ----------\n",
      "     |  value : float\n",
      "     |      position of the slider\n",
      "     |  min : float\n",
      "     |      minimal position of the slider\n",
      "     |  max : float\n",
      "     |      maximal position of the slider\n",
      "     |  step : float\n",
      "     |      step of the trackbar\n",
      "     |  description : str\n",
      "     |      name of the slider\n",
      "     |  orientation : {'horizontal', 'vertical'}\n",
      "     |      default is 'horizontal', orientation of the slider\n",
      "     |  readout : {True, False}\n",
      "     |      default is True, display the current value of the slider next to it\n",
      "     |  readout_format : str\n",
      "     |      default is '.2f', specifier for the format function used to represent\n",
      "     |      slider value for human consumption, modeled after Python 3's format\n",
      "     |      specification mini-language (PEP 3101).\n",
      "     |  \n",
      "     |  Method resolution order:\n",
      "     |      FloatSlider\n",
      "     |      _BoundedFloat\n",
      "     |      _Float\n",
      "     |      ipywidgets.widgets.widget_description.DescriptionWidget\n",
      "     |      ipywidgets.widgets.domwidget.DOMWidget\n",
      "     |      ipywidgets.widgets.valuewidget.ValueWidget\n",
      "     |      ipywidgets.widgets.widget_core.CoreWidget\n",
      "     |      ipywidgets.widgets.widget.Widget\n",
      "     |      ipywidgets.widgets.widget.LoggingHasTraits\n",
      "     |      traitlets.traitlets.HasTraits\n",
      "     |      traitlets.traitlets.HasDescriptors\n",
      "     |      builtins.object\n",
      "     |  \n",
      "     |  Data descriptors defined here:\n",
      "     |  \n",
      "     |  continuous_update\n",
      "     |  \n",
      "     |  disabled\n",
      "     |  \n",
      "     |  orientation\n",
      "     |  \n",
      "     |  readout\n",
      "     |  \n",
      "     |  readout_format\n",
      "     |  \n",
      "     |  step\n",
      "     |  \n",
      "     |  style\n",
      "     |  \n",
      "     |  ----------------------------------------------------------------------\n",
      "     |  Data descriptors inherited from _BoundedFloat:\n",
      "     |  \n",
      "     |  max\n",
      "     |  \n",
      "     |  min\n",
      "     |  \n",
      "     |  ----------------------------------------------------------------------\n",
      "     |  Methods inherited from _Float:\n",
      "     |  \n",
      "     |  __init__(self, value=None, **kwargs)\n",
      "     |      Public constructor\n",
      "     |  \n",
      "     |  ----------------------------------------------------------------------\n",
      "     |  Data descriptors inherited from _Float:\n",
      "     |  \n",
      "     |  value\n",
      "     |  \n",
      "     |  ----------------------------------------------------------------------\n",
      "     |  Data descriptors inherited from ipywidgets.widgets.widget_description.DescriptionWidget:\n",
      "     |  \n",
      "     |  description\n",
      "     |  \n",
      "     |  description_tooltip\n",
      "     |  \n",
      "     |  ----------------------------------------------------------------------\n",
      "     |  Methods inherited from ipywidgets.widgets.domwidget.DOMWidget:\n",
      "     |  \n",
      "     |  add_class(self, className)\n",
      "     |      Adds a class to the top level element of the widget.\n",
      "     |      \n",
      "     |      Doesn't add the class if it already exists.\n",
      "     |  \n",
      "     |  remove_class(self, className)\n",
      "     |      Removes a class from the top level element of the widget.\n",
      "     |      \n",
      "     |      Doesn't remove the class if it doesn't exist.\n",
      "     |  \n",
      "     |  ----------------------------------------------------------------------\n",
      "     |  Data descriptors inherited from ipywidgets.widgets.domwidget.DOMWidget:\n",
      "     |  \n",
      "     |  layout\n",
      "     |  \n",
      "     |  ----------------------------------------------------------------------\n",
      "     |  Methods inherited from ipywidgets.widgets.valuewidget.ValueWidget:\n",
      "     |  \n",
      "     |  get_interact_value(self)\n",
      "     |      Return the value for this widget which should be passed to\n",
      "     |      interactive functions. Custom widgets can change this method\n",
      "     |      to process the raw value ``self.value``.\n",
      "     |  \n",
      "     |  ----------------------------------------------------------------------\n",
      "     |  Methods inherited from ipywidgets.widgets.widget.Widget:\n",
      "     |  \n",
      "     |  __del__(self)\n",
      "     |      Object disposal\n",
      "     |  \n",
      "     |  __repr__(self)\n",
      "     |      Return repr(self).\n",
      "     |  \n",
      "     |  add_traits(self, **traits)\n",
      "     |      Dynamically add trait attributes to the Widget.\n",
      "     |  \n",
      "     |  close(self)\n",
      "     |      Close method.\n",
      "     |      \n",
      "     |      Closes the underlying comm.\n",
      "     |      When the comm is closed, all of the widget views are automatically\n",
      "     |      removed from the front-end.\n",
      "     |  \n",
      "     |  get_state(self, key=None, drop_defaults=False)\n",
      "     |      Gets the widget state, or a piece of it.\n",
      "     |      \n",
      "     |      Parameters\n",
      "     |      ----------\n",
      "     |      key : unicode or iterable (optional)\n",
      "     |          A single property's name or iterable of property names to get.\n",
      "     |      \n",
      "     |      Returns\n",
      "     |      -------\n",
      "     |      state : dict of states\n",
      "     |      metadata : dict\n",
      "     |          metadata for each field: {key: metadata}\n",
      "     |  \n",
      "     |  get_view_spec(self)\n",
      "     |  \n",
      "     |  hold_sync(self)\n",
      "     |      Hold syncing any state until the outermost context manager exits\n",
      "     |  \n",
      "     |  notify_change(self, change)\n",
      "     |      Called when a property has changed.\n",
      "     |  \n",
      "     |  on_displayed(self, callback, remove=False)\n",
      "     |      (Un)Register a widget displayed callback.\n",
      "     |      \n",
      "     |      Parameters\n",
      "     |      ----------\n",
      "     |      callback: method handler\n",
      "     |          Must have a signature of::\n",
      "     |      \n",
      "     |              callback(widget, **kwargs)\n",
      "     |      \n",
      "     |          kwargs from display are passed through without modification.\n",
      "     |      remove: bool\n",
      "     |          True if the callback should be unregistered.\n",
      "     |  \n",
      "     |  on_msg(self, callback, remove=False)\n",
      "     |      (Un)Register a custom msg receive callback.\n",
      "     |      \n",
      "     |      Parameters\n",
      "     |      ----------\n",
      "     |      callback: callable\n",
      "     |          callback will be passed three arguments when a message arrives::\n",
      "     |      \n",
      "     |              callback(widget, content, buffers)\n",
      "     |      \n",
      "     |      remove: bool\n",
      "     |          True if the callback should be unregistered.\n",
      "     |  \n",
      "     |  open(self)\n",
      "     |      Open a comm to the frontend if one isn't already open.\n",
      "     |  \n",
      "     |  send(self, content, buffers=None)\n",
      "     |      Sends a custom msg to the widget model in the front-end.\n",
      "     |      \n",
      "     |      Parameters\n",
      "     |      ----------\n",
      "     |      content : dict\n",
      "     |          Content of the message to send.\n",
      "     |      buffers : list of binary buffers\n",
      "     |          Binary buffers to send with message\n",
      "     |  \n",
      "     |  send_state(self, key=None)\n",
      "     |      Sends the widget state, or a piece of it, to the front-end, if it exists.\n",
      "     |      \n",
      "     |      Parameters\n",
      "     |      ----------\n",
      "     |      key : unicode, or iterable (optional)\n",
      "     |          A single property's name or iterable of property names to sync with the front-end.\n",
      "     |  \n",
      "     |  set_state(self, sync_data)\n",
      "     |      Called when a state is received from the front-end.\n",
      "     |  \n",
      "     |  ----------------------------------------------------------------------\n",
      "     |  Class methods inherited from ipywidgets.widgets.widget.Widget:\n",
      "     |  \n",
      "     |  close_all() from traitlets.traitlets.MetaHasTraits\n",
      "     |  \n",
      "     |  ----------------------------------------------------------------------\n",
      "     |  Static methods inherited from ipywidgets.widgets.widget.Widget:\n",
      "     |  \n",
      "     |  get_manager_state(drop_defaults=False, widgets=None)\n",
      "     |      Returns the full state for a widget manager for embedding\n",
      "     |      \n",
      "     |      :param drop_defaults: when True, it will not include default value\n",
      "     |      :param widgets: list with widgets to include in the state (or all widgets when None)\n",
      "     |      :return:\n",
      "     |  \n",
      "     |  handle_comm_opened(comm, msg)\n",
      "     |      Static method, called when a widget is constructed.\n",
      "     |  \n",
      "     |  on_widget_constructed(callback)\n",
      "     |      Registers a callback to be called when a widget is constructed.\n",
      "     |      \n",
      "     |      The callback must have the following signature:\n",
      "     |      callback(widget)\n",
      "     |  \n",
      "     |  ----------------------------------------------------------------------\n",
      "     |  Readonly properties inherited from ipywidgets.widgets.widget.Widget:\n",
      "     |  \n",
      "     |  model_id\n",
      "     |      Gets the model id of this widget.\n",
      "     |      \n",
      "     |      If a Comm doesn't exist yet, a Comm will be created automagically.\n",
      "     |  \n",
      "     |  ----------------------------------------------------------------------\n",
      "     |  Data descriptors inherited from ipywidgets.widgets.widget.Widget:\n",
      "     |  \n",
      "     |  comm\n",
      "     |  \n",
      "     |  keys\n",
      "     |  \n",
      "     |  ----------------------------------------------------------------------\n",
      "     |  Data and other attributes inherited from ipywidgets.widgets.widget.Widget:\n",
      "     |  \n",
      "     |  widget_types = <ipywidgets.widgets.widget.WidgetRegistry object>\n",
      "     |  \n",
      "     |  widgets = {'001cda02f2a34b929f1f582967394721': BufferAttribute(array=a...\n",
      "     |  \n",
      "     |  ----------------------------------------------------------------------\n",
      "     |  Data descriptors inherited from ipywidgets.widgets.widget.LoggingHasTraits:\n",
      "     |  \n",
      "     |  log\n",
      "     |  \n",
      "     |  ----------------------------------------------------------------------\n",
      "     |  Methods inherited from traitlets.traitlets.HasTraits:\n",
      "     |  \n",
      "     |  __getstate__(self)\n",
      "     |  \n",
      "     |  __setstate__(self, state)\n",
      "     |  \n",
      "     |  has_trait(self, name)\n",
      "     |      Returns True if the object has a trait with the specified name.\n",
      "     |  \n",
      "     |  hold_trait_notifications(self)\n",
      "     |      Context manager for bundling trait change notifications and cross\n",
      "     |      validation.\n",
      "     |      \n",
      "     |      Use this when doing multiple trait assignments (init, config), to avoid\n",
      "     |      race conditions in trait notifiers requesting other trait values.\n",
      "     |      All trait notifications will fire after all values have been assigned.\n",
      "     |  \n",
      "     |  observe(self, handler, names=traitlets.All, type='change')\n",
      "     |      Setup a handler to be called when a trait changes.\n",
      "     |      \n",
      "     |      This is used to setup dynamic notifications of trait changes.\n",
      "     |      \n",
      "     |      Parameters\n",
      "     |      ----------\n",
      "     |      handler : callable\n",
      "     |          A callable that is called when a trait changes. Its\n",
      "     |          signature should be ``handler(change)``, where ``change`` is a\n",
      "     |          dictionary. The change dictionary at least holds a 'type' key.\n",
      "     |          * ``type``: the type of notification.\n",
      "     |          Other keys may be passed depending on the value of 'type'. In the\n",
      "     |          case where type is 'change', we also have the following keys:\n",
      "     |          * ``owner`` : the HasTraits instance\n",
      "     |          * ``old`` : the old value of the modified trait attribute\n",
      "     |          * ``new`` : the new value of the modified trait attribute\n",
      "     |          * ``name`` : the name of the modified trait attribute.\n",
      "     |      names : list, str, All\n",
      "     |          If names is All, the handler will apply to all traits.  If a list\n",
      "     |          of str, handler will apply to all names in the list.  If a\n",
      "     |          str, the handler will apply just to that name.\n",
      "     |      type : str, All (default: 'change')\n",
      "     |          The type of notification to filter by. If equal to All, then all\n",
      "     |          notifications are passed to the observe handler.\n",
      "     |  \n",
      "     |  on_trait_change(self, handler=None, name=None, remove=False)\n",
      "     |      DEPRECATED: Setup a handler to be called when a trait changes.\n",
      "     |      \n",
      "     |      This is used to setup dynamic notifications of trait changes.\n",
      "     |      \n",
      "     |      Static handlers can be created by creating methods on a HasTraits\n",
      "     |      subclass with the naming convention '_[traitname]_changed'.  Thus,\n",
      "     |      to create static handler for the trait 'a', create the method\n",
      "     |      _a_changed(self, name, old, new) (fewer arguments can be used, see\n",
      "     |      below).\n",
      "     |      \n",
      "     |      If `remove` is True and `handler` is not specified, all change\n",
      "     |      handlers for the specified name are uninstalled.\n",
      "     |      \n",
      "     |      Parameters\n",
      "     |      ----------\n",
      "     |      handler : callable, None\n",
      "     |          A callable that is called when a trait changes.  Its\n",
      "     |          signature can be handler(), handler(name), handler(name, new),\n",
      "     |          handler(name, old, new), or handler(name, old, new, self).\n",
      "     |      name : list, str, None\n",
      "     |          If None, the handler will apply to all traits.  If a list\n",
      "     |          of str, handler will apply to all names in the list.  If a\n",
      "     |          str, the handler will apply just to that name.\n",
      "     |      remove : bool\n",
      "     |          If False (the default), then install the handler.  If True\n",
      "     |          then unintall it.\n",
      "     |  \n",
      "     |  set_trait(self, name, value)\n",
      "     |      Forcibly sets trait attribute, including read-only attributes.\n",
      "     |  \n",
      "     |  setup_instance(*args, **kwargs)\n",
      "     |      This is called **before** self.__init__ is called.\n",
      "     |  \n",
      "     |  trait_defaults(self, *names, **metadata)\n",
      "     |      Return a trait's default value or a dictionary of them\n",
      "     |      \n",
      "     |      Notes\n",
      "     |      -----\n",
      "     |      Dynamically generated default values may\n",
      "     |      depend on the current state of the object.\n",
      "     |  \n",
      "     |  trait_has_value(self, name)\n",
      "     |      Returns True if the specified trait has a value.\n",
      "     |      \n",
      "     |      This will return false even if ``getattr`` would return a\n",
      "     |      dynamically generated default value. These default values\n",
      "     |      will be recognized as existing only after they have been\n",
      "     |      generated.\n",
      "     |      \n",
      "     |      Example\n",
      "     |      \n",
      "     |      .. code-block:: python\n",
      "     |      \n",
      "     |          class MyClass(HasTraits):\n",
      "     |              i = Int()\n",
      "     |      \n",
      "     |          mc = MyClass()\n",
      "     |          assert not mc.trait_has_value(\"i\")\n",
      "     |          mc.i # generates a default value\n",
      "     |          assert mc.trait_has_value(\"i\")\n",
      "     |  \n",
      "     |  trait_metadata(self, traitname, key, default=None)\n",
      "     |      Get metadata values for trait by key.\n",
      "     |  \n",
      "     |  trait_names(self, **metadata)\n",
      "     |      Get a list of all the names of this class' traits.\n",
      "     |  \n",
      "     |  trait_values(self, **metadata)\n",
      "     |      A ``dict`` of trait names and their values.\n",
      "     |      \n",
      "     |      The metadata kwargs allow functions to be passed in which\n",
      "     |      filter traits based on metadata values.  The functions should\n",
      "     |      take a single value as an argument and return a boolean.  If\n",
      "     |      any function returns False, then the trait is not included in\n",
      "     |      the output.  If a metadata key doesn't exist, None will be passed\n",
      "     |      to the function.\n",
      "     |      \n",
      "     |      Returns\n",
      "     |      -------\n",
      "     |      A ``dict`` of trait names and their values.\n",
      "     |      \n",
      "     |      Notes\n",
      "     |      -----\n",
      "     |      Trait values are retrieved via ``getattr``, any exceptions raised\n",
      "     |      by traits or the operations they may trigger will result in the\n",
      "     |      absence of a trait value in the result ``dict``.\n",
      "     |  \n",
      "     |  traits(self, **metadata)\n",
      "     |      Get a ``dict`` of all the traits of this class.  The dictionary\n",
      "     |      is keyed on the name and the values are the TraitType objects.\n",
      "     |      \n",
      "     |      The TraitTypes returned don't know anything about the values\n",
      "     |      that the various HasTrait's instances are holding.\n",
      "     |      \n",
      "     |      The metadata kwargs allow functions to be passed in which\n",
      "     |      filter traits based on metadata values.  The functions should\n",
      "     |      take a single value as an argument and return a boolean.  If\n",
      "     |      any function returns False, then the trait is not included in\n",
      "     |      the output.  If a metadata key doesn't exist, None will be passed\n",
      "     |      to the function.\n",
      "     |  \n",
      "     |  unobserve(self, handler, names=traitlets.All, type='change')\n",
      "     |      Remove a trait change handler.\n",
      "     |      \n",
      "     |      This is used to unregister handlers to trait change notifications.\n",
      "     |      \n",
      "     |      Parameters\n",
      "     |      ----------\n",
      "     |      handler : callable\n",
      "     |          The callable called when a trait attribute changes.\n",
      "     |      names : list, str, All (default: All)\n",
      "     |          The names of the traits for which the specified handler should be\n",
      "     |          uninstalled. If names is All, the specified handler is uninstalled\n",
      "     |          from the list of notifiers corresponding to all changes.\n",
      "     |      type : str or All (default: 'change')\n",
      "     |          The type of notification to filter by. If All, the specified handler\n",
      "     |          is uninstalled from the list of notifiers corresponding to all types.\n",
      "     |  \n",
      "     |  unobserve_all(self, name=traitlets.All)\n",
      "     |      Remove trait change handlers of any type for the specified name.\n",
      "     |      If name is not specified, removes all trait notifiers.\n",
      "     |  \n",
      "     |  ----------------------------------------------------------------------\n",
      "     |  Class methods inherited from traitlets.traitlets.HasTraits:\n",
      "     |  \n",
      "     |  class_own_trait_events(name) from traitlets.traitlets.MetaHasTraits\n",
      "     |      Get a dict of all event handlers defined on this class, not a parent.\n",
      "     |      \n",
      "     |      Works like ``event_handlers``, except for excluding traits from parents.\n",
      "     |  \n",
      "     |  class_own_traits(**metadata) from traitlets.traitlets.MetaHasTraits\n",
      "     |      Get a dict of all the traitlets defined on this class, not a parent.\n",
      "     |      \n",
      "     |      Works like `class_traits`, except for excluding traits from parents.\n",
      "     |  \n",
      "     |  class_trait_names(**metadata) from traitlets.traitlets.MetaHasTraits\n",
      "     |      Get a list of all the names of this class' traits.\n",
      "     |      \n",
      "     |      This method is just like the :meth:`trait_names` method,\n",
      "     |      but is unbound.\n",
      "     |  \n",
      "     |  class_traits(**metadata) from traitlets.traitlets.MetaHasTraits\n",
      "     |      Get a ``dict`` of all the traits of this class.  The dictionary\n",
      "     |      is keyed on the name and the values are the TraitType objects.\n",
      "     |      \n",
      "     |      This method is just like the :meth:`traits` method, but is unbound.\n",
      "     |      \n",
      "     |      The TraitTypes returned don't know anything about the values\n",
      "     |      that the various HasTrait's instances are holding.\n",
      "     |      \n",
      "     |      The metadata kwargs allow functions to be passed in which\n",
      "     |      filter traits based on metadata values.  The functions should\n",
      "     |      take a single value as an argument and return a boolean.  If\n",
      "     |      any function returns False, then the trait is not included in\n",
      "     |      the output.  If a metadata key doesn't exist, None will be passed\n",
      "     |      to the function.\n",
      "     |  \n",
      "     |  trait_events(name=None) from traitlets.traitlets.MetaHasTraits\n",
      "     |      Get a ``dict`` of all the event handlers of this class.\n",
      "     |      \n",
      "     |      Parameters\n",
      "     |      ----------\n",
      "     |      name : str (default: None)\n",
      "     |          The name of a trait of this class. If name is ``None`` then all\n",
      "     |          the event handlers of this class will be returned instead.\n",
      "     |      \n",
      "     |      Returns\n",
      "     |      -------\n",
      "     |      The event handlers associated with a trait name, or all event handlers.\n",
      "     |  \n",
      "     |  ----------------------------------------------------------------------\n",
      "     |  Readonly properties inherited from traitlets.traitlets.HasTraits:\n",
      "     |  \n",
      "     |  cross_validation_lock\n",
      "     |      A contextmanager for running a block with our cross validation lock set\n",
      "     |      to True.\n",
      "     |      \n",
      "     |      At the end of the block, the lock's value is restored to its value\n",
      "     |      prior to entering the block.\n",
      "     |  \n",
      "     |  ----------------------------------------------------------------------\n",
      "     |  Static methods inherited from traitlets.traitlets.HasDescriptors:\n",
      "     |  \n",
      "     |  __new__(*args, **kwargs)\n",
      "     |      Create and return a new object.  See help(type) for accurate signature.\n",
      "     |  \n",
      "     |  ----------------------------------------------------------------------\n",
      "     |  Data descriptors inherited from traitlets.traitlets.HasDescriptors:\n",
      "     |  \n",
      "     |  __dict__\n",
      "     |      dictionary for instance variables (if defined)\n",
      "     |  \n",
      "     |  __weakref__\n",
      "     |      list of weak references to the object (if defined)\n",
      "    \n",
      "    class FloatText(_Float)\n",
      "     |  FloatText(*args, **kwargs)\n",
      "     |  \n",
      "     |  Displays a float value within a textbox. For a textbox in\n",
      "     |  which the value must be within a specific range, use BoundedFloatText.\n",
      "     |  \n",
      "     |  Parameters\n",
      "     |  ----------\n",
      "     |  value : float\n",
      "     |      value displayed\n",
      "     |  step : float\n",
      "     |      step of the increment (if None, any step is allowed)\n",
      "     |  description : str\n",
      "     |      description displayed next to the text box\n",
      "     |  \n",
      "     |  Method resolution order:\n",
      "     |      FloatText\n",
      "     |      _Float\n",
      "     |      ipywidgets.widgets.widget_description.DescriptionWidget\n",
      "     |      ipywidgets.widgets.domwidget.DOMWidget\n",
      "     |      ipywidgets.widgets.valuewidget.ValueWidget\n",
      "     |      ipywidgets.widgets.widget_core.CoreWidget\n",
      "     |      ipywidgets.widgets.widget.Widget\n",
      "     |      ipywidgets.widgets.widget.LoggingHasTraits\n",
      "     |      traitlets.traitlets.HasTraits\n",
      "     |      traitlets.traitlets.HasDescriptors\n",
      "     |      builtins.object\n",
      "     |  \n",
      "     |  Data descriptors defined here:\n",
      "     |  \n",
      "     |  continuous_update\n",
      "     |  \n",
      "     |  disabled\n",
      "     |  \n",
      "     |  step\n",
      "     |  \n",
      "     |  ----------------------------------------------------------------------\n",
      "     |  Methods inherited from _Float:\n",
      "     |  \n",
      "     |  __init__(self, value=None, **kwargs)\n",
      "     |      Public constructor\n",
      "     |  \n",
      "     |  ----------------------------------------------------------------------\n",
      "     |  Data descriptors inherited from _Float:\n",
      "     |  \n",
      "     |  value\n",
      "     |  \n",
      "     |  ----------------------------------------------------------------------\n",
      "     |  Data descriptors inherited from ipywidgets.widgets.widget_description.DescriptionWidget:\n",
      "     |  \n",
      "     |  description\n",
      "     |  \n",
      "     |  description_tooltip\n",
      "     |  \n",
      "     |  style\n",
      "     |  \n",
      "     |  ----------------------------------------------------------------------\n",
      "     |  Methods inherited from ipywidgets.widgets.domwidget.DOMWidget:\n",
      "     |  \n",
      "     |  add_class(self, className)\n",
      "     |      Adds a class to the top level element of the widget.\n",
      "     |      \n",
      "     |      Doesn't add the class if it already exists.\n",
      "     |  \n",
      "     |  remove_class(self, className)\n",
      "     |      Removes a class from the top level element of the widget.\n",
      "     |      \n",
      "     |      Doesn't remove the class if it doesn't exist.\n",
      "     |  \n",
      "     |  ----------------------------------------------------------------------\n",
      "     |  Data descriptors inherited from ipywidgets.widgets.domwidget.DOMWidget:\n",
      "     |  \n",
      "     |  layout\n",
      "     |  \n",
      "     |  ----------------------------------------------------------------------\n",
      "     |  Methods inherited from ipywidgets.widgets.valuewidget.ValueWidget:\n",
      "     |  \n",
      "     |  get_interact_value(self)\n",
      "     |      Return the value for this widget which should be passed to\n",
      "     |      interactive functions. Custom widgets can change this method\n",
      "     |      to process the raw value ``self.value``.\n",
      "     |  \n",
      "     |  ----------------------------------------------------------------------\n",
      "     |  Methods inherited from ipywidgets.widgets.widget.Widget:\n",
      "     |  \n",
      "     |  __del__(self)\n",
      "     |      Object disposal\n",
      "     |  \n",
      "     |  __repr__(self)\n",
      "     |      Return repr(self).\n",
      "     |  \n",
      "     |  add_traits(self, **traits)\n",
      "     |      Dynamically add trait attributes to the Widget.\n",
      "     |  \n",
      "     |  close(self)\n",
      "     |      Close method.\n",
      "     |      \n",
      "     |      Closes the underlying comm.\n",
      "     |      When the comm is closed, all of the widget views are automatically\n",
      "     |      removed from the front-end.\n",
      "     |  \n",
      "     |  get_state(self, key=None, drop_defaults=False)\n",
      "     |      Gets the widget state, or a piece of it.\n",
      "     |      \n",
      "     |      Parameters\n",
      "     |      ----------\n",
      "     |      key : unicode or iterable (optional)\n",
      "     |          A single property's name or iterable of property names to get.\n",
      "     |      \n",
      "     |      Returns\n",
      "     |      -------\n",
      "     |      state : dict of states\n",
      "     |      metadata : dict\n",
      "     |          metadata for each field: {key: metadata}\n",
      "     |  \n",
      "     |  get_view_spec(self)\n",
      "     |  \n",
      "     |  hold_sync(self)\n",
      "     |      Hold syncing any state until the outermost context manager exits\n",
      "     |  \n",
      "     |  notify_change(self, change)\n",
      "     |      Called when a property has changed.\n",
      "     |  \n",
      "     |  on_displayed(self, callback, remove=False)\n",
      "     |      (Un)Register a widget displayed callback.\n",
      "     |      \n",
      "     |      Parameters\n",
      "     |      ----------\n",
      "     |      callback: method handler\n",
      "     |          Must have a signature of::\n",
      "     |      \n",
      "     |              callback(widget, **kwargs)\n",
      "     |      \n",
      "     |          kwargs from display are passed through without modification.\n",
      "     |      remove: bool\n",
      "     |          True if the callback should be unregistered.\n",
      "     |  \n",
      "     |  on_msg(self, callback, remove=False)\n",
      "     |      (Un)Register a custom msg receive callback.\n",
      "     |      \n",
      "     |      Parameters\n",
      "     |      ----------\n",
      "     |      callback: callable\n",
      "     |          callback will be passed three arguments when a message arrives::\n",
      "     |      \n",
      "     |              callback(widget, content, buffers)\n",
      "     |      \n",
      "     |      remove: bool\n",
      "     |          True if the callback should be unregistered.\n",
      "     |  \n",
      "     |  open(self)\n",
      "     |      Open a comm to the frontend if one isn't already open.\n",
      "     |  \n",
      "     |  send(self, content, buffers=None)\n",
      "     |      Sends a custom msg to the widget model in the front-end.\n",
      "     |      \n",
      "     |      Parameters\n",
      "     |      ----------\n",
      "     |      content : dict\n",
      "     |          Content of the message to send.\n",
      "     |      buffers : list of binary buffers\n",
      "     |          Binary buffers to send with message\n",
      "     |  \n",
      "     |  send_state(self, key=None)\n",
      "     |      Sends the widget state, or a piece of it, to the front-end, if it exists.\n",
      "     |      \n",
      "     |      Parameters\n",
      "     |      ----------\n",
      "     |      key : unicode, or iterable (optional)\n",
      "     |          A single property's name or iterable of property names to sync with the front-end.\n",
      "     |  \n",
      "     |  set_state(self, sync_data)\n",
      "     |      Called when a state is received from the front-end.\n",
      "     |  \n",
      "     |  ----------------------------------------------------------------------\n",
      "     |  Class methods inherited from ipywidgets.widgets.widget.Widget:\n",
      "     |  \n",
      "     |  close_all() from traitlets.traitlets.MetaHasTraits\n",
      "     |  \n",
      "     |  ----------------------------------------------------------------------\n",
      "     |  Static methods inherited from ipywidgets.widgets.widget.Widget:\n",
      "     |  \n",
      "     |  get_manager_state(drop_defaults=False, widgets=None)\n",
      "     |      Returns the full state for a widget manager for embedding\n",
      "     |      \n",
      "     |      :param drop_defaults: when True, it will not include default value\n",
      "     |      :param widgets: list with widgets to include in the state (or all widgets when None)\n",
      "     |      :return:\n",
      "     |  \n",
      "     |  handle_comm_opened(comm, msg)\n",
      "     |      Static method, called when a widget is constructed.\n",
      "     |  \n",
      "     |  on_widget_constructed(callback)\n",
      "     |      Registers a callback to be called when a widget is constructed.\n",
      "     |      \n",
      "     |      The callback must have the following signature:\n",
      "     |      callback(widget)\n",
      "     |  \n",
      "     |  ----------------------------------------------------------------------\n",
      "     |  Readonly properties inherited from ipywidgets.widgets.widget.Widget:\n",
      "     |  \n",
      "     |  model_id\n",
      "     |      Gets the model id of this widget.\n",
      "     |      \n",
      "     |      If a Comm doesn't exist yet, a Comm will be created automagically.\n",
      "     |  \n",
      "     |  ----------------------------------------------------------------------\n",
      "     |  Data descriptors inherited from ipywidgets.widgets.widget.Widget:\n",
      "     |  \n",
      "     |  comm\n",
      "     |  \n",
      "     |  keys\n",
      "     |  \n",
      "     |  ----------------------------------------------------------------------\n",
      "     |  Data and other attributes inherited from ipywidgets.widgets.widget.Widget:\n",
      "     |  \n",
      "     |  widget_types = <ipywidgets.widgets.widget.WidgetRegistry object>\n",
      "     |  \n",
      "     |  widgets = {'001cda02f2a34b929f1f582967394721': BufferAttribute(array=a...\n",
      "     |  \n",
      "     |  ----------------------------------------------------------------------\n",
      "     |  Data descriptors inherited from ipywidgets.widgets.widget.LoggingHasTraits:\n",
      "     |  \n",
      "     |  log\n",
      "     |  \n",
      "     |  ----------------------------------------------------------------------\n",
      "     |  Methods inherited from traitlets.traitlets.HasTraits:\n",
      "     |  \n",
      "     |  __getstate__(self)\n",
      "     |  \n",
      "     |  __setstate__(self, state)\n",
      "     |  \n",
      "     |  has_trait(self, name)\n",
      "     |      Returns True if the object has a trait with the specified name.\n",
      "     |  \n",
      "     |  hold_trait_notifications(self)\n",
      "     |      Context manager for bundling trait change notifications and cross\n",
      "     |      validation.\n",
      "     |      \n",
      "     |      Use this when doing multiple trait assignments (init, config), to avoid\n",
      "     |      race conditions in trait notifiers requesting other trait values.\n",
      "     |      All trait notifications will fire after all values have been assigned.\n",
      "     |  \n",
      "     |  observe(self, handler, names=traitlets.All, type='change')\n",
      "     |      Setup a handler to be called when a trait changes.\n",
      "     |      \n",
      "     |      This is used to setup dynamic notifications of trait changes.\n",
      "     |      \n",
      "     |      Parameters\n",
      "     |      ----------\n",
      "     |      handler : callable\n",
      "     |          A callable that is called when a trait changes. Its\n",
      "     |          signature should be ``handler(change)``, where ``change`` is a\n",
      "     |          dictionary. The change dictionary at least holds a 'type' key.\n",
      "     |          * ``type``: the type of notification.\n",
      "     |          Other keys may be passed depending on the value of 'type'. In the\n",
      "     |          case where type is 'change', we also have the following keys:\n",
      "     |          * ``owner`` : the HasTraits instance\n",
      "     |          * ``old`` : the old value of the modified trait attribute\n",
      "     |          * ``new`` : the new value of the modified trait attribute\n",
      "     |          * ``name`` : the name of the modified trait attribute.\n",
      "     |      names : list, str, All\n",
      "     |          If names is All, the handler will apply to all traits.  If a list\n",
      "     |          of str, handler will apply to all names in the list.  If a\n",
      "     |          str, the handler will apply just to that name.\n",
      "     |      type : str, All (default: 'change')\n",
      "     |          The type of notification to filter by. If equal to All, then all\n",
      "     |          notifications are passed to the observe handler.\n",
      "     |  \n",
      "     |  on_trait_change(self, handler=None, name=None, remove=False)\n",
      "     |      DEPRECATED: Setup a handler to be called when a trait changes.\n",
      "     |      \n",
      "     |      This is used to setup dynamic notifications of trait changes.\n",
      "     |      \n",
      "     |      Static handlers can be created by creating methods on a HasTraits\n",
      "     |      subclass with the naming convention '_[traitname]_changed'.  Thus,\n",
      "     |      to create static handler for the trait 'a', create the method\n",
      "     |      _a_changed(self, name, old, new) (fewer arguments can be used, see\n",
      "     |      below).\n",
      "     |      \n",
      "     |      If `remove` is True and `handler` is not specified, all change\n",
      "     |      handlers for the specified name are uninstalled.\n",
      "     |      \n",
      "     |      Parameters\n",
      "     |      ----------\n",
      "     |      handler : callable, None\n",
      "     |          A callable that is called when a trait changes.  Its\n",
      "     |          signature can be handler(), handler(name), handler(name, new),\n",
      "     |          handler(name, old, new), or handler(name, old, new, self).\n",
      "     |      name : list, str, None\n",
      "     |          If None, the handler will apply to all traits.  If a list\n",
      "     |          of str, handler will apply to all names in the list.  If a\n",
      "     |          str, the handler will apply just to that name.\n",
      "     |      remove : bool\n",
      "     |          If False (the default), then install the handler.  If True\n",
      "     |          then unintall it.\n",
      "     |  \n",
      "     |  set_trait(self, name, value)\n",
      "     |      Forcibly sets trait attribute, including read-only attributes.\n",
      "     |  \n",
      "     |  setup_instance(*args, **kwargs)\n",
      "     |      This is called **before** self.__init__ is called.\n",
      "     |  \n",
      "     |  trait_defaults(self, *names, **metadata)\n",
      "     |      Return a trait's default value or a dictionary of them\n",
      "     |      \n",
      "     |      Notes\n",
      "     |      -----\n",
      "     |      Dynamically generated default values may\n",
      "     |      depend on the current state of the object.\n",
      "     |  \n",
      "     |  trait_has_value(self, name)\n",
      "     |      Returns True if the specified trait has a value.\n",
      "     |      \n",
      "     |      This will return false even if ``getattr`` would return a\n",
      "     |      dynamically generated default value. These default values\n",
      "     |      will be recognized as existing only after they have been\n",
      "     |      generated.\n",
      "     |      \n",
      "     |      Example\n",
      "     |      \n",
      "     |      .. code-block:: python\n",
      "     |      \n",
      "     |          class MyClass(HasTraits):\n",
      "     |              i = Int()\n",
      "     |      \n",
      "     |          mc = MyClass()\n",
      "     |          assert not mc.trait_has_value(\"i\")\n",
      "     |          mc.i # generates a default value\n",
      "     |          assert mc.trait_has_value(\"i\")\n",
      "     |  \n",
      "     |  trait_metadata(self, traitname, key, default=None)\n",
      "     |      Get metadata values for trait by key.\n",
      "     |  \n",
      "     |  trait_names(self, **metadata)\n",
      "     |      Get a list of all the names of this class' traits.\n",
      "     |  \n",
      "     |  trait_values(self, **metadata)\n",
      "     |      A ``dict`` of trait names and their values.\n",
      "     |      \n",
      "     |      The metadata kwargs allow functions to be passed in which\n",
      "     |      filter traits based on metadata values.  The functions should\n",
      "     |      take a single value as an argument and return a boolean.  If\n",
      "     |      any function returns False, then the trait is not included in\n",
      "     |      the output.  If a metadata key doesn't exist, None will be passed\n",
      "     |      to the function.\n",
      "     |      \n",
      "     |      Returns\n",
      "     |      -------\n",
      "     |      A ``dict`` of trait names and their values.\n",
      "     |      \n",
      "     |      Notes\n",
      "     |      -----\n",
      "     |      Trait values are retrieved via ``getattr``, any exceptions raised\n",
      "     |      by traits or the operations they may trigger will result in the\n",
      "     |      absence of a trait value in the result ``dict``.\n",
      "     |  \n",
      "     |  traits(self, **metadata)\n",
      "     |      Get a ``dict`` of all the traits of this class.  The dictionary\n",
      "     |      is keyed on the name and the values are the TraitType objects.\n",
      "     |      \n",
      "     |      The TraitTypes returned don't know anything about the values\n",
      "     |      that the various HasTrait's instances are holding.\n",
      "     |      \n",
      "     |      The metadata kwargs allow functions to be passed in which\n",
      "     |      filter traits based on metadata values.  The functions should\n",
      "     |      take a single value as an argument and return a boolean.  If\n",
      "     |      any function returns False, then the trait is not included in\n",
      "     |      the output.  If a metadata key doesn't exist, None will be passed\n",
      "     |      to the function.\n",
      "     |  \n",
      "     |  unobserve(self, handler, names=traitlets.All, type='change')\n",
      "     |      Remove a trait change handler.\n",
      "     |      \n",
      "     |      This is used to unregister handlers to trait change notifications.\n",
      "     |      \n",
      "     |      Parameters\n",
      "     |      ----------\n",
      "     |      handler : callable\n",
      "     |          The callable called when a trait attribute changes.\n",
      "     |      names : list, str, All (default: All)\n",
      "     |          The names of the traits for which the specified handler should be\n",
      "     |          uninstalled. If names is All, the specified handler is uninstalled\n",
      "     |          from the list of notifiers corresponding to all changes.\n",
      "     |      type : str or All (default: 'change')\n",
      "     |          The type of notification to filter by. If All, the specified handler\n",
      "     |          is uninstalled from the list of notifiers corresponding to all types.\n",
      "     |  \n",
      "     |  unobserve_all(self, name=traitlets.All)\n",
      "     |      Remove trait change handlers of any type for the specified name.\n",
      "     |      If name is not specified, removes all trait notifiers.\n",
      "     |  \n",
      "     |  ----------------------------------------------------------------------\n",
      "     |  Class methods inherited from traitlets.traitlets.HasTraits:\n",
      "     |  \n",
      "     |  class_own_trait_events(name) from traitlets.traitlets.MetaHasTraits\n",
      "     |      Get a dict of all event handlers defined on this class, not a parent.\n",
      "     |      \n",
      "     |      Works like ``event_handlers``, except for excluding traits from parents.\n",
      "     |  \n",
      "     |  class_own_traits(**metadata) from traitlets.traitlets.MetaHasTraits\n",
      "     |      Get a dict of all the traitlets defined on this class, not a parent.\n",
      "     |      \n",
      "     |      Works like `class_traits`, except for excluding traits from parents.\n",
      "     |  \n",
      "     |  class_trait_names(**metadata) from traitlets.traitlets.MetaHasTraits\n",
      "     |      Get a list of all the names of this class' traits.\n",
      "     |      \n",
      "     |      This method is just like the :meth:`trait_names` method,\n",
      "     |      but is unbound.\n",
      "     |  \n",
      "     |  class_traits(**metadata) from traitlets.traitlets.MetaHasTraits\n",
      "     |      Get a ``dict`` of all the traits of this class.  The dictionary\n",
      "     |      is keyed on the name and the values are the TraitType objects.\n",
      "     |      \n",
      "     |      This method is just like the :meth:`traits` method, but is unbound.\n",
      "     |      \n",
      "     |      The TraitTypes returned don't know anything about the values\n",
      "     |      that the various HasTrait's instances are holding.\n",
      "     |      \n",
      "     |      The metadata kwargs allow functions to be passed in which\n",
      "     |      filter traits based on metadata values.  The functions should\n",
      "     |      take a single value as an argument and return a boolean.  If\n",
      "     |      any function returns False, then the trait is not included in\n",
      "     |      the output.  If a metadata key doesn't exist, None will be passed\n",
      "     |      to the function.\n",
      "     |  \n",
      "     |  trait_events(name=None) from traitlets.traitlets.MetaHasTraits\n",
      "     |      Get a ``dict`` of all the event handlers of this class.\n",
      "     |      \n",
      "     |      Parameters\n",
      "     |      ----------\n",
      "     |      name : str (default: None)\n",
      "     |          The name of a trait of this class. If name is ``None`` then all\n",
      "     |          the event handlers of this class will be returned instead.\n",
      "     |      \n",
      "     |      Returns\n",
      "     |      -------\n",
      "     |      The event handlers associated with a trait name, or all event handlers.\n",
      "     |  \n",
      "     |  ----------------------------------------------------------------------\n",
      "     |  Readonly properties inherited from traitlets.traitlets.HasTraits:\n",
      "     |  \n",
      "     |  cross_validation_lock\n",
      "     |      A contextmanager for running a block with our cross validation lock set\n",
      "     |      to True.\n",
      "     |      \n",
      "     |      At the end of the block, the lock's value is restored to its value\n",
      "     |      prior to entering the block.\n",
      "     |  \n",
      "     |  ----------------------------------------------------------------------\n",
      "     |  Static methods inherited from traitlets.traitlets.HasDescriptors:\n",
      "     |  \n",
      "     |  __new__(*args, **kwargs)\n",
      "     |      Create and return a new object.  See help(type) for accurate signature.\n",
      "     |  \n",
      "     |  ----------------------------------------------------------------------\n",
      "     |  Data descriptors inherited from traitlets.traitlets.HasDescriptors:\n",
      "     |  \n",
      "     |  __dict__\n",
      "     |      dictionary for instance variables (if defined)\n",
      "     |  \n",
      "     |  __weakref__\n",
      "     |      list of weak references to the object (if defined)\n",
      "\n",
      "DATA\n",
      "    widget_serialization = {'from_json': <function _json_to_widget>, 'to_j...\n",
      "\n",
      "FILE\n",
      "    /gd/home/src/anaconda3/lib/python3.9/site-packages/ipywidgets/widgets/widget_float.py\n",
      "\n",
      "\n"
     ]
    }
   ],
   "source": [
    "help(widgyts.ipywidgets.widget_float)"
   ]
  },
  {
   "cell_type": "code",
   "execution_count": 36,
   "metadata": {},
   "outputs": [
    {
     "data": {
      "application/vnd.jupyter.widget-view+json": {
       "model_id": "16f24c1c0f6e4f58baf3c4a528efcc6e",
       "version_major": 2,
       "version_minor": 0
      },
      "text/plain": [
       "Image(value=b'\\x89PNG\\r\\n\\x1a\\n\\x00\\x00\\x00\\rIHDR\\x00\\x00\\x02\\xbc\\x00\\x00\\x02\\xbc\\x08\\x06\\x00\\x00\\x00\\r\\xbalC\\…"
      ]
     },
     "metadata": {},
     "output_type": "display_data"
    }
   ],
   "source": [
    "rc.add_image()"
   ]
  },
  {
   "cell_type": "code",
   "execution_count": 30,
   "metadata": {},
   "outputs": [],
   "source": [
    "rc.scene.camera._update_matrices()"
   ]
  },
  {
   "cell_type": "code",
   "execution_count": 31,
   "metadata": {},
   "outputs": [],
   "source": [
    "rc.run()\n"
   ]
  },
  {
   "cell_type": "code",
   "execution_count": 32,
   "metadata": {},
   "outputs": [
    {
     "data": {
      "application/vnd.jupyter.widget-view+json": {
       "model_id": "9a433d2795ad4a09b0c47da71327e957",
       "version_major": 2,
       "version_minor": 0
      },
      "text/plain": [
       "Image(value=b'\\x89PNG\\r\\n\\x1a\\n\\x00\\x00\\x00\\rIHDR\\x00\\x00\\x02\\xbc\\x00\\x00\\x02\\xbc\\x08\\x06\\x00\\x00\\x00\\r\\xbalC\\…"
      ]
     },
     "metadata": {},
     "output_type": "display_data"
    }
   ],
   "source": [
    "rc.add_image()"
   ]
  },
  {
   "cell_type": "code",
   "execution_count": null,
   "metadata": {},
   "outputs": [],
   "source": []
  }
 ],
 "metadata": {
  "kernelspec": {
   "display_name": "Python 3 (ipykernel)",
   "language": "python",
   "name": "python3"
  },
  "language_info": {
   "codemirror_mode": {
    "name": "ipython",
    "version": 3
   },
   "file_extension": ".py",
   "mimetype": "text/x-python",
   "name": "python",
   "nbconvert_exporter": "python",
   "pygments_lexer": "ipython3",
   "version": "3.9.7"
  },
  "widgets": {
   "application/vnd.jupyter.widget-state+json": {
    "state": {
     "0017ebf58b3c4619b30e276a5a106f72": {
      "model_module": "@jupyter-widgets/controls",
      "model_module_version": "1.5.0",
      "model_name": "HBoxModel",
      "state": {
       "children": [
        "IPY_MODEL_acb46154517e43c8a248f1d36fe3e554",
        "IPY_MODEL_5984c409bb2c4c68ba99d27685dcc5d0"
       ],
       "layout": "IPY_MODEL_d5cbd768c1334dd9b775d21d79c6318c"
      }
     },
     "00d1d465efbe4396aee4993365961fa3": {
      "model_module": "@jupyter-widgets/base",
      "model_module_version": "1.2.0",
      "model_name": "LayoutModel",
      "state": {}
     },
     "01fe6f9c1c8543caa3bc70d4968804dd": {
      "model_module": "jupyter-threejs",
      "model_module_version": "^2.1.0",
      "model_name": "BufferGeometryModel",
      "state": {
       "_view_module": null,
       "_view_module_version": "",
       "attributes": {
        "index": "IPY_MODEL_338a50401cdf4e39861e6f7c0273dcef",
        "position": "IPY_MODEL_9a1d26393752435fa325fdfacae74029"
       }
      }
     },
     "02019e8022324aeb9c7dddfc3f2e4030": {
      "model_module": "@jupyter-widgets/controls",
      "model_module_version": "1.5.0",
      "model_name": "FloatSliderModel",
      "state": {
       "layout": "IPY_MODEL_dd98de69a2094242a69c36be87859a99",
       "max": 10,
       "step": 0.1,
       "style": "IPY_MODEL_1078c26847f24431aa7a776ec4347676",
       "value": 1
      }
     },
     "02be9a8162c74f1aba1190d0a8291ea0": {
      "model_module": "@jupyter-widgets/controls",
      "model_module_version": "1.5.0",
      "model_name": "DescriptionStyleModel",
      "state": {
       "description_width": ""
      }
     },
     "032ee0f6cb2947f0aa766913610c47da": {
      "model_module": "@jupyter-widgets/base",
      "model_module_version": "1.2.0",
      "model_name": "LayoutModel",
      "state": {}
     },
     "0453242a1e7e4a2e9cc4a9c078323eb4": {
      "model_module": "@jupyter-widgets/controls",
      "model_module_version": "1.5.0",
      "model_name": "TabModel",
      "state": {
       "_titles": {
        "0": "Domain Viewer",
        "1": "Fields",
        "2": "Parameters"
       },
       "children": [
        "IPY_MODEL_e0b32b2eaa2f433ab0ac34957215a88b",
        "IPY_MODEL_baa0615890ed4697a50e19f6db41b58f",
        "IPY_MODEL_a4fc4d1ad8494005ba0b9d96ce622a7a"
       ],
       "layout": "IPY_MODEL_226830e48d574941963b32cd9e4920d2"
      }
     },
     "04e611dc9e0645269b482402595c9b04": {
      "model_module": "@jupyter-widgets/controls",
      "model_module_version": "1.5.0",
      "model_name": "SelectModel",
      "state": {
       "_options_labels": [
        "Average_creation_time",
        "Bx",
        "By",
        "Bz",
        "Cooling_Time",
        "Dark_Matter_Density",
        "Density",
        "Electron_Density",
        "Forming_Stellar_Mass_Density",
        "Galaxy1Colour",
        "Galaxy2Colour",
        "HII_Density",
        "HI_Density",
        "HeIII_Density",
        "HeII_Density",
        "HeI_Density",
        "MBHColour",
        "Metal_Density",
        "PhiField",
        "Phi_pField",
        "SFR_Density",
        "Star_Particle_Density",
        "Temperature",
        "TotalEnergy",
        "cell_volume",
        "dx",
        "dy",
        "dz",
        "gammaHI",
        "kphHI",
        "kphHeI",
        "kphHeII",
        "path_element_x",
        "path_element_y",
        "path_element_z",
        "vertex_x",
        "vertex_y",
        "vertex_z",
        "volume",
        "x",
        "x-velocity",
        "y",
        "y-velocity",
        "z",
        "z-velocity"
       ],
       "index": 0,
       "layout": "IPY_MODEL_ecf2682cc85d4d97a9e659e73b080a02",
       "style": "IPY_MODEL_aab436305c6c44f18d54b99ac4fd51e6"
      }
     },
     "04feae015eff4f66ab9d441ebd10a907": {
      "model_module": "@jupyter-widgets/controls",
      "model_module_version": "1.5.0",
      "model_name": "ColorPickerModel",
      "state": {
       "concise": true,
       "disabled": false,
       "layout": "IPY_MODEL_89432779c54548448305b0fb77ec67c7",
       "style": "IPY_MODEL_fa7a0ee21760400fa66dc4d19e0acb0e",
       "value": "#000004"
      }
     },
     "06ee27816abb4aeaa6b4351f2e0e508c": {
      "model_module": "@jupyter-widgets/controls",
      "model_module_version": "1.5.0",
      "model_name": "DescriptionStyleModel",
      "state": {
       "description_width": ""
      }
     },
     "071c3dec3a694048b0c83cfbfb013ed6": {
      "model_module": "@jupyter-widgets/controls",
      "model_module_version": "1.5.0",
      "model_name": "BoxModel",
      "state": {
       "children": [
        "IPY_MODEL_1775f52e3f7349549c9040ed1c22a885"
       ],
       "layout": "IPY_MODEL_5156552f3af04f35a7d5d385b967826f"
      }
     },
     "07328d52fea747a6be326b3696ffbb5f": {
      "model_module": "@jupyter-widgets/base",
      "model_module_version": "1.2.0",
      "model_name": "LayoutModel",
      "state": {
       "height": "9em",
       "width": "100%"
      }
     },
     "08112f7bf43848299378ba1ed25fede4": {
      "model_module": "@jupyter-widgets/output",
      "model_module_version": "1.0.0",
      "model_name": "OutputModel",
      "state": {
       "layout": "IPY_MODEL_8b565abfd7374892afd45f809291d653"
      }
     },
     "0836899562dc4f25a3d092f688974fa7": {
      "model_module": "@jupyter-widgets/base",
      "model_module_version": "1.2.0",
      "model_name": "LayoutModel",
      "state": {}
     },
     "084b20a6b7fe484d947a30f44958bf0a": {
      "model_module": "@jupyter-widgets/controls",
      "model_module_version": "1.5.0",
      "model_name": "CheckboxModel",
      "state": {
       "description": "Level 7",
       "disabled": false,
       "layout": "IPY_MODEL_4e241b34e0bd415296e1b0ce00eadbc5",
       "style": "IPY_MODEL_988fab9e594048a283240fd4bd70f899",
       "value": true
      }
     },
     "0a49c37f78a44d569cc070dbbbd5f1a0": {
      "model_module": "@jupyter-widgets/controls",
      "model_module_version": "1.5.0",
      "model_name": "ColorPickerModel",
      "state": {
       "concise": true,
       "disabled": false,
       "layout": "IPY_MODEL_3e835bc09b644ebe863ce7e35c47be0a",
       "style": "IPY_MODEL_c9528df8038b424ca704e1221c9d394a",
       "value": "#bc3754"
      }
     },
     "0a9af5c9973f49079ab7ad6b20a8e319": {
      "model_module": "@jupyter-widgets/controls",
      "model_module_version": "1.5.0",
      "model_name": "DescriptionStyleModel",
      "state": {
       "description_width": ""
      }
     },
     "0aae653139054453819625e2fce0197e": {
      "model_module": "@jupyter-widgets/base",
      "model_module_version": "1.2.0",
      "model_name": "LayoutModel",
      "state": {}
     },
     "0af682c873504a4cb04fa469f56b482d": {
      "model_module": "@jupyter-widgets/controls",
      "model_module_version": "1.5.0",
      "model_name": "DescriptionStyleModel",
      "state": {
       "description_width": ""
      }
     },
     "0cf33a5769a44faaa562d3b3703eeceb": {
      "model_module": "@jupyter-widgets/base",
      "model_module_version": "1.2.0",
      "model_name": "LayoutModel",
      "state": {}
     },
     "0da8c4f876bf448798c943fa88594135": {
      "buffers": [
       {
        "data": "AACAPgAAYD4AAIA+AAAAPwAAYD4AAIA+AAAAPwAAAD8AAIA+AACAPgAAAD8AAIA+AACAPgAAYD4AAAA/AAAAPwAAYD4AAAA/AAAAPwAAAD8AAAA/AACAPgAAAD8AAAA/AAAAPwAAYD4AAIA+AABAPwAAYD4AAIA+AABAPwAAAD8AAIA+AAAAPwAAAD8AAIA+AAAAPwAAYD4AAAA/AABAPwAAYD4AAAA/AABAPwAAAD8AAAA/AAAAPwAAAD8AAAA/AABgPgAAAD8AAIA+AAAAPwAAAD8AAIA+AAAAPwAAQD8AAIA+AABgPgAAQD8AAIA+AABgPgAAAD8AAAA/AAAAPwAAAD8AAAA/AAAAPwAAQD8AAAA/AABgPgAAQD8AAAA/AAAAPwAAAD8AAIA+AABAPwAAAD8AAIA+AABAPwAAQD8AAIA+AAAAPwAAQD8AAIA+AAAAPwAAAD8AAAA/AABAPwAAAD8AAAA/AABAPwAAQD8AAAA/AAAAPwAAQD8AAAA/AACAPgAAgD4AAAA/AAAAPwAAgD4AAAA/AAAAPwAAAD8AAAA/AACAPgAAAD8AAAA/AACAPgAAgD4AAEA/AAAAPwAAgD4AAEA/AAAAPwAAAD8AAEA/AACAPgAAAD8AAEA/AAAAPwAAgD4AAAA/AABAPwAAgD4AAAA/AABAPwAAAD8AAAA/AAAAPwAAAD8AAAA/AAAAPwAAgD4AAEA/AABAPwAAgD4AAEA/AABAPwAAAD8AAEA/AAAAPwAAAD8AAEA/AACAPgAAAD8AAAA/AAAAPwAAAD8AAAA/AAAAPwAAQD8AAAA/AACAPgAAQD8AAAA/AACAPgAAAD8AAEA/AAAAPwAAAD8AAEA/AAAAPwAAQD8AAEA/AACAPgAAQD8AAEA/AAAAPwAAAD8AAAA/AABAPwAAAD8AAAA/AABAPwAAQD8AAAA/AAAAPwAAQD8AAAA/AAAAPwAAAD8AAEA/AABAPwAAAD8AAEA/AABAPwAAQD8AAEA/AAAAPwAAQD8AAEA/",
        "encoding": "base64",
        "path": [
         "array",
         "buffer"
        ]
       }
      ],
      "model_module": "jupyter-threejs",
      "model_module_version": "^2.1.0",
      "model_name": "BufferAttributeModel",
      "state": {
       "_view_module": null,
       "_view_module_version": "",
       "array": {
        "buffer": {},
        "dtype": "float32",
        "shape": [
         64,
         3
        ]
       },
       "version": 2
      }
     },
     "0dace6be50d8409c83955ee7ecf1803b": {
      "model_module": "@jupyter-widgets/controls",
      "model_module_version": "1.5.0",
      "model_name": "DescriptionStyleModel",
      "state": {
       "description_width": ""
      }
     },
     "0ec636fae14a4bfcbc7f1d3fb82f446e": {
      "model_module": "@jupyter-widgets/controls",
      "model_module_version": "1.5.0",
      "model_name": "SliderStyleModel",
      "state": {
       "description_width": ""
      }
     },
     "0f403bad97ef4e849eeba7f7b38765a0": {
      "model_module": "@jupyter-widgets/controls",
      "model_module_version": "1.5.0",
      "model_name": "LinkModel",
      "state": {
       "source": [
        "IPY_MODEL_1f0023b2d3a4415cbbfbe817d0bb0121",
        "value"
       ],
       "target": [
        "IPY_MODEL_f9fdddefab7844b9a16233e464f43a23",
        "visible"
       ]
      }
     },
     "0f702d1fa9354dc2a0700fd652f6839e": {
      "model_module": "@jupyter-widgets/output",
      "model_module_version": "1.0.0",
      "model_name": "OutputModel",
      "state": {
       "layout": "IPY_MODEL_07328d52fea747a6be326b3696ffbb5f"
      }
     },
     "0f9b04517b1b484798cbd48e5a920649": {
      "model_module": "@jupyter-widgets/controls",
      "model_module_version": "1.5.0",
      "model_name": "HBoxModel",
      "state": {
       "children": [
        "IPY_MODEL_04e611dc9e0645269b482402595c9b04",
        "IPY_MODEL_b5670de07025498c8bcd5a82718048aa"
       ],
       "layout": "IPY_MODEL_39b3e4a9c23c471485658fe719b1a4fc"
      }
     },
     "0fbee6afac2c475ab48ff352d223b32b": {
      "model_module": "@jupyter-widgets/base",
      "model_module_version": "1.2.0",
      "model_name": "LayoutModel",
      "state": {}
     },
     "1078c26847f24431aa7a776ec4347676": {
      "model_module": "@jupyter-widgets/controls",
      "model_module_version": "1.5.0",
      "model_name": "SliderStyleModel",
      "state": {
       "description_width": ""
      }
     },
     "13b79497a3aa48e6b4ccebc7a5e8d59b": {
      "model_module": "@jupyter-widgets/base",
      "model_module_version": "1.2.0",
      "model_name": "LayoutModel",
      "state": {}
     },
     "16072d33451748f0957f00e209c6419a": {
      "model_module": "@jupyter-widgets/base",
      "model_module_version": "1.2.0",
      "model_name": "LayoutModel",
      "state": {
       "height": "95%"
      }
     },
     "1775f52e3f7349549c9040ed1c22a885": {
      "model_module": "@jupyter-widgets/controls",
      "model_module_version": "1.5.0",
      "model_name": "HTMLModel",
      "state": {
       "layout": "IPY_MODEL_805f94dc4f804e409439df2ae62c60ec",
       "style": "IPY_MODEL_27294a20f1e04dc2be2f8ed7e80f45ca",
       "value": "Empty"
      }
     },
     "1838ca9bccd1438f9451007e2c16779b": {
      "model_module": "jupyter-threejs",
      "model_module_version": "^2.1.0",
      "model_name": "OrbitControlsModel",
      "state": {
       "_view_module": null,
       "_view_module_version": "",
       "controlling": "IPY_MODEL_addfb491d3f5473fa41429f064bb40bc",
       "maxAzimuthAngle": "inf",
       "maxDistance": "inf",
       "maxZoom": "inf",
       "minAzimuthAngle": "-inf",
       "target": [
        0.5,
        0.5,
        0.5
       ]
      }
     },
     "1a69f70bdd1f4f9b93287542f531ea69": {
      "model_module": "@jupyter-widgets/base",
      "model_module_version": "1.2.0",
      "model_name": "LayoutModel",
      "state": {}
     },
     "1b726a0dc55542e8ba3fd28760ab5853": {
      "model_module": "@jupyter-widgets/controls",
      "model_module_version": "1.5.0",
      "model_name": "TabModel",
      "state": {
       "_titles": {
        "0": "Source",
        "1": "Variables"
       },
       "children": [
        "IPY_MODEL_77395ca6642841dd9ed4853ffdb997b5",
        "IPY_MODEL_d4dc7e0946f74c98b243a7689df2a3cc"
       ],
       "layout": "IPY_MODEL_a04a2672ec384ad9b0a7f5dfa1299fa2"
      }
     },
     "1bd8f6b7d52940ceaf2a565167bc0a25": {
      "model_module": "@jupyter-widgets/controls",
      "model_module_version": "1.5.0",
      "model_name": "SliderStyleModel",
      "state": {
       "description_width": ""
      }
     },
     "1bfea2e3fcdb4599b8904c5560d74acf": {
      "model_module": "@jupyter-widgets/base",
      "model_module_version": "1.2.0",
      "model_name": "LayoutModel",
      "state": {}
     },
     "1f0023b2d3a4415cbbfbe817d0bb0121": {
      "model_module": "@jupyter-widgets/controls",
      "model_module_version": "1.5.0",
      "model_name": "CheckboxModel",
      "state": {
       "description": "Level 1",
       "disabled": false,
       "layout": "IPY_MODEL_2fd769577e5f467996d756f4a4cd1888",
       "style": "IPY_MODEL_82ebfe8969814e99846563792ff4418b",
       "value": true
      }
     },
     "1f32a7c1deed4350ada068f88b06c266": {
      "model_module": "@jupyter-widgets/controls",
      "model_module_version": "1.5.0",
      "model_name": "DescriptionStyleModel",
      "state": {
       "description_width": ""
      }
     },
     "1fc55647dc9640a4bd2173e04426af43": {
      "model_module": "@jupyter-widgets/base",
      "model_module_version": "1.2.0",
      "model_name": "LayoutModel",
      "state": {
       "height": "100%",
       "overflow_y": "scroll",
       "width": "100%"
      }
     },
     "1fdcd82871a74e53b7d0cae721f1fa22": {
      "model_module": "@jupyter-widgets/output",
      "model_module_version": "1.0.0",
      "model_name": "OutputModel",
      "state": {
       "layout": "IPY_MODEL_956df0660ddf41a5a4bee9ab3df2e40b"
      }
     },
     "204ca954a8854c50bfbf85824e61bc6d": {
      "model_module": "jupyter-threejs",
      "model_module_version": "^2.1.0",
      "model_name": "LineSegmentsModel",
      "state": {
       "_view_module": null,
       "_view_module_version": "",
       "geometry": "IPY_MODEL_aa3ceb6c7e384eeeb2963d5994d93902",
       "material": "IPY_MODEL_3e3a11eaba2549799ab048d09bf4deb9"
      }
     },
     "21d901b181624b8d90384edcfd94107e": {
      "model_module": "@jupyter-widgets/controls",
      "model_module_version": "1.5.0",
      "model_name": "BoxModel",
      "state": {
       "children": [
        "IPY_MODEL_e2b7faf82cb04b17b5c83e1225a47f72"
       ],
       "layout": "IPY_MODEL_475fb1520e934927af105e9a1b210e22"
      }
     },
     "226830e48d574941963b32cd9e4920d2": {
      "model_module": "@jupyter-widgets/base",
      "model_module_version": "1.2.0",
      "model_name": "LayoutModel",
      "state": {
       "height": "500px"
      }
     },
     "226c7f2779a04eea8cd1316269c75fc1": {
      "model_module": "@jupyter-widgets/controls",
      "model_module_version": "1.5.0",
      "model_name": "SelectModel",
      "state": {
       "_options_labels": [
        "age",
        "creation_time",
        "dynamical_time",
        "mesh_id",
        "metallicity_fraction",
        "particle_angular_momentum",
        "particle_angular_momentum_magnitude",
        "particle_angular_momentum_x",
        "particle_angular_momentum_y",
        "particle_angular_momentum_z",
        "particle_cylindrical_velocity_theta",
        "particle_cylindrical_velocity_z",
        "particle_index",
        "particle_mass",
        "particle_ones",
        "particle_position",
        "particle_position_cylindrical_radius",
        "particle_position_cylindrical_theta",
        "particle_position_cylindrical_z",
        "particle_position_relative_x",
        "particle_position_relative_y",
        "particle_position_relative_z",
        "particle_position_spherical_phi",
        "particle_position_spherical_radius",
        "particle_position_spherical_theta",
        "particle_position_x",
        "particle_position_y",
        "particle_position_z",
        "particle_radial_velocity",
        "particle_radius",
        "particle_specific_angular_momentum",
        "particle_specific_angular_momentum_x",
        "particle_specific_angular_momentum_y",
        "particle_specific_angular_momentum_z",
        "particle_spherical_position_phi",
        "particle_spherical_position_radius",
        "particle_spherical_position_theta",
        "particle_spherical_velocity_phi",
        "particle_spherical_velocity_radius",
        "particle_spherical_velocity_theta",
        "particle_type",
        "particle_velocity",
        "particle_velocity_cylindrical_radius",
        "particle_velocity_cylindrical_theta",
        "particle_velocity_cylindrical_z",
        "particle_velocity_magnitude",
        "particle_velocity_relative_x",
        "particle_velocity_relative_y",
        "particle_velocity_relative_z",
        "particle_velocity_spherical_phi",
        "particle_velocity_spherical_radius",
        "particle_velocity_spherical_theta",
        "particle_velocity_x",
        "particle_velocity_y",
        "particle_velocity_z",
        "relative_particle_position",
        "relative_particle_position_x",
        "relative_particle_position_y",
        "relative_particle_position_z",
        "relative_particle_velocity",
        "relative_particle_velocity_x",
        "relative_particle_velocity_y",
        "relative_particle_velocity_z"
       ],
       "index": 0,
       "layout": "IPY_MODEL_27b44e1b12e7446bb7fff80cfafb7927",
       "style": "IPY_MODEL_6df9b105e0194c648691d96ea351078b"
      }
     },
     "2360e0248f0a4287a192cecd90f61ff9": {
      "model_module": "@jupyter-widgets/base",
      "model_module_version": "1.2.0",
      "model_name": "LayoutModel",
      "state": {}
     },
     "2579c72fc6bc49d998cd5d7aa6eb9fa1": {
      "model_module": "@jupyter-widgets/base",
      "model_module_version": "1.2.0",
      "model_name": "LayoutModel",
      "state": {}
     },
     "25c3470ad924448dae0e21fddfc3e5f0": {
      "model_module": "@jupyter-widgets/base",
      "model_module_version": "1.2.0",
      "model_name": "LayoutModel",
      "state": {}
     },
     "26eb0948c53d4945a26379bdbd1c7b8f": {
      "model_module": "@jupyter-widgets/controls",
      "model_module_version": "1.5.0",
      "model_name": "FloatSliderModel",
      "state": {
       "layout": "IPY_MODEL_13b79497a3aa48e6b4ccebc7a5e8d59b",
       "max": 10,
       "step": 0.1,
       "style": "IPY_MODEL_bebd6ff1e41e4693a0a939b3c71657a6",
       "value": 1
      }
     },
     "27294a20f1e04dc2be2f8ed7e80f45ca": {
      "model_module": "@jupyter-widgets/controls",
      "model_module_version": "1.5.0",
      "model_name": "DescriptionStyleModel",
      "state": {
       "description_width": ""
      }
     },
     "2766ac74d25840d19187458f2c2fabc6": {
      "buffers": [
       {
        "data": "AAAAAAAAAAAAAAAAAACAPwAAAAAAAAAAAACAPwAAgD8AAAAAAAAAAAAAgD8AAAAAAAAAAAAAAAAAAIA/AACAPwAAAAAAAIA/AACAPwAAgD8AAIA/AAAAAAAAgD8AAIA/",
        "encoding": "base64",
        "path": [
         "array",
         "buffer"
        ]
       }
      ],
      "model_module": "jupyter-threejs",
      "model_module_version": "^2.1.0",
      "model_name": "BufferAttributeModel",
      "state": {
       "_view_module": null,
       "_view_module_version": "",
       "array": {
        "buffer": {},
        "dtype": "float32",
        "shape": [
         8,
         3
        ]
       },
       "version": 2
      }
     },
     "27b44e1b12e7446bb7fff80cfafb7927": {
      "model_module": "@jupyter-widgets/base",
      "model_module_version": "1.2.0",
      "model_name": "LayoutModel",
      "state": {
       "height": "95%"
      }
     },
     "281519b4b4d6455fb1a2ad559d387cd6": {
      "model_module": "@jupyter-widgets/output",
      "model_module_version": "1.0.0",
      "model_name": "OutputModel",
      "state": {
       "layout": "IPY_MODEL_cfe68cc8fac44723847ae0c065a4b0f0",
       "outputs": [
        {
         "data": {
          "application/vnd.jupyter.widget-view+json": {
           "model_id": "cc0f3e5d9b054de08c66b6d3214ccd52",
           "version_major": 2,
           "version_minor": 0
          },
          "text/plain": "HBox(children=(Select(layout=Layout(height='95%'), options=('all_cic', 'all_cic_age', 'all_cic_velocity_x', 'a…"
         },
         "metadata": {},
         "output_type": "display_data"
        }
       ]
      }
     },
     "2865e9f716ef4a5b83bef1a10dddce73": {
      "model_module": "@jupyter-widgets/controls",
      "model_module_version": "1.5.0",
      "model_name": "HBoxModel",
      "state": {
       "children": [
        "IPY_MODEL_e14874c06cea405199ec764edde992f4",
        "IPY_MODEL_a9002f25d2534c46b1150cf7d709f9ec"
       ],
       "layout": "IPY_MODEL_2b23359014474790b8f5a1a4cdc2eaf6"
      }
     },
     "2a5503ca75874af0a5b95128576c09b2": {
      "model_module": "@jupyter-widgets/base",
      "model_module_version": "1.2.0",
      "model_name": "LayoutModel",
      "state": {}
     },
     "2b23359014474790b8f5a1a4cdc2eaf6": {
      "model_module": "@jupyter-widgets/base",
      "model_module_version": "1.2.0",
      "model_name": "LayoutModel",
      "state": {
       "height": "14em"
      }
     },
     "2c5449605c994b6d83028fbcc2ebdb53": {
      "model_module": "jupyter-threejs",
      "model_module_version": "^2.1.0",
      "model_name": "LineBasicMaterialModel",
      "state": {
       "_view_module": null,
       "_view_module_version": "",
       "color": "#a32c61"
      }
     },
     "2cc5ab75726b490fb0669fe7f8c55848": {
      "model_module": "@jupyter-widgets/controls",
      "model_module_version": "1.5.0",
      "model_name": "SelectModel",
      "state": {
       "_options_labels": [
        "El_density",
        "El_fraction",
        "El_mass",
        "El_number_density",
        "H_density",
        "H_fraction",
        "H_mass",
        "H_nuclei_density",
        "H_number_density",
        "H_p0_density",
        "H_p0_fraction",
        "H_p0_mass",
        "H_p0_number_density",
        "H_p1_density",
        "H_p1_fraction",
        "H_p1_mass",
        "H_p1_number_density",
        "He_density",
        "He_fraction",
        "He_mass",
        "He_nuclei_density",
        "He_number_density",
        "He_p0_density",
        "He_p0_fraction",
        "He_p0_mass",
        "He_p0_number_density",
        "He_p1_density",
        "He_p1_fraction",
        "He_p1_mass",
        "He_p1_number_density",
        "He_p2_density",
        "He_p2_fraction",
        "He_p2_mass",
        "He_p2_number_density",
        "alfven_speed",
        "angular_momentum_magnitude",
        "angular_momentum_x",
        "angular_momentum_y",
        "angular_momentum_z",
        "averaged_density",
        "baroclinic_vorticity_magnitude",
        "baroclinic_vorticity_x",
        "baroclinic_vorticity_y",
        "baroclinic_vorticity_z",
        "cell_mass",
        "cell_volume",
        "cooling_time",
        "courant_time_step",
        "cutting_plane_magnetic_field_x",
        "cutting_plane_magnetic_field_y",
        "cutting_plane_magnetic_field_z",
        "cutting_plane_velocity_x",
        "cutting_plane_velocity_y",
        "cutting_plane_velocity_z",
        "cylindrical_radial_magnetic_field",
        "cylindrical_radial_magnetic_field_absolute",
        "cylindrical_radial_velocity",
        "cylindrical_radial_velocity_absolute",
        "cylindrical_tangential_magnetic_field",
        "cylindrical_tangential_magnetic_field_absolute",
        "cylindrical_tangential_velocity",
        "cylindrical_tangential_velocity_absolute",
        "dark_matter_density",
        "density",
        "density_gradient_magnitude",
        "density_gradient_x",
        "density_gradient_y",
        "density_gradient_z",
        "dx",
        "dy",
        "dynamical_time",
        "dz",
        "emission_measure",
        "entropy",
        "jeans_mass",
        "kT",
        "kinetic_energy",
        "mach_alfven",
        "mach_number",
        "magnetic_energy",
        "magnetic_field_cylindrical_radius",
        "magnetic_field_cylindrical_theta",
        "magnetic_field_cylindrical_z",
        "magnetic_field_divergence",
        "magnetic_field_divergence_absolute",
        "magnetic_field_los",
        "magnetic_field_magnitude",
        "magnetic_field_poloidal",
        "magnetic_field_spherical_phi",
        "magnetic_field_spherical_radius",
        "magnetic_field_spherical_theta",
        "magnetic_field_strength",
        "magnetic_field_toroidal",
        "magnetic_field_x",
        "magnetic_field_y",
        "magnetic_field_z",
        "magnetic_pressure",
        "mass",
        "matter_density",
        "matter_mass",
        "mazzotta_weighting",
        "mean_molecular_weight",
        "metal_density",
        "metal_mass",
        "metallicity",
        "number_density",
        "optical_depth",
        "path_element_x",
        "path_element_y",
        "path_element_z",
        "plasma_beta",
        "pressure",
        "pressure_gradient_magnitude",
        "pressure_gradient_x",
        "pressure_gradient_y",
        "pressure_gradient_z",
        "radial_mach_number",
        "radial_magnetic_field",
        "radial_magnetic_field_absolute",
        "radial_velocity",
        "radial_velocity_absolute",
        "relative_magnetic_field_x",
        "relative_magnetic_field_y",
        "relative_magnetic_field_z",
        "relative_velocity_x",
        "relative_velocity_y",
        "relative_velocity_z",
        "rotation_measure",
        "shear",
        "shear_criterion",
        "shear_mach",
        "sound_speed",
        "specific_angular_momentum_magnitude",
        "specific_angular_momentum_x",
        "specific_angular_momentum_y",
        "specific_angular_momentum_z",
        "sz_kinetic",
        "szy",
        "tangential_magnetic_field",
        "tangential_over_magnetic_field_magnitude",
        "tangential_over_velocity_magnitude",
        "tangential_velocity",
        "temperature",
        "thermal_energy",
        "total_energy",
        "velocity_cylindrical_radius",
        "velocity_cylindrical_theta",
        "velocity_cylindrical_z",
        "velocity_divergence",
        "velocity_divergence_absolute",
        "velocity_los",
        "velocity_magnitude",
        "velocity_spherical_phi",
        "velocity_spherical_radius",
        "velocity_spherical_theta",
        "velocity_x",
        "velocity_y",
        "velocity_z",
        "vertex_x",
        "vertex_y",
        "vertex_z",
        "volume",
        "vorticity_growth_magnitude",
        "vorticity_growth_magnitude_absolute",
        "vorticity_growth_timescale",
        "vorticity_growth_x",
        "vorticity_growth_y",
        "vorticity_growth_z",
        "vorticity_magnitude",
        "vorticity_squared",
        "vorticity_stretching_magnitude",
        "vorticity_stretching_x",
        "vorticity_stretching_y",
        "vorticity_stretching_z",
        "vorticity_x",
        "vorticity_y",
        "vorticity_z",
        "x",
        "y",
        "z"
       ],
       "index": 0,
       "layout": "IPY_MODEL_fd09f0012c8a4151bec03c2623c8292a",
       "style": "IPY_MODEL_92da78d946174ebe903ea4a5059d3240"
      }
     },
     "2cef7a16fcf9431c8bf0b267314e4832": {
      "model_module": "@jupyter-widgets/controls",
      "model_module_version": "1.5.0",
      "model_name": "LinkModel",
      "state": {
       "source": [
        "IPY_MODEL_ff9665221d434d5bb5df502dd6e5cb4f",
        "value"
       ],
       "target": [
        "IPY_MODEL_79b2b7f83dd444e1b6fe466035de69ee",
        "linewidth"
       ]
      }
     },
     "2d56fcd3cc2b42ca9d976914d4da8877": {
      "model_module": "@jupyter-widgets/controls",
      "model_module_version": "1.5.0",
      "model_name": "DropdownModel",
      "state": {
       "_options_labels": [
        "AU",
        "Rearth",
        "Rjup",
        "Rsun",
        "cm",
        "code_length",
        "ft",
        "furlong",
        "inch",
        "l_geom",
        "l_pl",
        "ly",
        "m",
        "mil",
        "mile",
        "pc",
        "smoot",
        "unitary",
        "yd",
        "Å"
       ],
       "index": 5,
       "layout": "IPY_MODEL_921cf17879d844729f8e3deacd9135de",
       "style": "IPY_MODEL_acdc26e5f6ae4b779fe8295f0ee9deb8"
      }
     },
     "2ed3c6b98c254d93b45e813de0872d9c": {
      "model_module": "@jupyter-widgets/controls",
      "model_module_version": "1.5.0",
      "model_name": "DescriptionStyleModel",
      "state": {
       "description_width": ""
      }
     },
     "2fb9bd6c662048a19328a4dfd204f9cb": {
      "model_module": "@jupyter-widgets/base",
      "model_module_version": "1.2.0",
      "model_name": "LayoutModel",
      "state": {
       "height": "9em",
       "width": "100%"
      }
     },
     "2fd769577e5f467996d756f4a4cd1888": {
      "model_module": "@jupyter-widgets/base",
      "model_module_version": "1.2.0",
      "model_name": "LayoutModel",
      "state": {}
     },
     "30959434c4bf42b0a3ea9c169fac4705": {
      "model_module": "jupyter-threejs",
      "model_module_version": "^2.1.0",
      "model_name": "WebGLShadowMapModel",
      "state": {
       "_view_module": null,
       "_view_module_version": ""
      }
     },
     "30dcd6e8d81f41de9cda7956975d8322": {
      "model_module": "@jupyter-widgets/controls",
      "model_module_version": "1.5.0",
      "model_name": "DescriptionStyleModel",
      "state": {
       "description_width": ""
      }
     },
     "31a189bcac9f4972be0225e2ff7da893": {
      "model_module": "@jupyter-widgets/controls",
      "model_module_version": "1.5.0",
      "model_name": "BoxModel",
      "state": {
       "children": [
        "IPY_MODEL_ce4b88b622c34590997d5b4e938cd5c5"
       ],
       "layout": "IPY_MODEL_d0c46f564d224b8cb84dbbff9160b709"
      }
     },
     "31b5551ceb2345aea23ab0de070383f1": {
      "model_module": "@jupyter-widgets/controls",
      "model_module_version": "1.5.0",
      "model_name": "DescriptionStyleModel",
      "state": {
       "description_width": ""
      }
     },
     "3229796035204180b235c3b038ccaf3b": {
      "model_module": "@jupyter-widgets/base",
      "model_module_version": "1.2.0",
      "model_name": "LayoutModel",
      "state": {}
     },
     "32f011cd66f9442eb91e16a2f0557388": {
      "model_module": "@jupyter-widgets/controls",
      "model_module_version": "1.5.0",
      "model_name": "LinkModel",
      "state": {
       "source": [
        "IPY_MODEL_3707f192484746419c0bd83781133aaa",
        "value"
       ],
       "target": [
        "IPY_MODEL_da913d006c8a49c9a0413aac11359a0f",
        "linewidth"
       ]
      }
     },
     "338a50401cdf4e39861e6f7c0273dcef": {
      "buffers": [
       {
        "data": "AAAAAAEAAAABAAAAAgAAAAIAAAADAAAAAwAAAAAAAAAEAAAABQAAAAUAAAAGAAAABgAAAAcAAAAHAAAABAAAAAAAAAAEAAAAAQAAAAUAAAACAAAABgAAAAMAAAAHAAAACAAAAAkAAAAJAAAACgAAAAoAAAALAAAACwAAAAgAAAAMAAAADQAAAA0AAAAOAAAADgAAAA8AAAAPAAAADAAAAAgAAAAMAAAACQAAAA0AAAAKAAAADgAAAAsAAAAPAAAAEAAAABEAAAARAAAAEgAAABIAAAATAAAAEwAAABAAAAAUAAAAFQAAABUAAAAWAAAAFgAAABcAAAAXAAAAFAAAABAAAAAUAAAAEQAAABUAAAASAAAAFgAAABMAAAAXAAAAGAAAABkAAAAZAAAAGgAAABoAAAAbAAAAGwAAABgAAAAcAAAAHQAAAB0AAAAeAAAAHgAAAB8AAAAfAAAAHAAAABgAAAAcAAAAGQAAAB0AAAAaAAAAHgAAABsAAAAfAAAAIAAAACEAAAAhAAAAIgAAACIAAAAjAAAAIwAAACAAAAAkAAAAJQAAACUAAAAmAAAAJgAAACcAAAAnAAAAJAAAACAAAAAkAAAAIQAAACUAAAAiAAAAJgAAACMAAAAnAAAAKAAAACkAAAApAAAAKgAAACoAAAArAAAAKwAAACgAAAAsAAAALQAAAC0AAAAuAAAALgAAAC8AAAAvAAAALAAAACgAAAAsAAAAKQAAAC0AAAAqAAAALgAAACsAAAAvAAAAMAAAADEAAAAxAAAAMgAAADIAAAAzAAAAMwAAADAAAAA0AAAANQAAADUAAAA2AAAANgAAADcAAAA3AAAANAAAADAAAAA0AAAAMQAAADUAAAAyAAAANgAAADMAAAA3AAAAOAAAADkAAAA5AAAAOgAAADoAAAA7AAAAOwAAADgAAAA8AAAAPQAAAD0AAAA+AAAAPgAAAD8AAAA/AAAAPAAAADgAAAA8AAAAOQAAAD0AAAA6AAAAPgAAADsAAAA/AAAAQAAAAEEAAABBAAAAQgAAAEIAAABDAAAAQwAAAEAAAABEAAAARQAAAEUAAABGAAAARgAAAEcAAABHAAAARAAAAEAAAABEAAAAQQAAAEUAAABCAAAARgAAAEMAAABHAAAASAAAAEkAAABJAAAASgAAAEoAAABLAAAASwAAAEgAAABMAAAATQAAAE0AAABOAAAATgAAAE8AAABPAAAATAAAAEgAAABMAAAASQAAAE0AAABKAAAATgAAAEsAAABPAAAAUAAAAFEAAABRAAAAUgAAAFIAAABTAAAAUwAAAFAAAABUAAAAVQAAAFUAAABWAAAAVgAAAFcAAABXAAAAVAAAAFAAAABUAAAAUQAAAFUAAABSAAAAVgAAAFMAAABXAAAAWAAAAFkAAABZAAAAWgAAAFoAAABbAAAAWwAAAFgAAABcAAAAXQAAAF0AAABeAAAAXgAAAF8AAABfAAAAXAAAAFgAAABcAAAAWQAAAF0AAABaAAAAXgAAAFsAAABfAAAAYAAAAGEAAABhAAAAYgAAAGIAAABjAAAAYwAAAGAAAABkAAAAZQAAAGUAAABmAAAAZgAAAGcAAABnAAAAZAAAAGAAAABkAAAAYQAAAGUAAABiAAAAZgAAAGMAAABnAAAAaAAAAGkAAABpAAAAagAAAGoAAABrAAAAawAAAGgAAABsAAAAbQAAAG0AAABuAAAAbgAAAG8AAABvAAAAbAAAAGgAAABsAAAAaQAAAG0AAABqAAAAbgAAAGsAAABvAAAAcAAAAHEAAABxAAAAcgAAAHIAAABzAAAAcwAAAHAAAAB0AAAAdQAAAHUAAAB2AAAAdgAAAHcAAAB3AAAAdAAAAHAAAAB0AAAAcQAAAHUAAAByAAAAdgAAAHMAAAB3AAAAeAAAAHkAAAB5AAAAegAAAHoAAAB7AAAAewAAAHgAAAB8AAAAfQAAAH0AAAB+AAAAfgAAAH8AAAB/AAAAfAAAAHgAAAB8AAAAeQAAAH0AAAB6AAAAfgAAAHsAAAB/AAAAgAAAAIEAAACBAAAAggAAAIIAAACDAAAAgwAAAIAAAACEAAAAhQAAAIUAAACGAAAAhgAAAIcAAACHAAAAhAAAAIAAAACEAAAAgQAAAIUAAACCAAAAhgAAAIMAAACHAAAAiAAAAIkAAACJAAAAigAAAIoAAACLAAAAiwAAAIgAAACMAAAAjQAAAI0AAACOAAAAjgAAAI8AAACPAAAAjAAAAIgAAACMAAAAiQAAAI0AAACKAAAAjgAAAIsAAACPAAAAkAAAAJEAAACRAAAAkgAAAJIAAACTAAAAkwAAAJAAAACUAAAAlQAAAJUAAACWAAAAlgAAAJcAAACXAAAAlAAAAJAAAACUAAAAkQAAAJUAAACSAAAAlgAAAJMAAACXAAAAmAAAAJkAAACZAAAAmgAAAJoAAACbAAAAmwAAAJgAAACcAAAAnQAAAJ0AAACeAAAAngAAAJ8AAACfAAAAnAAAAJgAAACcAAAAmQAAAJ0AAACaAAAAngAAAJsAAACfAAAAoAAAAKEAAAChAAAAogAAAKIAAACjAAAAowAAAKAAAACkAAAApQAAAKUAAACmAAAApgAAAKcAAACnAAAApAAAAKAAAACkAAAAoQAAAKUAAACiAAAApgAAAKMAAACnAAAAqAAAAKkAAACpAAAAqgAAAKoAAACrAAAAqwAAAKgAAACsAAAArQAAAK0AAACuAAAArgAAAK8AAACvAAAArAAAAKgAAACsAAAAqQAAAK0AAACqAAAArgAAAKsAAACvAAAAsAAAALEAAACxAAAAsgAAALIAAACzAAAAswAAALAAAAC0AAAAtQAAALUAAAC2AAAAtgAAALcAAAC3AAAAtAAAALAAAAC0AAAAsQAAALUAAACyAAAAtgAAALMAAAC3AAAAuAAAALkAAAC5AAAAugAAALoAAAC7AAAAuwAAALgAAAC8AAAAvQAAAL0AAAC+AAAAvgAAAL8AAAC/AAAAvAAAALgAAAC8AAAAuQAAAL0AAAC6AAAAvgAAALsAAAC/AAAAwAAAAMEAAADBAAAAwgAAAMIAAADDAAAAwwAAAMAAAADEAAAAxQAAAMUAAADGAAAAxgAAAMcAAADHAAAAxAAAAMAAAADEAAAAwQAAAMUAAADCAAAAxgAAAMMAAADHAAAAyAAAAMkAAADJAAAAygAAAMoAAADLAAAAywAAAMgAAADMAAAAzQAAAM0AAADOAAAAzgAAAM8AAADPAAAAzAAAAMgAAADMAAAAyQAAAM0AAADKAAAAzgAAAMsAAADPAAAA0AAAANEAAADRAAAA0gAAANIAAADTAAAA0wAAANAAAADUAAAA1QAAANUAAADWAAAA1gAAANcAAADXAAAA1AAAANAAAADUAAAA0QAAANUAAADSAAAA1gAAANMAAADXAAAA2AAAANkAAADZAAAA2gAAANoAAADbAAAA2wAAANgAAADcAAAA3QAAAN0AAADeAAAA3gAAAN8AAADfAAAA3AAAANgAAADcAAAA2QAAAN0AAADaAAAA3gAAANsAAADfAAAA4AAAAOEAAADhAAAA4gAAAOIAAADjAAAA4wAAAOAAAADkAAAA5QAAAOUAAADmAAAA5gAAAOcAAADnAAAA5AAAAOAAAADkAAAA4QAAAOUAAADiAAAA5gAAAOMAAADnAAAA6AAAAOkAAADpAAAA6gAAAOoAAADrAAAA6wAAAOgAAADsAAAA7QAAAO0AAADuAAAA7gAAAO8AAADvAAAA7AAAAOgAAADsAAAA6QAAAO0AAADqAAAA7gAAAOsAAADvAAAA8AAAAPEAAADxAAAA8gAAAPIAAADzAAAA8wAAAPAAAAD0AAAA9QAAAPUAAAD2AAAA9gAAAPcAAAD3AAAA9AAAAPAAAAD0AAAA8QAAAPUAAADyAAAA9gAAAPMAAAD3AAAA+AAAAPkAAAD5AAAA+gAAAPoAAAD7AAAA+wAAAPgAAAD8AAAA/QAAAP0AAAD+AAAA/gAAAP8AAAD/AAAA/AAAAPgAAAD8AAAA+QAAAP0AAAD6AAAA/gAAAPsAAAD/AAAAAAEAAAEBAAABAQAAAgEAAAIBAAADAQAAAwEAAAABAAAEAQAABQEAAAUBAAAGAQAABgEAAAcBAAAHAQAABAEAAAABAAAEAQAAAQEAAAUBAAACAQAABgEAAAMBAAAHAQAACAEAAAkBAAAJAQAACgEAAAoBAAALAQAACwEAAAgBAAAMAQAADQEAAA0BAAAOAQAADgEAAA8BAAAPAQAADAEAAAgBAAAMAQAACQEAAA0BAAAKAQAADgEAAAsBAAAPAQAAEAEAABEBAAARAQAAEgEAABIBAAATAQAAEwEAABABAAAUAQAAFQEAABUBAAAWAQAAFgEAABcBAAAXAQAAFAEAABABAAAUAQAAEQEAABUBAAASAQAAFgEAABMBAAAXAQAAGAEAABkBAAAZAQAAGgEAABoBAAAbAQAAGwEAABgBAAAcAQAAHQEAAB0BAAAeAQAAHgEAAB8BAAAfAQAAHAEAABgBAAAcAQAAGQEAAB0BAAAaAQAAHgEAABsBAAAfAQAA",
        "encoding": "base64",
        "path": [
         "array",
         "buffer"
        ]
       }
      ],
      "model_module": "jupyter-threejs",
      "model_module_version": "^2.1.0",
      "model_name": "BufferAttributeModel",
      "state": {
       "_view_module": null,
       "_view_module_version": "",
       "array": {
        "buffer": {},
        "dtype": "uint32",
        "shape": [
         864
        ]
       },
       "version": 2
      }
     },
     "34f8ca321dde4dfbb631ef6760b087ff": {
      "model_module": "@jupyter-widgets/base",
      "model_module_version": "1.2.0",
      "model_name": "LayoutModel",
      "state": {}
     },
     "35ed2c837e9041b2b70c3f6c457f48a3": {
      "model_module": "@jupyter-widgets/base",
      "model_module_version": "1.2.0",
      "model_name": "LayoutModel",
      "state": {}
     },
     "3707f192484746419c0bd83781133aaa": {
      "model_module": "@jupyter-widgets/controls",
      "model_module_version": "1.5.0",
      "model_name": "FloatSliderModel",
      "state": {
       "layout": "IPY_MODEL_3229796035204180b235c3b038ccaf3b",
       "max": 10,
       "step": 0.1,
       "style": "IPY_MODEL_686ef2714a3e4ecdaf38a35068d1ef3b",
       "value": 1
      }
     },
     "385b221bbc81414bb49553b0fe3e4e5b": {
      "model_module": "@jupyter-widgets/controls",
      "model_module_version": "1.5.0",
      "model_name": "ColorPickerModel",
      "state": {
       "concise": true,
       "disabled": false,
       "layout": "IPY_MODEL_fb4189a24b8646128b13ce4928256ddd",
       "style": "IPY_MODEL_7f6c577a4558469b8fe7928d4aae44bb",
       "value": "#210c4a"
      }
     },
     "387df68be2e2427baf4a93510b4e916f": {
      "model_module": "@jupyter-widgets/base",
      "model_module_version": "1.2.0",
      "model_name": "LayoutModel",
      "state": {}
     },
     "39a6604d546c4629aa1a1122cc48ab40": {
      "model_module": "@jupyter-widgets/controls",
      "model_module_version": "1.5.0",
      "model_name": "DescriptionStyleModel",
      "state": {
       "description_width": ""
      }
     },
     "39b3e4a9c23c471485658fe719b1a4fc": {
      "model_module": "@jupyter-widgets/base",
      "model_module_version": "1.2.0",
      "model_name": "LayoutModel",
      "state": {
       "height": "14em"
      }
     },
     "39f30ec129d84164aa11e6929395cff9": {
      "model_module": "@jupyter-widgets/controls",
      "model_module_version": "1.5.0",
      "model_name": "TabModel",
      "state": {
       "_titles": {
        "0": "all",
        "1": "deposit",
        "2": "enzo",
        "3": "gas",
        "4": "index",
        "5": "io",
        "6": "nbody"
       },
       "children": [
        "IPY_MODEL_5b1cace3dfa14444bf11527d2c24f64e",
        "IPY_MODEL_281519b4b4d6455fb1a2ad559d387cd6",
        "IPY_MODEL_88529009f1a849ce900657ae13fa9328",
        "IPY_MODEL_6956d309e7824080bfa882fa08dcfb9c",
        "IPY_MODEL_bb386966bd674616b17ebc1d39f05c6e",
        "IPY_MODEL_a4403ae4269d4e038bf4b051af29d398",
        "IPY_MODEL_acc8d933c42a4443930384018ff1ba7a"
       ],
       "layout": "IPY_MODEL_0836899562dc4f25a3d092f688974fa7"
      }
     },
     "3af64ddfc22d413a8784514dc3b88896": {
      "model_module": "@jupyter-widgets/controls",
      "model_module_version": "1.5.0",
      "model_name": "LinkModel",
      "state": {
       "source": [
        "IPY_MODEL_78516b5aef124edb96f4ae948bfd9815",
        "value"
       ],
       "target": [
        "IPY_MODEL_436849ac6612416d8ab535e388fd4e94",
        "linewidth"
       ]
      }
     },
     "3b1e9895751745c8be3f41015d3527ba": {
      "model_module": "@jupyter-widgets/controls",
      "model_module_version": "1.5.0",
      "model_name": "CheckboxModel",
      "state": {
       "description": "Level 0",
       "disabled": false,
       "layout": "IPY_MODEL_d747d56c16f3465ab1fe3963490ea4d3",
       "style": "IPY_MODEL_80153bdf42bf4dcd92e59023909ccdb2",
       "value": true
      }
     },
     "3b73a028a26e46a4b62663c219a1516e": {
      "model_module": "@jupyter-widgets/controls",
      "model_module_version": "1.5.0",
      "model_name": "DescriptionStyleModel",
      "state": {
       "description_width": ""
      }
     },
     "3c61a385ca7642eaa9229da60da74ea7": {
      "model_module": "@jupyter-widgets/base",
      "model_module_version": "1.2.0",
      "model_name": "LayoutModel",
      "state": {
       "height": "100%",
       "overflow_y": "scroll",
       "width": "100%"
      }
     },
     "3c765190ee4a4054b27431c8343e388d": {
      "buffers": [
       {
        "data": "AAAAAAEAAAABAAAAAgAAAAIAAAADAAAAAwAAAAAAAAAEAAAABQAAAAUAAAAGAAAABgAAAAcAAAAHAAAABAAAAAAAAAAEAAAAAQAAAAUAAAACAAAABgAAAAMAAAAHAAAACAAAAAkAAAAJAAAACgAAAAoAAAALAAAACwAAAAgAAAAMAAAADQAAAA0AAAAOAAAADgAAAA8AAAAPAAAADAAAAAgAAAAMAAAACQAAAA0AAAAKAAAADgAAAAsAAAAPAAAAEAAAABEAAAARAAAAEgAAABIAAAATAAAAEwAAABAAAAAUAAAAFQAAABUAAAAWAAAAFgAAABcAAAAXAAAAFAAAABAAAAAUAAAAEQAAABUAAAASAAAAFgAAABMAAAAXAAAAGAAAABkAAAAZAAAAGgAAABoAAAAbAAAAGwAAABgAAAAcAAAAHQAAAB0AAAAeAAAAHgAAAB8AAAAfAAAAHAAAABgAAAAcAAAAGQAAAB0AAAAaAAAAHgAAABsAAAAfAAAAIAAAACEAAAAhAAAAIgAAACIAAAAjAAAAIwAAACAAAAAkAAAAJQAAACUAAAAmAAAAJgAAACcAAAAnAAAAJAAAACAAAAAkAAAAIQAAACUAAAAiAAAAJgAAACMAAAAnAAAAKAAAACkAAAApAAAAKgAAACoAAAArAAAAKwAAACgAAAAsAAAALQAAAC0AAAAuAAAALgAAAC8AAAAvAAAALAAAACgAAAAsAAAAKQAAAC0AAAAqAAAALgAAACsAAAAvAAAAMAAAADEAAAAxAAAAMgAAADIAAAAzAAAAMwAAADAAAAA0AAAANQAAADUAAAA2AAAANgAAADcAAAA3AAAANAAAADAAAAA0AAAAMQAAADUAAAAyAAAANgAAADMAAAA3AAAAOAAAADkAAAA5AAAAOgAAADoAAAA7AAAAOwAAADgAAAA8AAAAPQAAAD0AAAA+AAAAPgAAAD8AAAA/AAAAPAAAADgAAAA8AAAAOQAAAD0AAAA6AAAAPgAAADsAAAA/AAAAQAAAAEEAAABBAAAAQgAAAEIAAABDAAAAQwAAAEAAAABEAAAARQAAAEUAAABGAAAARgAAAEcAAABHAAAARAAAAEAAAABEAAAAQQAAAEUAAABCAAAARgAAAEMAAABHAAAASAAAAEkAAABJAAAASgAAAEoAAABLAAAASwAAAEgAAABMAAAATQAAAE0AAABOAAAATgAAAE8AAABPAAAATAAAAEgAAABMAAAASQAAAE0AAABKAAAATgAAAEsAAABPAAAAUAAAAFEAAABRAAAAUgAAAFIAAABTAAAAUwAAAFAAAABUAAAAVQAAAFUAAABWAAAAVgAAAFcAAABXAAAAVAAAAFAAAABUAAAAUQAAAFUAAABSAAAAVgAAAFMAAABXAAAAWAAAAFkAAABZAAAAWgAAAFoAAABbAAAAWwAAAFgAAABcAAAAXQAAAF0AAABeAAAAXgAAAF8AAABfAAAAXAAAAFgAAABcAAAAWQAAAF0AAABaAAAAXgAAAFsAAABfAAAAYAAAAGEAAABhAAAAYgAAAGIAAABjAAAAYwAAAGAAAABkAAAAZQAAAGUAAABmAAAAZgAAAGcAAABnAAAAZAAAAGAAAABkAAAAYQAAAGUAAABiAAAAZgAAAGMAAABnAAAAaAAAAGkAAABpAAAAagAAAGoAAABrAAAAawAAAGgAAABsAAAAbQAAAG0AAABuAAAAbgAAAG8AAABvAAAAbAAAAGgAAABsAAAAaQAAAG0AAABqAAAAbgAAAGsAAABvAAAAcAAAAHEAAABxAAAAcgAAAHIAAABzAAAAcwAAAHAAAAB0AAAAdQAAAHUAAAB2AAAAdgAAAHcAAAB3AAAAdAAAAHAAAAB0AAAAcQAAAHUAAAByAAAAdgAAAHMAAAB3AAAA",
        "encoding": "base64",
        "path": [
         "array",
         "buffer"
        ]
       }
      ],
      "model_module": "jupyter-threejs",
      "model_module_version": "^2.1.0",
      "model_name": "BufferAttributeModel",
      "state": {
       "_view_module": null,
       "_view_module_version": "",
       "array": {
        "buffer": {},
        "dtype": "uint32",
        "shape": [
         360
        ]
       },
       "version": 2
      }
     },
     "3cd1c24baee24ea58f08e45dccb7d342": {
      "model_module": "@jupyter-widgets/controls",
      "model_module_version": "1.5.0",
      "model_name": "ColorPickerModel",
      "state": {
       "concise": true,
       "disabled": false,
       "layout": "IPY_MODEL_00d1d465efbe4396aee4993365961fa3",
       "style": "IPY_MODEL_e20e31ab5fe84a23a2c83a01935c5772",
       "value": "#0b0724"
      }
     },
     "3db324eb11094ec89d9e8e7fba5dd42d": {
      "model_module": "@jupyter-widgets/controls",
      "model_module_version": "1.5.0",
      "model_name": "TabModel",
      "state": {
       "_titles": {
        "0": "Source",
        "1": "Variables"
       },
       "children": [
        "IPY_MODEL_5fbc79e9147c4f17800b5da5668461a8",
        "IPY_MODEL_071c3dec3a694048b0c83cfbfb013ed6"
       ],
       "layout": "IPY_MODEL_ccf7883a724f49babc96eac06cf08bb7"
      }
     },
     "3dcc4fd2d1884a31917417433a39de98": {
      "model_module": "@jupyter-widgets/base",
      "model_module_version": "1.2.0",
      "model_name": "LayoutModel",
      "state": {}
     },
     "3e3a11eaba2549799ab048d09bf4deb9": {
      "model_module": "jupyter-threejs",
      "model_module_version": "^2.1.0",
      "model_name": "LineBasicMaterialModel",
      "state": {
       "_view_module": null,
       "_view_module_version": "",
       "color": "#8a226a"
      }
     },
     "3e835bc09b644ebe863ce7e35c47be0a": {
      "model_module": "@jupyter-widgets/base",
      "model_module_version": "1.2.0",
      "model_name": "LayoutModel",
      "state": {}
     },
     "412a5e9b29c74286947f0a19512faaa9": {
      "model_module": "@jupyter-widgets/controls",
      "model_module_version": "1.5.0",
      "model_name": "DescriptionStyleModel",
      "state": {
       "description_width": ""
      }
     },
     "41e02a84f9094458a7f50b111b8cb09a": {
      "model_module": "@jupyter-widgets/controls",
      "model_module_version": "1.5.0",
      "model_name": "LinkModel",
      "state": {
       "source": [
        "IPY_MODEL_ccb9694f3ffe4ede88923337b73333e7",
        "value"
       ],
       "target": [
        "IPY_MODEL_f806defddd1f41ca86020079bebbfba4",
        "linewidth"
       ]
      }
     },
     "421020f7878a4001934c936e896f35fb": {
      "model_module": "jupyter-threejs",
      "model_module_version": "^2.1.0",
      "model_name": "RendererModel",
      "state": {
       "_antialias": true,
       "_height": 400,
       "_webgl_version": 2,
       "_width": 400,
       "camera": "IPY_MODEL_addfb491d3f5473fa41429f064bb40bc",
       "controls": [
        "IPY_MODEL_1838ca9bccd1438f9451007e2c16779b"
       ],
       "layout": "IPY_MODEL_a7d71705a25b4a78bd18a33cba58a3a0",
       "scene": "IPY_MODEL_c6a5b9b847484cb1b432f8245366198e",
       "shadowMap": "IPY_MODEL_30959434c4bf42b0a3ea9c169fac4705"
      }
     },
     "436849ac6612416d8ab535e388fd4e94": {
      "model_module": "jupyter-threejs",
      "model_module_version": "^2.1.0",
      "model_name": "LineBasicMaterialModel",
      "state": {
       "_view_module": null,
       "_view_module_version": "",
       "color": "#57106e"
      }
     },
     "45b461c8a2f041e4b48a935a0e4e7fe4": {
      "model_module": "@jupyter-widgets/base",
      "model_module_version": "1.2.0",
      "model_name": "LayoutModel",
      "state": {}
     },
     "4674d17c9ebb4560916ec28f4d8b566d": {
      "model_module": "@jupyter-widgets/controls",
      "model_module_version": "1.5.0",
      "model_name": "ColorPickerModel",
      "state": {
       "concise": true,
       "disabled": false,
       "layout": "IPY_MODEL_c143abd2903149bdac77755ac4c7a81d",
       "style": "IPY_MODEL_0dace6be50d8409c83955ee7ecf1803b",
       "value": "#71196e"
      }
     },
     "46de029a90344dd0adda01ba00ad671b": {
      "model_module": "@jupyter-widgets/controls",
      "model_module_version": "1.5.0",
      "model_name": "HBoxModel",
      "state": {
       "children": [
        "IPY_MODEL_640551e5a56b45bd97d82cc28eb78c1e",
        "IPY_MODEL_bfe03a59073c4cfcbc823916d6b03f07"
       ],
       "layout": "IPY_MODEL_9ab09c67c313462e970fbca28468e4ac"
      }
     },
     "475fb1520e934927af105e9a1b210e22": {
      "model_module": "@jupyter-widgets/base",
      "model_module_version": "1.2.0",
      "model_name": "LayoutModel",
      "state": {
       "height": "100%",
       "overflow_y": "scroll",
       "width": "100%"
      }
     },
     "489853bffbac4fddbb3a975d4e6a47d9": {
      "model_module": "@jupyter-widgets/base",
      "model_module_version": "1.2.0",
      "model_name": "LayoutModel",
      "state": {}
     },
     "48edc8f8c9c44e6b974a5dc85452acc3": {
      "model_module": "@jupyter-widgets/controls",
      "model_module_version": "1.5.0",
      "model_name": "HTMLModel",
      "state": {
       "layout": "IPY_MODEL_b6e55a2009b84021b5a0f4d032f73b5a",
       "style": "IPY_MODEL_ca861e3694fe45a9a74d3dd5026a6104",
       "value": "Empty"
      }
     },
     "4c17c36a257446199f40b181eb6f9aa8": {
      "model_module": "@jupyter-widgets/controls",
      "model_module_version": "1.5.0",
      "model_name": "HTMLModel",
      "state": {
       "layout": "IPY_MODEL_34f8ca321dde4dfbb631ef6760b087ff",
       "style": "IPY_MODEL_e637a8a2aa8d4af89f632f9e5380f8bc",
       "value": "Empty"
      }
     },
     "4d7d2d77f97c4e8c812b5d5797702add": {
      "model_module": "@jupyter-widgets/controls",
      "model_module_version": "1.5.0",
      "model_name": "SliderStyleModel",
      "state": {
       "description_width": ""
      }
     },
     "4e241b34e0bd415296e1b0ce00eadbc5": {
      "model_module": "@jupyter-widgets/base",
      "model_module_version": "1.2.0",
      "model_name": "LayoutModel",
      "state": {}
     },
     "4fd460dd65774af3ba53193c275026f6": {
      "model_module": "@jupyter-widgets/base",
      "model_module_version": "1.2.0",
      "model_name": "LayoutModel",
      "state": {}
     },
     "5066eaca5e7a47d7b2276dc61deed7b4": {
      "model_module": "@jupyter-widgets/controls",
      "model_module_version": "1.5.0",
      "model_name": "HBoxModel",
      "state": {
       "children": [
        "IPY_MODEL_f554946b10394b1697b9574669ac0460",
        "IPY_MODEL_1b726a0dc55542e8ba3fd28760ab5853"
       ],
       "layout": "IPY_MODEL_734100f724324e65b88046e85c97576f"
      }
     },
     "506c062d7f9f480f8ff3e25b879289ff": {
      "model_module": "@jupyter-widgets/base",
      "model_module_version": "1.2.0",
      "model_name": "LayoutModel",
      "state": {}
     },
     "511a10efce9747d597c724743783a3c4": {
      "model_module": "@jupyter-widgets/controls",
      "model_module_version": "1.5.0",
      "model_name": "CheckboxModel",
      "state": {
       "description": "Level 3",
       "disabled": false,
       "layout": "IPY_MODEL_f3f4f7c9fe6845ca868375d98f6a7f37",
       "style": "IPY_MODEL_2ed3c6b98c254d93b45e813de0872d9c",
       "value": true
      }
     },
     "5156552f3af04f35a7d5d385b967826f": {
      "model_module": "@jupyter-widgets/base",
      "model_module_version": "1.2.0",
      "model_name": "LayoutModel",
      "state": {
       "height": "100%",
       "overflow_y": "scroll",
       "width": "100%"
      }
     },
     "51a38b8c8e31492596aa2a545922d5c8": {
      "model_module": "@jupyter-widgets/base",
      "model_module_version": "1.2.0",
      "model_name": "LayoutModel",
      "state": {}
     },
     "529cc09dfc65476c93a555761bf8a47d": {
      "buffers": [
       {
        "data": "AIACPwAAAD8AgAE/AIAFPwAAAD8AgAE/AIAFPwCABD8AgAE/AIACPwCABD8AgAE/AIACPwAAAD8AwAQ/AIAFPwAAAD8AwAQ/AIAFPwCABD8AwAQ/AIACPwCABD8AwAQ/AIACPwAAAD8AAAA/AEAGPwAAAD8AAAA/AEAGPwCABD8AAAA/AIACPwCABD8AAAA/AIACPwAAAD8AgAE/AEAGPwAAAD8AgAE/AEAGPwCABD8AgAE/AIACPwCABD8AgAE/AAAAPwAAAD8AAAA/AIACPwAAAD8AAAA/AIACPwDABT8AAAA/AAAAPwDABT8AAAA/AAAAPwAAAD8AAAY/AIACPwAAAD8AAAY/AIACPwDABT8AAAY/AAAAPwDABT8AAAY/AAD1PgAAAD8AAAA/AAAAPwAAAD8AAAA/AAAAPwAABj8AAAA/AAD1PgAABj8AAAA/AAD1PgAAAD8AQAY/AAAAPwAAAD8AQAY/AAAAPwAABj8AQAY/AAD1PgAABj8AQAY/AAAAPwAA8z4AgAA/AMAAPwAA8z4AgAA/AMAAPwCA9T4AgAA/AAAAPwCA9T4AgAA/AAAAPwAA8z4AQAI/AMAAPwAA8z4AQAI/AMAAPwCA9T4AQAI/AAAAPwCA9T4AQAI/AAAAPwCA9T4AAAA/AEAGPwCA9T4AAAA/AEAGPwAAAD8AAAA/AAAAPwAAAD8AAAA/AAAAPwCA9T4AwAU/AEAGPwCA9T4AwAU/AEAGPwAAAD8AwAU/AAAAPwAAAD8AwAU/AMAAPwAA9D4AgAA/AMABPwAA9D4AgAA/AMABPwCA9T4AgAA/AMAAPwCA9T4AgAA/AMAAPwAA9D4AQAE/AMABPwAA9D4AQAE/AMABPwCA9T4AQAE/AMAAPwCA9T4AQAE/AAD0PgCA9D4AAAA/AAAAPwCA9D4AAAA/AAAAPwAAAD8AAAA/AAD0PgAAAD8AAAA/AAD0PgCA9D4AAAY/AAAAPwCA9D4AAAY/AAAAPwAAAD8AAAY/AAD0PgAAAD8AAAY/AAAAPwAAAD8AAPQ+AEAFPwAAAD8AAPQ+AEAFPwDABT8AAPQ+AAAAPwDABT8AAPQ+AAAAPwAAAD8AAAA/AEAFPwAAAD8AAAA/AEAFPwDABT8AAAA/AAAAPwDABT8AAAA/AAD/PgAAAD8AAPI+AAAAPwAAAD8AAPI+AAAAPwDAAD8AAPI+AAD/PgDAAD8AAPI+AAD/PgAAAD8AgPM+AAAAPwAAAD8AgPM+AAAAPwDAAD8AgPM+AAD/PgDAAD8AgPM+AADzPgAAAD8AAPQ+AAAAPwAAAD8AAPQ+AAAAPwDABT8AAPQ+AADzPgDABT8AAPQ+AADzPgAAAD8AAAA/AAAAPwAAAD8AAAA/AAAAPwDABT8AAAA/AADzPgDABT8AAAA/AAAAPwAA8z4AgPQ+AMAFPwAA8z4AgPQ+AMAFPwAAAD8AgPQ+AAAAPwAAAD8AgPQ+AAAAPwAA8z4AAAA/AMAFPwAA8z4AAAA/AMAFPwAAAD8AAAA/AAAAPwAAAD8AAAA/AIDyPgCA+D4AAP0+AID2PgCA+D4AAP0+AID2PgCA+z4AAP0+AIDyPgCA+z4AAP0+AIDyPgCA+D4AgP4+AID2PgCA+D4AgP4+AID2PgCA+z4AgP4+AIDyPgCA+z4AgP4+AIDyPgCA9z4AgP4+AAD5PgCA9z4AgP4+AAD5PgAA/D4AgP4+AIDyPgAA/D4AgP4+AIDyPgCA9z4AAAA/AAD5PgCA9z4AAAA/AAD5PgAA/D4AAAA/AIDyPgAA/D4AAAA/AAD3PgCA+D4AAPk+AAD5PgCA+D4AAPk+AAD5PgAA/D4AAPk+AAD3PgAA/D4AAPk+AAD3PgCA+D4AgPs+AAD5PgCA+D4AgPs+AAD5PgAA/D4AgPs+AAD3PgAA/D4AgPs+AID2PgCA9z4AgPs+AAD5PgCA9z4AgPs+AAD5PgAA/D4AgPs+AID2PgAA/D4AgPs+AID2PgCA9z4AgP4+AAD5PgCA9z4AgP4+AAD5PgAA/D4AgP4+AID2PgAA/D4AgP4+AID0PgAA/D4AAPk+AAD5PgAA/D4AAPk+AAD5PgAAAD8AAPk+AID0PgAAAD8AAPk+AID0PgAA/D4AAAA/AAD5PgAA/D4AAAA/AAD5PgAAAD8AAAA/AID0PgAAAD8AAAA/AAD5PgCA8z4AgPQ+AAAAPwCA8z4AgPQ+AAAAPwAAAD8AgPQ+AAD5PgAAAD8AgPQ+AAD5PgCA8z4AAAA/AAAAPwCA8z4AAAA/AAAAPwAAAD8AAAA/AAD5PgAAAD8AAAA/",
        "encoding": "base64",
        "path": [
         "array",
         "buffer"
        ]
       }
      ],
      "model_module": "jupyter-threejs",
      "model_module_version": "^2.1.0",
      "model_name": "BufferAttributeModel",
      "state": {
       "_view_module": null,
       "_view_module_version": "",
       "array": {
        "buffer": {},
        "dtype": "float32",
        "shape": [
         144,
         3
        ]
       },
       "version": 2
      }
     },
     "52b1765d1d4745a98584ca4aafe711e2": {
      "model_module": "@jupyter-widgets/controls",
      "model_module_version": "1.5.0",
      "model_name": "FloatSliderModel",
      "state": {
       "layout": "IPY_MODEL_773eb8688db34ddea1647ded802da4ad",
       "max": 10,
       "step": 0.1,
       "style": "IPY_MODEL_0ec636fae14a4bfcbc7f1d3fb82f446e",
       "value": 1
      }
     },
     "5300008301d44f4a933bd99bbc797c3d": {
      "model_module": "@jupyter-widgets/controls",
      "model_module_version": "1.5.0",
      "model_name": "ColorPickerModel",
      "state": {
       "concise": true,
       "disabled": false,
       "layout": "IPY_MODEL_d6a7fe10cd884457af251699c917f161",
       "style": "IPY_MODEL_5c3d1eacaaeb4bdcb01675d88c2afbd2",
       "value": "#a32c61"
      }
     },
     "566d54aa4527450abe92898b97aacb59": {
      "model_module": "@jupyter-widgets/base",
      "model_module_version": "1.2.0",
      "model_name": "LayoutModel",
      "state": {
       "height": "100%",
       "overflow_y": "scroll",
       "width": "100%"
      }
     },
     "5984c409bb2c4c68ba99d27685dcc5d0": {
      "model_module": "@jupyter-widgets/controls",
      "model_module_version": "1.5.0",
      "model_name": "TabModel",
      "state": {
       "_titles": {
        "0": "Source",
        "1": "Variables"
       },
       "children": [
        "IPY_MODEL_b70915af4f024de08bfbd1a0ca78073c",
        "IPY_MODEL_67d871729dd94de6a3646078ab48f711"
       ],
       "layout": "IPY_MODEL_e548a06bb1a2482b99fc2ab52f6c728d"
      }
     },
     "5a0bbd50f6df4e2c8e01ad875ca82ce0": {
      "model_module": "@jupyter-widgets/base",
      "model_module_version": "1.2.0",
      "model_name": "LayoutModel",
      "state": {}
     },
     "5b1cace3dfa14444bf11527d2c24f64e": {
      "model_module": "@jupyter-widgets/output",
      "model_module_version": "1.0.0",
      "model_name": "OutputModel",
      "state": {
       "layout": "IPY_MODEL_62c8a2a905f74f33b88508221f10bfaf",
       "outputs": [
        {
         "data": {
          "application/vnd.jupyter.widget-view+json": {
           "model_id": "0017ebf58b3c4619b30e276a5a106f72",
           "version_major": 2,
           "version_minor": 0
          },
          "text/plain": "HBox(children=(Select(layout=Layout(height='95%'), options=('age', 'creation_time', 'dynamical_time', 'mesh_id…"
         },
         "metadata": {},
         "output_type": "display_data"
        }
       ]
      }
     },
     "5c3d1eacaaeb4bdcb01675d88c2afbd2": {
      "model_module": "@jupyter-widgets/controls",
      "model_module_version": "1.5.0",
      "model_name": "DescriptionStyleModel",
      "state": {
       "description_width": ""
      }
     },
     "5ce06a212c584719853dd088f84e1a12": {
      "model_module": "@jupyter-widgets/base",
      "model_module_version": "1.2.0",
      "model_name": "LayoutModel",
      "state": {
       "height": "14em"
      }
     },
     "5fbc79e9147c4f17800b5da5668461a8": {
      "model_module": "@jupyter-widgets/output",
      "model_module_version": "1.0.0",
      "model_name": "OutputModel",
      "state": {
       "layout": "IPY_MODEL_9bdb26a08db1432dbafcb79afb34dbfb"
      }
     },
     "60fccebfd41446b0b983d2f2da154b88": {
      "model_module": "@jupyter-widgets/controls",
      "model_module_version": "1.5.0",
      "model_name": "SliderStyleModel",
      "state": {
       "description_width": ""
      }
     },
     "61969cb5634b4f14a3354cfabd7539af": {
      "model_module": "@jupyter-widgets/controls",
      "model_module_version": "1.5.0",
      "model_name": "LinkModel",
      "state": {
       "source": [
        "IPY_MODEL_c58caca68d2b401bbca9ae4fa3046859",
        "value"
       ],
       "target": [
        "IPY_MODEL_fa1aa61792934520b0ecdecbfb40035d",
        "visible"
       ]
      }
     },
     "620584f9f6fa4535939040d498ff7a1d": {
      "model_module": "@jupyter-widgets/base",
      "model_module_version": "1.2.0",
      "model_name": "LayoutModel",
      "state": {}
     },
     "62c8a2a905f74f33b88508221f10bfaf": {
      "model_module": "@jupyter-widgets/base",
      "model_module_version": "1.2.0",
      "model_name": "LayoutModel",
      "state": {}
     },
     "63900e0f273f4b9c948ede5648b3a869": {
      "model_module": "@jupyter-widgets/controls",
      "model_module_version": "1.5.0",
      "model_name": "SelectModel",
      "state": {
       "_options_labels": [
        "all_cic",
        "all_cic_age",
        "all_cic_velocity_x",
        "all_cic_velocity_y",
        "all_cic_velocity_z",
        "all_count",
        "all_density",
        "all_mass",
        "all_nn_age",
        "all_nn_velocity_x",
        "all_nn_velocity_y",
        "all_nn_velocity_z",
        "io_cic",
        "io_cic_age",
        "io_cic_velocity_x",
        "io_cic_velocity_y",
        "io_cic_velocity_z",
        "io_count",
        "io_density",
        "io_mass",
        "io_nn_age",
        "io_nn_velocity_x",
        "io_nn_velocity_y",
        "io_nn_velocity_z",
        "nbody_cic",
        "nbody_cic_age",
        "nbody_cic_velocity_x",
        "nbody_cic_velocity_y",
        "nbody_cic_velocity_z",
        "nbody_count",
        "nbody_density",
        "nbody_mass",
        "nbody_nn_age",
        "nbody_nn_velocity_x",
        "nbody_nn_velocity_y",
        "nbody_nn_velocity_z"
       ],
       "index": 0,
       "layout": "IPY_MODEL_eccc5d196188427dac2ed39c4baf42e6",
       "style": "IPY_MODEL_d340fef991dc4c729dfcf836937f5bb8"
      }
     },
     "63f2c95d735a45d2becbd2ebd26c177d": {
      "model_module": "@jupyter-widgets/controls",
      "model_module_version": "1.5.0",
      "model_name": "LinkModel",
      "state": {
       "source": [
        "IPY_MODEL_04feae015eff4f66ab9d441ebd10a907",
        "value"
       ],
       "target": [
        "IPY_MODEL_f806defddd1f41ca86020079bebbfba4",
        "color"
       ]
      }
     },
     "640551e5a56b45bd97d82cc28eb78c1e": {
      "model_module": "@jupyter-widgets/controls",
      "model_module_version": "1.5.0",
      "model_name": "LabelModel",
      "state": {
       "layout": "IPY_MODEL_9fea3751f9e24c5ea96481f62e9b54cb",
       "style": "IPY_MODEL_fd81831ba6e34797b3f9220296c54d75",
       "value": "Domain Right Edge"
      }
     },
     "64a0b079487d49cb8cf6f079815f24c5": {
      "model_module": "@jupyter-widgets/controls",
      "model_module_version": "1.5.0",
      "model_name": "LinkModel",
      "state": {
       "source": [
        "IPY_MODEL_ce09dae0a2c449bba64216e1f8480939",
        "value"
       ],
       "target": [
        "IPY_MODEL_436849ac6612416d8ab535e388fd4e94",
        "color"
       ]
      }
     },
     "65c1b9a735c741eb88e0aa9ab185744e": {
      "model_module": "@jupyter-widgets/controls",
      "model_module_version": "1.5.0",
      "model_name": "DescriptionStyleModel",
      "state": {
       "description_width": ""
      }
     },
     "65c3720719ef4b70aece363a1ce5526c": {
      "model_module": "@jupyter-widgets/base",
      "model_module_version": "1.2.0",
      "model_name": "LayoutModel",
      "state": {}
     },
     "67d871729dd94de6a3646078ab48f711": {
      "model_module": "@jupyter-widgets/controls",
      "model_module_version": "1.5.0",
      "model_name": "BoxModel",
      "state": {
       "children": [
        "IPY_MODEL_48edc8f8c9c44e6b974a5dc85452acc3"
       ],
       "layout": "IPY_MODEL_c7ad54ea816c487d83fc69432c310ae3"
      }
     },
     "686ef2714a3e4ecdaf38a35068d1ef3b": {
      "model_module": "@jupyter-widgets/controls",
      "model_module_version": "1.5.0",
      "model_name": "SliderStyleModel",
      "state": {
       "description_width": ""
      }
     },
     "687c6f88b76345b6a88031ff297345cb": {
      "model_module": "@jupyter-widgets/base",
      "model_module_version": "1.2.0",
      "model_name": "LayoutModel",
      "state": {
       "flex": "2 1 auto",
       "height": "95%",
       "width": "auto"
      }
     },
     "68e09c6e089d4858aa113a0a21a70839": {
      "buffers": [
       {
        "data": "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",
        "encoding": "base64",
        "path": [
         "array",
         "buffer"
        ]
       }
      ],
      "model_module": "jupyter-threejs",
      "model_module_version": "^2.1.0",
      "model_name": "BufferAttributeModel",
      "state": {
       "_view_module": null,
       "_view_module_version": "",
       "array": {
        "buffer": {},
        "dtype": "float32",
        "shape": [
         408,
         3
        ]
       },
       "version": 2
      }
     },
     "68f31536fbe84e63bb2567113a058c03": {
      "model_module": "jupyter-threejs",
      "model_module_version": "^2.1.0",
      "model_name": "LineBasicMaterialModel",
      "state": {
       "_view_module": null,
       "_view_module_version": "",
       "color": "#0b0724"
      }
     },
     "6956d309e7824080bfa882fa08dcfb9c": {
      "model_module": "@jupyter-widgets/output",
      "model_module_version": "1.0.0",
      "model_name": "OutputModel",
      "state": {
       "layout": "IPY_MODEL_e6ffef1b84fb47a79693595c2337684d",
       "outputs": [
        {
         "data": {
          "application/vnd.jupyter.widget-view+json": {
           "model_id": "c55a9a47f4d94acb9bb482b97fcfb573",
           "version_major": 2,
           "version_minor": 0
          },
          "text/plain": "HBox(children=(Select(layout=Layout(height='95%'), options=('El_density', 'El_fraction', 'El_mass', 'El_number…"
         },
         "metadata": {},
         "output_type": "display_data"
        }
       ]
      }
     },
     "69e8e2d8f63f41eea767a93bcbd519a9": {
      "model_module": "jupyter-threejs",
      "model_module_version": "^2.1.0",
      "model_name": "BufferGeometryModel",
      "state": {
       "_view_module": null,
       "_view_module_version": "",
       "attributes": {
        "index": "IPY_MODEL_3c765190ee4a4054b27431c8343e388d",
        "position": "IPY_MODEL_a8fb6457415549f0b18c20520992e5c7"
       }
      }
     },
     "6a7519ab9340478db5eeb38b67f9d7ec": {
      "model_module": "@jupyter-widgets/controls",
      "model_module_version": "1.5.0",
      "model_name": "DescriptionStyleModel",
      "state": {
       "description_width": ""
      }
     },
     "6a8ec9c4fc7348cdb39d997d066e30a7": {
      "model_module": "@jupyter-widgets/base",
      "model_module_version": "1.2.0",
      "model_name": "LayoutModel",
      "state": {}
     },
     "6dbbfae20e21453db3a525a4b44699a2": {
      "buffers": [
       {
        "data": "AAAAAAEAAAABAAAAAgAAAAIAAAADAAAAAwAAAAAAAAAEAAAABQAAAAUAAAAGAAAABgAAAAcAAAAHAAAABAAAAAAAAAAEAAAAAQAAAAUAAAACAAAABgAAAAMAAAAHAAAACAAAAAkAAAAJAAAACgAAAAoAAAALAAAACwAAAAgAAAAMAAAADQAAAA0AAAAOAAAADgAAAA8AAAAPAAAADAAAAAgAAAAMAAAACQAAAA0AAAAKAAAADgAAAAsAAAAPAAAAEAAAABEAAAARAAAAEgAAABIAAAATAAAAEwAAABAAAAAUAAAAFQAAABUAAAAWAAAAFgAAABcAAAAXAAAAFAAAABAAAAAUAAAAEQAAABUAAAASAAAAFgAAABMAAAAXAAAAGAAAABkAAAAZAAAAGgAAABoAAAAbAAAAGwAAABgAAAAcAAAAHQAAAB0AAAAeAAAAHgAAAB8AAAAfAAAAHAAAABgAAAAcAAAAGQAAAB0AAAAaAAAAHgAAABsAAAAfAAAAIAAAACEAAAAhAAAAIgAAACIAAAAjAAAAIwAAACAAAAAkAAAAJQAAACUAAAAmAAAAJgAAACcAAAAnAAAAJAAAACAAAAAkAAAAIQAAACUAAAAiAAAAJgAAACMAAAAnAAAAKAAAACkAAAApAAAAKgAAACoAAAArAAAAKwAAACgAAAAsAAAALQAAAC0AAAAuAAAALgAAAC8AAAAvAAAALAAAACgAAAAsAAAAKQAAAC0AAAAqAAAALgAAACsAAAAvAAAAMAAAADEAAAAxAAAAMgAAADIAAAAzAAAAMwAAADAAAAA0AAAANQAAADUAAAA2AAAANgAAADcAAAA3AAAANAAAADAAAAA0AAAAMQAAADUAAAAyAAAANgAAADMAAAA3AAAAOAAAADkAAAA5AAAAOgAAADoAAAA7AAAAOwAAADgAAAA8AAAAPQAAAD0AAAA+AAAAPgAAAD8AAAA/AAAAPAAAADgAAAA8AAAAOQAAAD0AAAA6AAAAPgAAADsAAAA/AAAA",
        "encoding": "base64",
        "path": [
         "array",
         "buffer"
        ]
       }
      ],
      "model_module": "jupyter-threejs",
      "model_module_version": "^2.1.0",
      "model_name": "BufferAttributeModel",
      "state": {
       "_view_module": null,
       "_view_module_version": "",
       "array": {
        "buffer": {},
        "dtype": "uint32",
        "shape": [
         192
        ]
       },
       "version": 2
      }
     },
     "6dd24089e87947ccba6d332526aa61ff": {
      "model_module": "jupyter-threejs",
      "model_module_version": "^2.1.0",
      "model_name": "BufferGeometryModel",
      "state": {
       "_view_module": null,
       "_view_module_version": "",
       "attributes": {
        "index": "IPY_MODEL_fd2f183d83d747c99fc6ce2d320ec6e5",
        "position": "IPY_MODEL_0da8c4f876bf448798c943fa88594135"
       }
      }
     },
     "6df9b105e0194c648691d96ea351078b": {
      "model_module": "@jupyter-widgets/controls",
      "model_module_version": "1.5.0",
      "model_name": "DescriptionStyleModel",
      "state": {
       "description_width": ""
      }
     },
     "7106ef00f618415a9c44480a928bbb2a": {
      "model_module": "@jupyter-widgets/base",
      "model_module_version": "1.2.0",
      "model_name": "LayoutModel",
      "state": {}
     },
     "71ff6f7301d84752988a107aaeffc90d": {
      "buffers": [
       {
        "data": "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",
        "encoding": "base64",
        "path": [
         "array",
         "buffer"
        ]
       }
      ],
      "model_module": "jupyter-threejs",
      "model_module_version": "^2.1.0",
      "model_name": "BufferAttributeModel",
      "state": {
       "_view_module": null,
       "_view_module_version": "",
       "array": {
        "buffer": {},
        "dtype": "uint32",
        "shape": [
         432
        ]
       },
       "version": 2
      }
     },
     "72d0cccd4cae45c49a94adefb37439e5": {
      "model_module": "jupyter-threejs",
      "model_module_version": "^2.1.0",
      "model_name": "LineSegmentsModel",
      "state": {
       "_view_module": null,
       "_view_module_version": "",
       "geometry": "IPY_MODEL_7c0dd5f73b0d4a57af36b9d6dca28a91",
       "material": "IPY_MODEL_f806defddd1f41ca86020079bebbfba4"
      }
     },
     "732f799f2ef04a3584e339ec96938ccf": {
      "model_module": "@jupyter-widgets/controls",
      "model_module_version": "1.5.0",
      "model_name": "LinkModel",
      "state": {
       "source": [
        "IPY_MODEL_52b1765d1d4745a98584ca4aafe711e2",
        "value"
       ],
       "target": [
        "IPY_MODEL_95a2da8175bc418da1d1c55f8c31b635",
        "linewidth"
       ]
      }
     },
     "734100f724324e65b88046e85c97576f": {
      "model_module": "@jupyter-widgets/base",
      "model_module_version": "1.2.0",
      "model_name": "LayoutModel",
      "state": {
       "height": "14em"
      }
     },
     "73c0e7f89f5a442b82ae7da9b0c723b1": {
      "model_module": "@jupyter-widgets/controls",
      "model_module_version": "1.5.0",
      "model_name": "DescriptionStyleModel",
      "state": {
       "description_width": ""
      }
     },
     "74340973c3884e98a29e0ac1c5582330": {
      "model_module": "@jupyter-widgets/controls",
      "model_module_version": "1.5.0",
      "model_name": "FloatSliderModel",
      "state": {
       "layout": "IPY_MODEL_0aae653139054453819625e2fce0197e",
       "max": 10,
       "step": 0.1,
       "style": "IPY_MODEL_d7a60971a5994a5b971a37a6424d730d",
       "value": 1
      }
     },
     "759b4bc72eb74f81b4d656978c69ef5f": {
      "model_module": "@jupyter-widgets/controls",
      "model_module_version": "1.5.0",
      "model_name": "LinkModel",
      "state": {
       "source": [
        "IPY_MODEL_084b20a6b7fe484d947a30f44958bf0a",
        "value"
       ],
       "target": [
        "IPY_MODEL_92d2ac48329144b2b5ec1df5b7b4d0c3",
        "visible"
       ]
      }
     },
     "76e6d765cb6f4717ad394c7adf783e72": {
      "model_module": "@jupyter-widgets/output",
      "model_module_version": "1.0.0",
      "model_name": "OutputModel",
      "state": {
       "layout": "IPY_MODEL_f623df9a6be14ddb831803fc856a38e2",
       "outputs": [
        {
         "data": {
          "application/json": {
           "#DataCGSConversionFactor[0]": 2.76112e-30,
           "#DataCGSConversionFactor[10]": 2.76112e-30,
           "#DataCGSConversionFactor[11]": 2.76112e-30,
           "#DataCGSConversionFactor[12]": 2.76112e-30,
           "#DataCGSConversionFactor[13]": 2.76112e-30,
           "#DataCGSConversionFactor[14]": 2.76112e-30,
           "#DataCGSConversionFactor[15]": 2.76112e-30,
           "#DataCGSConversionFactor[1]": 1324770,
           "#DataCGSConversionFactor[20]": 2.76112e-30,
           "#DataCGSConversionFactor[21]": 2.76112e-30,
           "#DataCGSConversionFactor[22]": 2.76112e-30,
           "#DataCGSConversionFactor[23]": 2.76112e-30,
           "#DataCGSConversionFactor[2]": 1324770,
           "#DataCGSConversionFactor[3]": 1324770,
           "#TemperatureUnits": 21261.6,
           "#TimeUnits": 2329460000000000000,
           "AddParticleAttributes": 0,
           "AdjustUVBackground": 1,
           "AngularVelocity": 0.001,
           "BAnyl": 0,
           "BaryonSelfGravityApproximation": 0,
           "BoundaryConditionName": "./DD0030/galaxy0030.boundary",
           "CIECooling": 1,
           "CMBTemperatureFloor": 1,
           "CRModel": 0,
           "CellFlaggingMethod": [
            2,
            4,
            8
           ],
           "CheckpointRestart": 0,
           "CloudyCoolingGridFile": "",
           "CloudyElectronFractionFactor": 0.009154,
           "CloudyMetallicityNormalization": 0.018477,
           "ComovingCoordinates": 0,
           "ComputePotential": 0,
           "ConservativeInterpolation": 0,
           "ConservativeReconstruction": 0,
           "ConstantAcceleration": [
            0,
            0,
            0
           ],
           "CoolingCutOffDensity1": 0,
           "CoolingCutOffDensity2": 10000000000,
           "CoolingCutOffTemperature": 0,
           "CoolingPowerCutOffDensity1": 0,
           "CoolingPowerCutOffDensity2": 10000000000,
           "Coordinate": 0,
           "CourantSafetyNumber": 0.3,
           "CubeDumpEnabled": 0,
           "CurrentTimeIdentifier": 1267062935,
           "CycleLastDataDump": 0,
           "CycleLastHistoryDump": 0,
           "CycleLastRestartDump": 0,
           "CycleSkipDataDump": 0,
           "CycleSkipGlobalDataDump": 0,
           "CycleSkipHistoryDump": 0,
           "CycleSkipRestartDump": 0,
           "DataDumpDir": "DD",
           "DataDumpName": "galaxy",
           "DataDumpNumber": 31,
           "DataLabel[0]": "Density",
           "DataLabel[10]": "Electron_Density",
           "DataLabel[11]": "HI_Density",
           "DataLabel[12]": "HII_Density",
           "DataLabel[13]": "HeI_Density",
           "DataLabel[14]": "HeII_Density",
           "DataLabel[15]": "HeIII_Density",
           "DataLabel[16]": "kphHI",
           "DataLabel[17]": "gammaHI",
           "DataLabel[18]": "kphHeI",
           "DataLabel[19]": "kphHeII",
           "DataLabel[1]": "x-velocity",
           "DataLabel[20]": "Metal_Density",
           "DataLabel[21]": "Galaxy1Colour",
           "DataLabel[22]": "Galaxy2Colour",
           "DataLabel[23]": "MBHColour",
           "DataLabel[2]": "y-velocity",
           "DataLabel[3]": "z-velocity",
           "DataLabel[4]": "TotalEnergy",
           "DataLabel[5]": "Bx",
           "DataLabel[6]": "By",
           "DataLabel[7]": "Bz",
           "DataLabel[8]": "PhiField",
           "DataLabel[9]": "Phi_pField",
           "DataUnits[0]": "none",
           "DataUnits[10]": "none",
           "DataUnits[11]": "none",
           "DataUnits[12]": "none",
           "DataUnits[13]": "none",
           "DataUnits[14]": "none",
           "DataUnits[15]": "none",
           "DataUnits[16]": "none",
           "DataUnits[17]": "none",
           "DataUnits[18]": "none",
           "DataUnits[19]": "none",
           "DataUnits[1]": "none",
           "DataUnits[20]": "none",
           "DataUnits[21]": "none",
           "DataUnits[22]": "none",
           "DataUnits[23]": "none",
           "DataUnits[24]": "none",
           "DataUnits[2]": "none",
           "DataUnits[3]": "none",
           "DataUnits[4]": "none",
           "DataUnits[5]": "none",
           "DataUnits[6]": "none",
           "DataUnits[7]": "none",
           "DataUnits[8]": "none",
           "DataUnits[9]": "none",
           "Debug1": 0,
           "Debug2": 0,
           "DensityUnits": 2.76112e-30,
           "DivergenceCleaningBoundaryBuffer": 0,
           "DivergenceCleaningThreshold": 0.001,
           "DomainLeftEdge": [
            0,
            0,
            0
           ],
           "DomainRightEdge": [
            1,
            1,
            1
           ],
           "DrivingEfficiency": 1,
           "DualEnergyFormalism": 0,
           "DualEnergyFormalismEta1": 0.001,
           "DualEnergyFormalismEta2": 0.1,
           "EOSCriticalDensity": 1e-13,
           "EOSGamma": 1.6667,
           "EOSSoundSpeed": 26500,
           "EOSType": 0,
           "ExtractFieldsOnly": 1,
           "FileDirectedOutput": 1,
           "FluxCorrection": 1,
           "GadgetEquilibriumCooling": 0,
           "Gamma": 1.6667,
           "GlobalDir": ".",
           "GravitationalConstant": 12.5664,
           "GravityResolution": 1,
           "GreensFunctionMaxNumber": 30,
           "GreensFunctionMaxSize": 1,
           "GridVelocity": [
            0,
            0,
            0
           ],
           "H2OpticalDepthApproximation": 1,
           "HaloFinderCycleSkip": 3,
           "HaloFinderLastTime": 0,
           "HaloFinderLinkingLength": 0.1,
           "HaloFinderMinimumSize": 50,
           "HaloFinderOutputParticleList": 0,
           "HaloFinderRunAfterOutput": 1,
           "HaloFinderSubfind": 0,
           "HaloFinderTimestep": -99999,
           "HistoryDumpDir": "HD",
           "HistoryDumpName": "history",
           "HistoryDumpNumber": 0,
           "HydroMethod": 2,
           "IncludeCloudyHeating": 0,
           "IncludeCloudyMMW": 0,
           "InitialCPUTime": 1266970000,
           "InitialCycleNumber": 30,
           "InitialTime": 0.0060000200028298,
           "InlineHaloFinder": 0,
           "InterpolationMethod": 1,
           "IsothermalSoundSpeed": 1,
           "JeansRefinementColdTemperature": -1,
           "LeftFaceBoundaryCondition": [
            3,
            3,
            3
           ],
           "LengthUnits": 3.086e+24,
           "LoadBalancing": 1,
           "LoadBalancingCycleSkip": 100,
           "LoadBalancingMinLevel": 2,
           "MBHAccretingMassRatio": -1,
           "MBHAccretion": 4,
           "MBHAccretionFixedRate": 0.0001,
           "MBHAccretionFixedTemperature": 11000,
           "MBHAccretionRadius": -1,
           "MBHCombineRadius": 50,
           "MBHFeedback": 0,
           "MBHFeedbackEnergyCoupling": 5e-05,
           "MBHFeedbackJetsThresholdMass": 1000,
           "MBHFeedbackMassEjectionFraction": 0.05,
           "MBHFeedbackMetalYield": 0.02,
           "MBHFeedbackRadiativeEfficiency": 0.1,
           "MBHFeedbackThermalRadius": -50,
           "MBHMinDynamicalTime": 10000000,
           "MBHMinimumMass": 1000,
           "MBHParticleIO": 1,
           "MBHParticleIOFilename": "mbh_particle_io.dat",
           "MBHTurnOffStarFormation": 0,
           "MSStellarWindTurnOnMass": 10,
           "MassUnits": 8.11471e+43,
           "MaximumAlvenSpeed": 1e+30,
           "MaximumGravityRefinementLevel": 11,
           "MaximumParticleRefinementLevel": 11,
           "MaximumRefinementLevel": 11,
           "MaximumSubgridSize": 300000,
           "MaximumTopGridTimeStep": 100000000000000000000,
           "MemoryLimit": -294967296,
           "MetalCooling": 1,
           "MetalCoolingTable": "metal_cool.dat",
           "MetallicityRefinementMinLevel": -1,
           "MetallicityRefinementMinMetallicity": 1e-05,
           "MinimumEfficiency": 0.4,
           "MinimumEnergyRatioForRefinement": 0.4,
           "MinimumMassForRefinement": [
            0.00012,
            0.00012,
            0.00039999999,
            0.00039999999,
            0.00039999999
           ],
           "MinimumMassForRefinementLevelExponent": [
            -0.697,
            -0.328,
            0,
            0,
            0,
            0,
            0
           ],
           "MinimumOverDensityForRefinement": [
            4,
            4,
            0.002,
            0.002,
            0.002,
            1.5,
            1.5
           ],
           "MinimumPressureJumpForRefinement": 0.33,
           "MinimumPressureSupportParameter": 100,
           "MinimumShearForRefinement": 1,
           "MinimumSlopeForRefinement": -0.172,
           "MinimumSubgridEdge": 4,
           "MoveParticlesBetweenSiblings": 1,
           "Movie3DVolumes": 1,
           "MovieDataField": [
            0,
            1000
           ],
           "MovieSkipTimestep": -99999,
           "MovieTimestepCounter": 17279,
           "MovieVertexCentered": 0,
           "Mu": 0.6,
           "MultiMetals": 0,
           "MultiSpecies": 1,
           "MustRefineParticlesRefineToLevel": 11,
           "MustRefineRegionLeftEdge": [
            0,
            0,
            0
           ],
           "MustRefineRegionMinRefinementLevel": -1,
           "MustRefineRegionRightEdge": [
            1,
            1,
            1
           ],
           "NewMovieDumpNumber": 0,
           "NewMovieLeftEdge": [
            0.4,
            0.4,
            0.4
           ],
           "NewMovieName": "MoviePack",
           "NewMovieParticleOn": 1,
           "NewMovieRightEdge": [
            0.6,
            0.6,
            0.6
           ],
           "NumberOfBufferZones": 1,
           "NumberOfParticleAttributes": 3,
           "NumberOfParticles": 1124450,
           "NumberOfRootGridTilesPerDimensionPerProcessor": 1,
           "OutputCoolingTime": 1,
           "OutputFirstTimeAtLevel": 0,
           "OutputGriddedStarParticle": 2,
           "OutputSmoothedDarkMatter": 0,
           "OutputTemperature": 1,
           "PPMDiffusionParameter": 0,
           "PPMFlatteningParameter": 0,
           "PPMSteepeningParameter": 0,
           "ParallelParticleIO": 0,
           "ParallelRootGridIO": 0,
           "ParticleBoundaryType": 3,
           "ParticleCourantSafetyNumber": 0.8,
           "ParticleSplitterChildrenParticleSeparation": 1,
           "ParticleSplitterIterations": 1,
           "ParticleTypeInFile": 1,
           "PartitionNestedGrids": 0,
           "PhotoelectricHeating": 0,
           "PointSourceGravity": 0,
           "PointSourceGravityConstant": 1,
           "PointSourceGravityCoreRadius": 0,
           "PointSourceGravityPosition": [
            0,
            0,
            0
           ],
           "PoissonApproximationThreshold": 0.001,
           "PoissonBoundaryType": 0,
           "PopIIIBHLuminosityEfficiency": 0.1,
           "PopIIIBlackHoles": 0,
           "PopIIIColorDensityThreshold": 1000000,
           "PopIIIColorMass": 1000000,
           "PopIIIH2CriticalFraction": 0.0005,
           "PopIIIMetalCriticalFraction": 0.0001,
           "PopIIIOverDensityThreshold": 1000000,
           "PopIIIStarMass": 100,
           "PopIIISupernovaRadius": 1,
           "PopIIISupernovaUseColour": 0,
           "PotentialIterations": 8,
           "PressureFree": 0,
           "PrimordialChemistrySolver": 0,
           "ProblemType": 31,
           "PythonSubcycleSkip": 1,
           "RKOrder": 2,
           "RadiationFieldLevelRecompute": 0,
           "RadiationFieldType": 12,
           "RadiationShield": 1,
           "RadiationSpectrumNormalization": 1e-21,
           "RadiationSpectrumSlope": 1.5,
           "RadiationXRayComptonHeating": 1,
           "RadiationXRaySecondaryIon": 1,
           "RadiativeCooling": 1,
           "RadiativeTransfer": 0,
           "RadiativeTransferAdaptiveTimestep": 1,
           "RadiativeTransferCoupledRateSolver": 1,
           "RadiativeTransferHIIRestrictedTimestep": 0,
           "RadiativeTransferHydrogenOnly": 0,
           "RadiativeTransferInitialHEALPixLevel": 3,
           "RadiativeTransferInterpolateField": 0,
           "RadiativeTransferOpticallyThinH2": 0,
           "RadiativeTransferPeriodicBoundary": 0,
           "RadiativeTransferPhotonEscapeRadius": 0,
           "RadiativeTransferPhotonMergeRadius": 10,
           "RadiativeTransferPropagationDistance": 0.099999978626147,
           "RadiativeTransferPropagationSpeedFraction": 1,
           "RadiativeTransferRadiationPressure": 1,
           "RadiativeTransferRaysPerCell": 5.1,
           "RadiativeTransferSourceClustering": 0,
           "RadiativeTransferSourceRadius": 0,
           "RadiativeTransferSplitPhotonRadius": 50,
           "RadiativeTransferTimestepVelocityLimit": 100,
           "RandomForcing": 0,
           "RandomForcingEdot": -1,
           "ReconstructionMethod": 0,
           "RedshiftDumpDir": "RD",
           "RedshiftDumpName": "RedshiftOutput",
           "RefineBy": 2,
           "RefineByJeansLengthSafetyFactor": 8,
           "RefineByJeansLengthUnits": 0,
           "RefineByResistiveLengthSafetyFactor": 2,
           "RefineRegionAutoAdjust": 0,
           "RefineRegionLeftEdge": [
            0,
            0,
            0
           ],
           "RefineRegionRightEdge": [
            1,
            1,
            1
           ],
           "ResetLoadBalancing": 0,
           "ResetMagneticField": 0,
           "ResetMagneticFieldAmplitude": [
            0,
            0,
            1e-10
           ],
           "RestartDumpDir": "RS",
           "RestartDumpName": "restart",
           "RestartDumpNumber": 0,
           "ResubmitCommand": "(null)",
           "ResubmitOn": 0,
           "RiemannSolver": 1,
           "RightFaceBoundaryCondition": [
            3,
            3,
            3
           ],
           "RootGridCourantSafetyNumber": 1,
           "S2ParticleSize": 3,
           "SelfGravity": 1,
           "SetHeIIHeatingScale": 1.8,
           "SetUVBAmplitude": 1,
           "ShearingBoxProblemType": 0,
           "ShearingVelocityDirection": -1,
           "ShockMethod": 0,
           "ShockTemperatureFloor": 1,
           "SinkMergeDistance": 10000000272564224,
           "SinkMergeMass": 0.1,
           "SlopeFlaggingFields": [
            7359008,
            -803150544
           ],
           "SmallP": 1e-30,
           "SmallRho": 1e-30,
           "SmallT": 1e-10,
           "SmoothedDarkMatterNeighbors": 32,
           "StarClusterCombineRadius": 10,
           "StarClusterFormEfficiency": 0.1,
           "StarClusterIonizingLuminosity": 1e+47,
           "StarClusterMinDynamicalTime": 10000000,
           "StarClusterMinimumMass": 1000,
           "StarClusterRegionLeftEdge": [
            0,
            0,
            0
           ],
           "StarClusterRegionRightEdge": [
            1,
            1,
            1
           ],
           "StarClusterSNEnergy": 6.8e+48,
           "StarClusterSNRadius": 10,
           "StarClusterUseMetalField": 0,
           "StarEnergyToQuasarUV": 1.67e-06,
           "StarEnergyToStellarUV": 1e-06,
           "StarEnergyToThermalFeedback": 1.5e-07,
           "StarMakerMassEfficiency": 0.5,
           "StarMakerMinimumDynamicalTime": 100000,
           "StarMakerMinimumMass": 8000,
           "StarMakerOverDensityThreshold": 75694000,
           "StarMassEjectionFraction": 0.8,
           "StarMetalYield": 0.02,
           "StarParticleCreation": 128,
           "StarParticleFeedback": 128,
           "StaticHierarchy": 0,
           "StaticPartitionNestedGrids": 1,
           "StellarWindFeedback": 0,
           "StellarWindTurnOnMass": 0.1,
           "StopCPUTime": 3600000,
           "StopCycle": 80,
           "StopFirstTimeAtLevel": 0,
           "StopSteps": 10000,
           "StopTime": 10,
           "StorePreShockFields": 0,
           "SubcycleLastDataDump": -99999,
           "SubcycleNumber": 17279,
           "SubcycleSkipDataDump": 0,
           "Theta_Limiter": 1.5,
           "ThreeBodyRate": 0,
           "TimeLastDataDump": 0.006,
           "TimeLastHistoryDump": 0,
           "TimeLastInterpolatedDataDump": 0,
           "TimeLastRestartDump": 0,
           "TimeLastTracerParticleDump": -99999,
           "TimeUnits": 2329460000000000000,
           "TopGridDimensions": [
            32,
            32,
            32
           ],
           "TopGridGravityBoundary": 1,
           "TopGridRank": 3,
           "TracerParticleDumpDir": "TD",
           "TracerParticleDumpName": "TracerOutput",
           "TracerParticleDumpNumber": 0,
           "TracerParticleOn": 0,
           "UniformGravity": 0,
           "UniformGravityConstant": 1,
           "UniformGravityDirection": 0,
           "Unigrid": 0,
           "UnigridTranspose": 0,
           "UseAmbipolarDiffusion": 0,
           "UseConstantAcceleration": 0,
           "UseDivergenceCleaning": 3,
           "UseDrivingField": 0,
           "UseFloor": 0,
           "UseMinimumPressureSupport": 0,
           "UsePhysicalUnit": 0,
           "UseResistivity": 0,
           "UseViscosity": 0,
           "VelAnyl": 0,
           "VelocityGradient": 1,
           "VersionNumber": 1.3,
           "ViscosityCoefficient": 0,
           "WriteBinaryHierarchy": 0,
           "WritePotential": 0,
           "ZEUSLinearArtificialViscosity": 0,
           "ZEUSQuadraticArtificialViscosity": 2,
           "dtDataDump": 0.0002,
           "dtHistoryDump": 0,
           "dtInterpolatedDataDump": 0,
           "dtPhoton": -99999,
           "dtRestartDump": -99999,
           "dtTracerParticleDump": 0,
           "huge_number": 100000000000000000000,
           "tiny_number": 1e-20
          },
          "text/plain": "<IPython.core.display.JSON object>"
         },
         "metadata": {
          "application/json": {
           "expanded": false,
           "root": "Parameters"
          }
         },
         "output_type": "display_data"
        }
       ]
      }
     },
     "77395ca6642841dd9ed4853ffdb997b5": {
      "model_module": "@jupyter-widgets/output",
      "model_module_version": "1.0.0",
      "model_name": "OutputModel",
      "state": {
       "layout": "IPY_MODEL_93eb076743a94d339704c475042d0112"
      }
     },
     "773eb8688db34ddea1647ded802da4ad": {
      "model_module": "@jupyter-widgets/base",
      "model_module_version": "1.2.0",
      "model_name": "LayoutModel",
      "state": {}
     },
     "774928683ca943cfa74386609c7bed79": {
      "model_module": "@jupyter-widgets/controls",
      "model_module_version": "1.5.0",
      "model_name": "DescriptionStyleModel",
      "state": {
       "description_width": ""
      }
     },
     "782e84a44b1348e09db7e9855e3bae85": {
      "model_module": "@jupyter-widgets/controls",
      "model_module_version": "1.5.0",
      "model_name": "BoxModel",
      "state": {
       "children": [
        "IPY_MODEL_ee4cdc1b218d414c9f51ba63e6014279"
       ],
       "layout": "IPY_MODEL_566d54aa4527450abe92898b97aacb59"
      }
     },
     "78516b5aef124edb96f4ae948bfd9815": {
      "model_module": "@jupyter-widgets/controls",
      "model_module_version": "1.5.0",
      "model_name": "FloatSliderModel",
      "state": {
       "layout": "IPY_MODEL_eb8ec71fc3e5406bb3df65029a569e9c",
       "max": 10,
       "step": 0.1,
       "style": "IPY_MODEL_4d7d2d77f97c4e8c812b5d5797702add",
       "value": 1
      }
     },
     "78cb74d3381f41df9998ec572be16c5c": {
      "model_module": "@jupyter-widgets/controls",
      "model_module_version": "1.5.0",
      "model_name": "LinkModel",
      "state": {
       "source": [
        "IPY_MODEL_74340973c3884e98a29e0ac1c5582330",
        "value"
       ],
       "target": [
        "IPY_MODEL_2c5449605c994b6d83028fbcc2ebdb53",
        "linewidth"
       ]
      }
     },
     "79b2b7f83dd444e1b6fe466035de69ee": {
      "model_module": "jupyter-threejs",
      "model_module_version": "^2.1.0",
      "model_name": "LineBasicMaterialModel",
      "state": {
       "_view_module": null,
       "_view_module_version": "",
       "color": "#3d0965"
      }
     },
     "7b3827b9bedc46e6ad4e89fcc14347bf": {
      "model_module": "@jupyter-widgets/controls",
      "model_module_version": "1.5.0",
      "model_name": "DescriptionStyleModel",
      "state": {
       "description_width": ""
      }
     },
     "7ba39eb6e3bd4593ae2dcf2434e940c8": {
      "model_module": "@jupyter-widgets/controls",
      "model_module_version": "1.5.0",
      "model_name": "ColorPickerModel",
      "state": {
       "concise": true,
       "disabled": false,
       "layout": "IPY_MODEL_dd801343551a4266a83dcbbd3e5279ba",
       "style": "IPY_MODEL_6a7519ab9340478db5eeb38b67f9d7ec",
       "value": "#8a226a"
      }
     },
     "7c0dd5f73b0d4a57af36b9d6dca28a91": {
      "model_module": "jupyter-threejs",
      "model_module_version": "^2.1.0",
      "model_name": "BufferGeometryModel",
      "state": {
       "_view_module": null,
       "_view_module_version": "",
       "attributes": {
        "index": "IPY_MODEL_d930112802f04ebeb221228b2d312da8",
        "position": "IPY_MODEL_2766ac74d25840d19187458f2c2fabc6"
       }
      }
     },
     "7c1c73608c4d4d24821a3e6bf1572e7d": {
      "model_module": "@jupyter-widgets/controls",
      "model_module_version": "1.5.0",
      "model_name": "TabModel",
      "state": {
       "_titles": {
        "0": "Source",
        "1": "Variables"
       },
       "children": [
        "IPY_MODEL_08112f7bf43848299378ba1ed25fede4",
        "IPY_MODEL_782e84a44b1348e09db7e9855e3bae85"
       ],
       "layout": "IPY_MODEL_cbdd2cabc08a4eea8a9ff942e36712f8"
      }
     },
     "7e4f00def848423a9884ff44afdbe524": {
      "model_module": "@jupyter-widgets/base",
      "model_module_version": "1.2.0",
      "model_name": "LayoutModel",
      "state": {}
     },
     "7f6c577a4558469b8fe7928d4aae44bb": {
      "model_module": "@jupyter-widgets/controls",
      "model_module_version": "1.5.0",
      "model_name": "DescriptionStyleModel",
      "state": {
       "description_width": ""
      }
     },
     "80153bdf42bf4dcd92e59023909ccdb2": {
      "model_module": "@jupyter-widgets/controls",
      "model_module_version": "1.5.0",
      "model_name": "DescriptionStyleModel",
      "state": {
       "description_width": ""
      }
     },
     "805f94dc4f804e409439df2ae62c60ec": {
      "model_module": "@jupyter-widgets/base",
      "model_module_version": "1.2.0",
      "model_name": "LayoutModel",
      "state": {}
     },
     "82ebfe8969814e99846563792ff4418b": {
      "model_module": "@jupyter-widgets/controls",
      "model_module_version": "1.5.0",
      "model_name": "DescriptionStyleModel",
      "state": {
       "description_width": ""
      }
     },
     "84b19b8f8e73433888a8dd60f6411311": {
      "model_module": "@jupyter-widgets/controls",
      "model_module_version": "1.5.0",
      "model_name": "TextModel",
      "state": {
       "disabled": true,
       "layout": "IPY_MODEL_90e8cf5ab4a84cab9e1f8b15583abedc",
       "style": "IPY_MODEL_31b5551ceb2345aea23ab0de070383f1",
       "value": "1.0"
      }
     },
     "87f4c3ed64bb4c7d9da0ec4e1d16b240": {
      "model_module": "@jupyter-widgets/controls",
      "model_module_version": "1.5.0",
      "model_name": "HBoxModel",
      "state": {
       "children": [
        "IPY_MODEL_bf3cc2a7eb4c432486b0f5aab127f819",
        "IPY_MODEL_8a63a57f531749df82714141edc960d4",
        "IPY_MODEL_a3535b7029dd4cb5a5b5800b5877cf84",
        "IPY_MODEL_adadf6bc7c8a42dfa30aee2328934c75"
       ],
       "layout": "IPY_MODEL_51a38b8c8e31492596aa2a545922d5c8"
      }
     },
     "87fb75425bd343c9b9a89f1bc49a33b1": {
      "model_module": "@jupyter-widgets/controls",
      "model_module_version": "1.5.0",
      "model_name": "CheckboxModel",
      "state": {
       "description": "Level 6",
       "disabled": false,
       "layout": "IPY_MODEL_65c3720719ef4b70aece363a1ce5526c",
       "style": "IPY_MODEL_3b73a028a26e46a4b62663c219a1516e",
       "value": true
      }
     },
     "88529009f1a849ce900657ae13fa9328": {
      "model_module": "@jupyter-widgets/output",
      "model_module_version": "1.0.0",
      "model_name": "OutputModel",
      "state": {
       "layout": "IPY_MODEL_dcadba0d074c4696abc5bc995121ec91",
       "outputs": [
        {
         "data": {
          "application/vnd.jupyter.widget-view+json": {
           "model_id": "0f9b04517b1b484798cbd48e5a920649",
           "version_major": 2,
           "version_minor": 0
          },
          "text/plain": "HBox(children=(Select(layout=Layout(height='95%'), options=('Average_creation_time', 'Bx', 'By', 'Bz', 'Coolin…"
         },
         "metadata": {},
         "output_type": "display_data"
        }
       ]
      }
     },
     "88c11434b3a2413696f364295eae25af": {
      "model_module": "@jupyter-widgets/base",
      "model_module_version": "1.2.0",
      "model_name": "LayoutModel",
      "state": {
       "flex": "2 1 auto",
       "height": "95%",
       "width": "auto"
      }
     },
     "88c7369ec2cf4a1dad31a722813ce65a": {
      "model_module": "@jupyter-widgets/output",
      "model_module_version": "1.0.0",
      "model_name": "OutputModel",
      "state": {
       "layout": "IPY_MODEL_2fb9bd6c662048a19328a4dfd204f9cb"
      }
     },
     "89432779c54548448305b0fb77ec67c7": {
      "model_module": "@jupyter-widgets/base",
      "model_module_version": "1.2.0",
      "model_name": "LayoutModel",
      "state": {}
     },
     "8a63a57f531749df82714141edc960d4": {
      "model_module": "@jupyter-widgets/controls",
      "model_module_version": "1.5.0",
      "model_name": "TextModel",
      "state": {
       "disabled": true,
       "layout": "IPY_MODEL_620584f9f6fa4535939040d498ff7a1d",
       "style": "IPY_MODEL_f430f2a2e8af4c969e36b34297687883",
       "value": "1.0"
      }
     },
     "8b565abfd7374892afd45f809291d653": {
      "model_module": "@jupyter-widgets/base",
      "model_module_version": "1.2.0",
      "model_name": "LayoutModel",
      "state": {
       "height": "9em",
       "width": "100%"
      }
     },
     "8d3b44a9c907427db192a9d84f447f01": {
      "model_module": "@jupyter-widgets/controls",
      "model_module_version": "1.5.0",
      "model_name": "HBoxModel",
      "state": {
       "children": [
        "IPY_MODEL_da603a428a3c4473a9f21ce91a38cff1",
        "IPY_MODEL_c2f43ad4271d40c883ca377b5ae5a7bc"
       ],
       "layout": "IPY_MODEL_90e175775d754d169e34e2dc1c830af0"
      }
     },
     "8e13c57c164147b0a4bb06ba8935fcb5": {
      "buffers": [
       {
        "data": "AAAAPwAAAD8AAAA/AIACPwAAAD8AAAA/AIACPwCgAj8AAAA/AAAAPwCgAj8AAAA/AAAAPwAAAD8AgAE/AIACPwAAAD8AgAE/AIACPwCgAj8AgAE/AAAAPwCgAj8AgAE/AAAAPwAAAD8AgAE/AEABPwAAAD8AgAE/AEABPwAAAT8AgAE/AAAAPwAAAT8AgAE/AAAAPwAAAD8A4AI/AEABPwAAAD8A4AI/AEABPwAAAT8A4AI/AAAAPwAAAT8A4AI/AKABPwCgAD8AgAE/AOABPwCgAD8AgAE/AOABPwAgAT8AgAE/AKABPwAgAT8AgAE/AKABPwCgAD8AoAE/AOABPwCgAD8AoAE/AOABPwAgAT8AoAE/AKABPwAgAT8AoAE/AEABPwAAAD8AgAE/AKABPwAAAD8AgAE/AKABPwAgAT8AgAE/AEABPwAgAT8AgAE/AEABPwAAAD8AIAI/AKABPwAAAD8AIAI/AKABPwAgAT8AIAI/AEABPwAgAT8AIAI/AAAAPwAAAT8AgAE/ACABPwAAAT8AgAE/ACABPwCgAT8AgAE/AAAAPwCgAT8AgAE/AAAAPwAAAT8AAAI/ACABPwAAAT8AAAI/ACABPwCgAT8AAAI/AAAAPwCgAT8AAAI/AAD7PgAAAD8AAAA/AAAAPwAAAD8AAAA/AAAAPwBAAj8AAAA/AAD7PgBAAj8AAAA/AAD7PgAAAD8AoAI/AAAAPwAAAD8AoAI/AAAAPwBAAj8AoAI/AAD7PgBAAj8AoAI/AED+PgCgAj8AIAA/AAD/PgCgAj8AIAA/AAD/PgAAAz8AIAA/AED+PgAAAz8AIAA/AED+PgCgAj8AgAA/AAD/PgCgAj8AgAA/AAD/PgAAAz8AgAA/AED+PgAAAz8AgAA/AIAAPwDA+T4AIAA/AOAAPwDA+T4AIAA/AOAAPwCA+j4AIAA/AIAAPwCA+j4AIAA/AIAAPwDA+T4AgAA/AOAAPwDA+T4AgAA/AOAAPwCA+j4AgAA/AIAAPwCA+j4AgAA/AAAAPwDA+j4AAAA/AKACPwDA+j4AAAA/AKACPwAAAD8AAAA/AAAAPwAAAD8AAAA/AAAAPwDA+j4AQAI/AKACPwDA+j4AQAI/AKACPwAAAD8AQAI/AAAAPwAAAD8AQAI/AAAAPwAA/j4AgAI/AGAAPwAA/j4AgAI/AGAAPwDA/j4AgAI/AAAAPwDA/j4AgAI/AAAAPwAA/j4A4AI/AGAAPwAA/j4A4AI/AGAAPwDA/j4A4AI/AAAAPwDA/j4A4AI/AMD+PgCA+j4AQAA/AID/PgCA+j4AQAA/AID/PgBA+z4AQAA/AMD+PgBA+z4AQAA/AMD+PgCA+j4AoAA/AID/PgCA+j4AoAA/AID/PgBA+z4AoAA/AMD+PgBA+z4AoAA/AAD7PgCA+z4AAAA/AAAAPwCA+z4AAAA/AAAAPwAAAD8AAAA/AAD7PgAAAD8AAAA/AAD7PgCA+z4AgAI/AAAAPwCA+z4AgAI/AAAAPwAAAD8AgAI/AAD7PgAAAD8AgAI/AAD+PgAA+j4A4AA/AMD+PgAA+j4A4AA/AMD+PgDA+j4A4AA/AAD+PgDA+j4A4AA/AAD+PgAA+j4AQAE/AMD+PgAA+j4AQAE/AMD+PgDA+j4AQAE/AAD+PgDA+j4AQAE/AAAAPwAAAD8AgPs+AGACPwAAAD8AgPs+AGACPwCgAj8AgPs+AAAAPwCgAj8AgPs+AAAAPwAAAD8AAAA/AGACPwAAAD8AAAA/AGACPwCgAj8AAAA/AAAAPwCgAj8AAAA/AID8PgCAAD8AgPk+AED9PgCAAD8AgPk+AED9PgDgAD8AgPk+AID8PgDgAD8AgPk+AID8PgCAAD8AQPo+AED9PgCAAD8AQPo+AED9PgDgAD8AQPo+AID8PgDgAD8AQPo+AID6PgCgAD8AQP4+AED7PgCgAD8AQP4+AED7PgBAAT8AQP4+AID6PgBAAT8AQP4+AID6PgCgAD8AgP8+AED7PgCgAD8AgP8+AED7PgBAAT8AgP8+AID6PgBAAT8AgP8+AED7PgAAAD8AQPs+AAAAPwAAAD8AQPs+AAAAPwCAAj8AQPs+AED7PgCAAj8AQPs+AED7PgAAAD8AAAA/AAAAPwAAAD8AAAA/AAAAPwCAAj8AAAA/AED7PgCAAj8AAAA/AAAAPwAA+z4AQPs+AEABPwAA+z4AQPs+AEABPwAAAD8AQPs+AAAAPwAAAD8AQPs+AAAAPwAA+z4AAAA/AEABPwAA+z4AAAA/AEABPwAAAD8AAAA/AAAAPwAAAD8AAAA/AEABPwDA/T4AwPo+AKABPwDA/T4AwPo+AKABPwCA/j4AwPo+AEABPwCA/j4AwPo+AEABPwDA/T4AgPs+AKABPwDA/T4AgPs+AKABPwCA/j4AgPs+AEABPwCA/j4AgPs+AEABPwDA+z4AwPw+AKABPwDA+z4AwPw+AKABPwCA/T4AwPw+AEABPwCA/T4AwPw+AEABPwDA+z4AAAA/AKABPwDA+z4AAAA/AKABPwCA/T4AAAA/AEABPwCA/T4AAAA/AEABPwCA/T4AwPw+AMABPwCA/T4AwPw+AMABPwCA/j4AwPw+AEABPwCA/j4AwPw+AEABPwCA/T4AQP0+AMABPwCA/T4AQP0+AMABPwCA/j4AQP0+AEABPwCA/j4AQP0+AEABPwCA/T4AQP0+AAADPwCA/T4AQP0+AAADPwAAAD8AQP0+AEABPwAAAD8AQP0+AEABPwCA/T4AAAA/AAADPwCA/T4AAAA/AAADPwAAAD8AAAA/AEABPwAAAD8AAAA/AEABPwCA/j4AQPw+AKABPwCA/j4AQPw+AKABPwBA/z4AQPw+AEABPwBA/z4AQPw+AEABPwCA/j4AQP0+AKABPwCA/j4AQP0+AKABPwBA/z4AQP0+AEABPwBA/z4AQP0+AEABPwBA/z4AgPw+AIABPwBA/z4AgPw+AIABPwAAAD8AgPw+AEABPwAAAD8AgPw+AEABPwBA/z4AQP0+AIABPwBA/z4AQP0+AIABPwAAAD8AQP0+AEABPwAAAD8AQP0+AID9PgCA/j4AAPk+AED+PgCA/j4AAPk+AED+PgBA/z4AAPk+AID9PgBA/z4AAPk+AID9PgCA/j4AwPk+AED+PgCA/j4AwPk+AED+PgBA/z4AwPk+AID9PgBA/z4AwPk+AMD+PgDA/T4AAPo+AID/PgDA/T4AAPo+AID/PgCA/j4AAPo+AMD+PgCA/j4AAPo+AMD+PgDA/T4AwPo+AID/PgDA/T4AwPo+AID/PgCA/j4AwPo+AMD+PgCA/j4AwPo+AMD7PgDA+j4AAP0+AID8PgDA+j4AAP0+AID8PgCA+z4AAP0+AMD7PgCA+z4AAP0+AMD7PgDA+j4AwP0+AID8PgDA+j4AwP0+AID8PgCA+z4AwP0+AMD7PgCA+z4AwP0+AAD7PgDA+z4AQPs+AAAAPwDA+z4AQPs+AAAAPwAAAD8AQPs+AAD7PgAAAD8AQPs+AAD7PgDA+z4AAAA/AAAAPwDA+z4AAAA/AAAAPwAAAD8AAAA/AAD7PgAAAD8AAAA/",
        "encoding": "base64",
        "path": [
         "array",
         "buffer"
        ]
       }
      ],
      "model_module": "jupyter-threejs",
      "model_module_version": "^2.1.0",
      "model_name": "BufferAttributeModel",
      "state": {
       "_view_module": null,
       "_view_module_version": "",
       "array": {
        "buffer": {},
        "dtype": "float32",
        "shape": [
         224,
         3
        ]
       },
       "version": 2
      }
     },
     "8edeaa063f864a1bb5e74fb601d50fd1": {
      "model_module": "@jupyter-widgets/controls",
      "model_module_version": "1.5.0",
      "model_name": "HTMLModel",
      "state": {
       "layout": "IPY_MODEL_25c3470ad924448dae0e21fddfc3e5f0",
       "style": "IPY_MODEL_73c0e7f89f5a442b82ae7da9b0c723b1",
       "value": "Empty"
      }
     },
     "90e175775d754d169e34e2dc1c830af0": {
      "model_module": "@jupyter-widgets/base",
      "model_module_version": "1.2.0",
      "model_name": "LayoutModel",
      "state": {}
     },
     "90e8cf5ab4a84cab9e1f8b15583abedc": {
      "model_module": "@jupyter-widgets/base",
      "model_module_version": "1.2.0",
      "model_name": "LayoutModel",
      "state": {}
     },
     "91bc685385cd42dc92f5af016b67d02c": {
      "model_module": "@jupyter-widgets/base",
      "model_module_version": "1.2.0",
      "model_name": "LayoutModel",
      "state": {
       "height": "14em"
      }
     },
     "921cf17879d844729f8e3deacd9135de": {
      "model_module": "@jupyter-widgets/base",
      "model_module_version": "1.2.0",
      "model_name": "LayoutModel",
      "state": {}
     },
     "92d2ac48329144b2b5ec1df5b7b4d0c3": {
      "model_module": "jupyter-threejs",
      "model_module_version": "^2.1.0",
      "model_name": "LineSegmentsModel",
      "state": {
       "_view_module": null,
       "_view_module_version": "",
       "geometry": "IPY_MODEL_eaa6c1078ae44fdcb0df43012554580d",
       "material": "IPY_MODEL_2c5449605c994b6d83028fbcc2ebdb53"
      }
     },
     "92da78d946174ebe903ea4a5059d3240": {
      "model_module": "@jupyter-widgets/controls",
      "model_module_version": "1.5.0",
      "model_name": "DescriptionStyleModel",
      "state": {
       "description_width": ""
      }
     },
     "93eb076743a94d339704c475042d0112": {
      "model_module": "@jupyter-widgets/base",
      "model_module_version": "1.2.0",
      "model_name": "LayoutModel",
      "state": {
       "height": "9em",
       "width": "100%"
      }
     },
     "94f7654790404529bad25770f3a7992a": {
      "model_module": "@jupyter-widgets/controls",
      "model_module_version": "1.5.0",
      "model_name": "LinkModel",
      "state": {
       "source": [
        "IPY_MODEL_385b221bbc81414bb49553b0fe3e4e5b",
        "value"
       ],
       "target": [
        "IPY_MODEL_da913d006c8a49c9a0413aac11359a0f",
        "color"
       ]
      }
     },
     "956df0660ddf41a5a4bee9ab3df2e40b": {
      "model_module": "@jupyter-widgets/base",
      "model_module_version": "1.2.0",
      "model_name": "LayoutModel",
      "state": {
       "height": "9em",
       "width": "100%"
      }
     },
     "95a2da8175bc418da1d1c55f8c31b635": {
      "model_module": "jupyter-threejs",
      "model_module_version": "^2.1.0",
      "model_name": "LineBasicMaterialModel",
      "state": {
       "_view_module": null,
       "_view_module_version": "",
       "color": "#bc3754"
      }
     },
     "96c4d73f03ba40a48d3701b2bfab92ac": {
      "model_module": "@jupyter-widgets/base",
      "model_module_version": "1.2.0",
      "model_name": "LayoutModel",
      "state": {
       "align_items": "stretch",
       "grid_template_columns": "30% 10% auto",
       "width": "50%"
      }
     },
     "96dba6c632e0448893632f3f806d72f7": {
      "model_module": "@jupyter-widgets/controls",
      "model_module_version": "1.5.0",
      "model_name": "TextModel",
      "state": {
       "disabled": true,
       "layout": "IPY_MODEL_b1e3367197924e81bcf16649de0c40f1",
       "style": "IPY_MODEL_b1e56b09e3394b63990b93f3b2c13c4f",
       "value": "1.0"
      }
     },
     "988fab9e594048a283240fd4bd70f899": {
      "model_module": "@jupyter-widgets/controls",
      "model_module_version": "1.5.0",
      "model_name": "DescriptionStyleModel",
      "state": {
       "description_width": ""
      }
     },
     "9a1d26393752435fa325fdfacae74029": {
      "buffers": [
       {
        "data": "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",
        "encoding": "base64",
        "path": [
         "array",
         "buffer"
        ]
       }
      ],
      "model_module": "jupyter-threejs",
      "model_module_version": "^2.1.0",
      "model_name": "BufferAttributeModel",
      "state": {
       "_view_module": null,
       "_view_module_version": "",
       "array": {
        "buffer": {},
        "dtype": "float32",
        "shape": [
         288,
         3
        ]
       },
       "version": 2
      }
     },
     "9ab09c67c313462e970fbca28468e4ac": {
      "model_module": "@jupyter-widgets/base",
      "model_module_version": "1.2.0",
      "model_name": "LayoutModel",
      "state": {}
     },
     "9bdb26a08db1432dbafcb79afb34dbfb": {
      "model_module": "@jupyter-widgets/base",
      "model_module_version": "1.2.0",
      "model_name": "LayoutModel",
      "state": {
       "height": "9em",
       "width": "100%"
      }
     },
     "9cdb7aecf2aa408eaa861694f4a4c6e1": {
      "model_module": "@jupyter-widgets/controls",
      "model_module_version": "1.5.0",
      "model_name": "LinkModel",
      "state": {
       "source": [
        "IPY_MODEL_511a10efce9747d597c724743783a3c4",
        "value"
       ],
       "target": [
        "IPY_MODEL_dcce57df21a542b589ba75241648618b",
        "visible"
       ]
      }
     },
     "9cf9ca0791984523907a14aea136c64b": {
      "model_module": "@jupyter-widgets/controls",
      "model_module_version": "1.5.0",
      "model_name": "CheckboxModel",
      "state": {
       "description": "Level 8",
       "disabled": false,
       "layout": "IPY_MODEL_d1d1145685aa4668ae09555b93d0050a",
       "style": "IPY_MODEL_774928683ca943cfa74386609c7bed79",
       "value": true
      }
     },
     "9e740efb82ce4d3cb96f467f5827814f": {
      "model_module": "jupyter-threejs",
      "model_module_version": "^2.1.0",
      "model_name": "LineSegmentsModel",
      "state": {
       "_view_module": null,
       "_view_module_version": "",
       "geometry": "IPY_MODEL_a2389efda4e146fb94bfe7f645793a9f",
       "material": "IPY_MODEL_da913d006c8a49c9a0413aac11359a0f"
      }
     },
     "9fea3751f9e24c5ea96481f62e9b54cb": {
      "model_module": "@jupyter-widgets/base",
      "model_module_version": "1.2.0",
      "model_name": "LayoutModel",
      "state": {
       "width": "20%"
      }
     },
     "a04a2672ec384ad9b0a7f5dfa1299fa2": {
      "model_module": "@jupyter-widgets/base",
      "model_module_version": "1.2.0",
      "model_name": "LayoutModel",
      "state": {
       "flex": "2 1 auto",
       "height": "95%",
       "width": "auto"
      }
     },
     "a11366adfa764ad693607fd6309d6c94": {
      "model_module": "@jupyter-widgets/controls",
      "model_module_version": "1.5.0",
      "model_name": "HBoxModel",
      "state": {
       "children": [
        "IPY_MODEL_cf973d8aa83f4c5396d11439c60a7862",
        "IPY_MODEL_87f4c3ed64bb4c7d9da0ec4e1d16b240"
       ],
       "layout": "IPY_MODEL_b03c7fe4c8384175ae41f2f43e23478e"
      }
     },
     "a2389efda4e146fb94bfe7f645793a9f": {
      "model_module": "jupyter-threejs",
      "model_module_version": "^2.1.0",
      "model_name": "BufferGeometryModel",
      "state": {
       "_view_module": null,
       "_view_module_version": "",
       "attributes": {
        "index": "IPY_MODEL_d7be527242944583878fdc70b1372b64",
        "position": "IPY_MODEL_fde8b5c864c0461f82972247bc3ea406"
       }
      }
     },
     "a24504100e66492b97961baeea80cf08": {
      "model_module": "@jupyter-widgets/controls",
      "model_module_version": "1.5.0",
      "model_name": "VBoxModel",
      "state": {
       "children": [
        "IPY_MODEL_8d3b44a9c907427db192a9d84f447f01",
        "IPY_MODEL_46de029a90344dd0adda01ba00ad671b",
        "IPY_MODEL_a11366adfa764ad693607fd6309d6c94"
       ],
       "layout": "IPY_MODEL_f5a31ceb3c184180a816e73dd4825dcd"
      }
     },
     "a2d413996cea476cac29d0df46d8dfad": {
      "model_module": "@jupyter-widgets/controls",
      "model_module_version": "1.5.0",
      "model_name": "LinkModel",
      "state": {
       "source": [
        "IPY_MODEL_87fb75425bd343c9b9a89f1bc49a33b1",
        "value"
       ],
       "target": [
        "IPY_MODEL_204ca954a8854c50bfbf85824e61bc6d",
        "visible"
       ]
      }
     },
     "a3535b7029dd4cb5a5b5800b5877cf84": {
      "model_module": "@jupyter-widgets/controls",
      "model_module_version": "1.5.0",
      "model_name": "TextModel",
      "state": {
       "disabled": true,
       "layout": "IPY_MODEL_fc169b3a1b9248ab9a3784db7ad98507",
       "style": "IPY_MODEL_bbac149d46c74ce8a008429bf36f92ff",
       "value": "1.0"
      }
     },
     "a3c3b534254240698e3ae87a1976a754": {
      "model_module": "@jupyter-widgets/base",
      "model_module_version": "1.2.0",
      "model_name": "LayoutModel",
      "state": {}
     },
     "a4403ae4269d4e038bf4b051af29d398": {
      "model_module": "@jupyter-widgets/output",
      "model_module_version": "1.0.0",
      "model_name": "OutputModel",
      "state": {
       "layout": "IPY_MODEL_a3c3b534254240698e3ae87a1976a754",
       "outputs": [
        {
         "data": {
          "application/vnd.jupyter.widget-view+json": {
           "model_id": "d27184645feb4002b6439c926b081f2b",
           "version_major": 2,
           "version_minor": 0
          },
          "text/plain": "HBox(children=(Select(layout=Layout(height='95%'), options=('age', 'creation_time', 'dynamical_time', 'mesh_id…"
         },
         "metadata": {},
         "output_type": "display_data"
        }
       ]
      }
     },
     "a4fc4d1ad8494005ba0b9d96ce622a7a": {
      "model_module": "@jupyter-widgets/controls",
      "model_module_version": "1.5.0",
      "model_name": "VBoxModel",
      "state": {
       "children": [
        "IPY_MODEL_a24504100e66492b97961baeea80cf08",
        "IPY_MODEL_76e6d765cb6f4717ad394c7adf783e72"
       ],
       "layout": "IPY_MODEL_1bfea2e3fcdb4599b8904c5560d74acf"
      }
     },
     "a7d71705a25b4a78bd18a33cba58a3a0": {
      "model_module": "@jupyter-widgets/base",
      "model_module_version": "1.2.0",
      "model_name": "LayoutModel",
      "state": {
       "border": "1px solid darkgrey"
      }
     },
     "a8203b97f40042e0a2ba63dc0d986d9a": {
      "model_module": "@jupyter-widgets/controls",
      "model_module_version": "1.5.0",
      "model_name": "DropdownModel",
      "state": {
       "_options_labels": [
        "AU",
        "Rearth",
        "Rjup",
        "Rsun",
        "cm",
        "code_length",
        "ft",
        "furlong",
        "inch",
        "l_geom",
        "l_pl",
        "ly",
        "m",
        "mil",
        "mile",
        "pc",
        "smoot",
        "unitary",
        "yd",
        "Å"
       ],
       "index": 5,
       "layout": "IPY_MODEL_da58c8bd55504cdc8b59627e11e2afec",
       "style": "IPY_MODEL_fe36aa30593f49e78865a40307f73403"
      }
     },
     "a8fb6457415549f0b18c20520992e5c7": {
      "buffers": [
       {
        "data": "AAAAPwAAAD8AAAA/AAAZPwAAAD8AAAA/AAAZPwAAGj8AAAA/AAAAPwAAGj8AAAA/AAAAPwAAAD8AABo/AAAZPwAAAD8AABo/AAAZPwAAGj8AABo/AAAAPwAAGj8AABo/AADQPgAAAD8AAAA/AAAAPwAAAD8AAAA/AAAAPwAAGT8AAAA/AADQPgAAGT8AAAA/AADQPgAAAD8AABk/AAAAPwAAAD8AABk/AAAAPwAAGT8AABk/AADQPgAAGT8AABk/AAAAPwAA0D4AAAA/AAAaPwAA0D4AAAA/AAAaPwAAAD8AAAA/AAAAPwAAAD8AAAA/AAAAPwAA0D4AABk/AAAaPwAA0D4AABk/AAAaPwAAAD8AABk/AAAAPwAAAD8AABk/AADuPgAAwj4AAAE/AAD0PgAAwj4AAAE/AAD0PgAAyD4AAAE/AADuPgAAyD4AAAE/AADuPgAAwj4AAAQ/AAD0PgAAwj4AAAQ/AAD0PgAAyD4AAAQ/AADuPgAAyD4AAAQ/AADQPgAA0D4AAAA/AAAAPwAA0D4AAAA/AAAAPwAAAD8AAAA/AADQPgAAAD8AAAA/AADQPgAA0D4AABk/AAAAPwAA0D4AABk/AAAAPwAAAD8AABk/AADQPgAAAD8AABk/AAAAPwAAAD8AAM4+AAAYPwAAAD8AAM4+AAAYPwAAGj8AAM4+AAAAPwAAGj8AAM4+AAAAPwAAAD8AAAA/AAAYPwAAAD8AAAA/AAAYPwAAGj8AAAA/AAAAPwAAGj8AAAA/AADOPgAAAD8AANA+AAAAPwAAAD8AANA+AAAAPwAAGz8AANA+AADOPgAAGz8AANA+AADOPgAAAD8AAAA/AAAAPwAAAD8AAAA/AAAAPwAAGz8AAAA/AADOPgAAGz8AAAA/AAAAPwAAzD4AANA+AAAMPwAAzD4AANA+AAAMPwAAAD8AANA+AAAAPwAAAD8AANA+AAAAPwAAzD4AAAA/AAAMPwAAzD4AAAA/AAAMPwAAAD8AAAA/AAAAPwAAAD8AAAA/AAAMPwAA1j4AAOQ+AAAQPwAA1j4AAOQ+AAAQPwAA4D4AAOQ+AAAMPwAA4D4AAOQ+AAAMPwAA1j4AAAA/AAAQPwAA1j4AAAA/AAAQPwAA4D4AAAA/AAAMPwAA4D4AAAA/AAAMPwAA6D4AANY+AAAOPwAA6D4AANY+AAAOPwAA9j4AANY+AAAMPwAA9j4AANY+AAAMPwAA6D4AAOA+AAAOPwAA6D4AAOA+AAAOPwAA9j4AAOA+AAAMPwAA9j4AAOA+AAAMPwAA4D4AAOA+AAAcPwAA4D4AAOA+AAAcPwAAAD8AAOA+AAAMPwAAAD8AAOA+AAAMPwAA4D4AAAA/AAAcPwAA4D4AAAA/AAAcPwAAAD8AAAA/AAAMPwAAAD8AAAA/AAAMPwAA/D4AANY+AAARPwAA/D4AANY+AAARPwAAAD8AANY+AAAMPwAAAD8AANY+AAAMPwAA/D4AAOA+AAARPwAA/D4AAOA+AAARPwAAAD8AAOA+AAAMPwAAAD8AAOA+AAAMPwAA9j4AANY+AAASPwAA9j4AANY+AAASPwAA/D4AANY+AAAMPwAA/D4AANY+AAAMPwAA9j4AAOA+AAASPwAA9j4AAOA+AAASPwAA/D4AAOA+AAAMPwAA/D4AAOA+AAAPPwAA8D4AAN4+AAASPwAA8D4AAN4+AAASPwAA9j4AAN4+AAAPPwAA9j4AAN4+AAAPPwAA8D4AAOA+AAASPwAA8D4AAOA+AAASPwAA9j4AAOA+AAAPPwAA9j4AAOA+AADUPgAA0D4AANA+AAAAPwAA0D4AANA+AAAAPwAAAD8AANA+AADUPgAAAD8AANA+AADUPgAA0D4AAAA/AAAAPwAA0D4AAAA/AAAAPwAAAD8AAAA/AADUPgAAAD8AAAA/",
        "encoding": "base64",
        "path": [
         "array",
         "buffer"
        ]
       }
      ],
      "model_module": "jupyter-threejs",
      "model_module_version": "^2.1.0",
      "model_name": "BufferAttributeModel",
      "state": {
       "_view_module": null,
       "_view_module_version": "",
       "array": {
        "buffer": {},
        "dtype": "float32",
        "shape": [
         120,
         3
        ]
       },
       "version": 2
      }
     },
     "a9002f25d2534c46b1150cf7d709f9ec": {
      "model_module": "@jupyter-widgets/controls",
      "model_module_version": "1.5.0",
      "model_name": "TabModel",
      "state": {
       "_titles": {
        "0": "Source",
        "1": "Variables"
       },
       "children": [
        "IPY_MODEL_1fdcd82871a74e53b7d0cae721f1fa22",
        "IPY_MODEL_21d901b181624b8d90384edcfd94107e"
       ],
       "layout": "IPY_MODEL_eb9e0905729a483fbe775f3f67a683a2"
      }
     },
     "aa3ceb6c7e384eeeb2963d5994d93902": {
      "model_module": "jupyter-threejs",
      "model_module_version": "^2.1.0",
      "model_name": "BufferGeometryModel",
      "state": {
       "_view_module": null,
       "_view_module_version": "",
       "attributes": {
        "index": "IPY_MODEL_71ff6f7301d84752988a107aaeffc90d",
        "position": "IPY_MODEL_529cc09dfc65476c93a555761bf8a47d"
       }
      }
     },
     "aab436305c6c44f18d54b99ac4fd51e6": {
      "model_module": "@jupyter-widgets/controls",
      "model_module_version": "1.5.0",
      "model_name": "DescriptionStyleModel",
      "state": {
       "description_width": ""
      }
     },
     "ac522424a0e347349ad82ba4084a23be": {
      "model_module": "@jupyter-widgets/base",
      "model_module_version": "1.2.0",
      "model_name": "LayoutModel",
      "state": {}
     },
     "acb46154517e43c8a248f1d36fe3e554": {
      "model_module": "@jupyter-widgets/controls",
      "model_module_version": "1.5.0",
      "model_name": "SelectModel",
      "state": {
       "_options_labels": [
        "age",
        "creation_time",
        "dynamical_time",
        "mesh_id",
        "metallicity_fraction",
        "particle_angular_momentum",
        "particle_angular_momentum_magnitude",
        "particle_angular_momentum_x",
        "particle_angular_momentum_y",
        "particle_angular_momentum_z",
        "particle_cylindrical_velocity_theta",
        "particle_cylindrical_velocity_z",
        "particle_index",
        "particle_mass",
        "particle_ones",
        "particle_position",
        "particle_position_cylindrical_radius",
        "particle_position_cylindrical_theta",
        "particle_position_cylindrical_z",
        "particle_position_relative_x",
        "particle_position_relative_y",
        "particle_position_relative_z",
        "particle_position_spherical_phi",
        "particle_position_spherical_radius",
        "particle_position_spherical_theta",
        "particle_position_x",
        "particle_position_y",
        "particle_position_z",
        "particle_radial_velocity",
        "particle_radius",
        "particle_specific_angular_momentum",
        "particle_specific_angular_momentum_x",
        "particle_specific_angular_momentum_y",
        "particle_specific_angular_momentum_z",
        "particle_spherical_position_phi",
        "particle_spherical_position_radius",
        "particle_spherical_position_theta",
        "particle_spherical_velocity_phi",
        "particle_spherical_velocity_radius",
        "particle_spherical_velocity_theta",
        "particle_type",
        "particle_velocity",
        "particle_velocity_cylindrical_radius",
        "particle_velocity_cylindrical_theta",
        "particle_velocity_cylindrical_z",
        "particle_velocity_magnitude",
        "particle_velocity_relative_x",
        "particle_velocity_relative_y",
        "particle_velocity_relative_z",
        "particle_velocity_spherical_phi",
        "particle_velocity_spherical_radius",
        "particle_velocity_spherical_theta",
        "particle_velocity_x",
        "particle_velocity_y",
        "particle_velocity_z",
        "relative_particle_position",
        "relative_particle_position_x",
        "relative_particle_position_y",
        "relative_particle_position_z",
        "relative_particle_velocity",
        "relative_particle_velocity_x",
        "relative_particle_velocity_y",
        "relative_particle_velocity_z"
       ],
       "index": 0,
       "layout": "IPY_MODEL_16072d33451748f0957f00e209c6419a",
       "style": "IPY_MODEL_65c1b9a735c741eb88e0aa9ab185744e"
      }
     },
     "acc8d933c42a4443930384018ff1ba7a": {
      "model_module": "@jupyter-widgets/output",
      "model_module_version": "1.0.0",
      "model_name": "OutputModel",
      "state": {
       "layout": "IPY_MODEL_2579c72fc6bc49d998cd5d7aa6eb9fa1",
       "outputs": [
        {
         "data": {
          "application/vnd.jupyter.widget-view+json": {
           "model_id": "2865e9f716ef4a5b83bef1a10dddce73",
           "version_major": 2,
           "version_minor": 0
          },
          "text/plain": "HBox(children=(Select(layout=Layout(height='95%'), options=('age', 'creation_time', 'dynamical_time', 'mesh_id…"
         },
         "metadata": {},
         "output_type": "display_data"
        }
       ]
      }
     },
     "acdc26e5f6ae4b779fe8295f0ee9deb8": {
      "model_module": "@jupyter-widgets/controls",
      "model_module_version": "1.5.0",
      "model_name": "DescriptionStyleModel",
      "state": {
       "description_width": ""
      }
     },
     "adadf6bc7c8a42dfa30aee2328934c75": {
      "model_module": "@jupyter-widgets/controls",
      "model_module_version": "1.5.0",
      "model_name": "DropdownModel",
      "state": {
       "_options_labels": [
        "AU",
        "Rearth",
        "Rjup",
        "Rsun",
        "cm",
        "code_length",
        "ft",
        "furlong",
        "inch",
        "l_geom",
        "l_pl",
        "ly",
        "m",
        "mil",
        "mile",
        "pc",
        "smoot",
        "unitary",
        "yd",
        "Å"
       ],
       "index": 5,
       "layout": "IPY_MODEL_3dcc4fd2d1884a31917417433a39de98",
       "style": "IPY_MODEL_adee5bc029d549508f0d02778f3ae793"
      }
     },
     "addfb491d3f5473fa41429f064bb40bc": {
      "model_module": "jupyter-threejs",
      "model_module_version": "^2.1.0",
      "model_name": "PerspectiveCameraModel",
      "state": {
       "_view_module": null,
       "_view_module_version": "",
       "children": [
        "IPY_MODEL_ccb0ae59420540bcb095924c6371317f"
       ],
       "focus": 3.4641016151377544,
       "fov": 20,
       "matrix": [
        0.7071067811865477,
        0,
        -0.7071067811865474,
        0,
        -0.40824829046386296,
        0.816496580927726,
        -0.408248290463863,
        0,
        0.5773502691896256,
        0.5773502691896257,
        0.5773502691896258,
        0,
        1.9999999999999996,
        2,
        2,
        1
       ],
       "matrixWorld": [
        0.7071067811865477,
        0,
        -0.7071067811865474,
        0,
        -0.40824829046386296,
        0.816496580927726,
        -0.408248290463863,
        0,
        0.5773502691896256,
        0.5773502691896257,
        0.5773502691896258,
        0,
        1.9999999999999996,
        2,
        2,
        1
       ],
       "matrixWorldInverse": [
        0.7071067811865477,
        -0.408248290463863,
        0.5773502691896257,
        0,
        5.551115123125784e-17,
        0.8164965809277263,
        0.5773502691896258,
        0,
        -0.7071067811865475,
        -0.4082482904638632,
        0.577350269189626,
        0,
        -2.2204460492503136e-16,
        -2.2204460492503136e-16,
        -3.4641016151377553,
        1
       ],
       "position": [
        1.9999999999999996,
        2,
        2
       ],
       "projectionMatrix": [
        5.67128181961771,
        0,
        0,
        0,
        0,
        5.67128181961771,
        0,
        0,
        0,
        0,
        -1.00010000500025,
        -1,
        0,
        0,
        -0.200010000500025,
        0
       ],
       "quaternion": [
        -0.27984814233312133,
        0.3647051996310008,
        0.11591689595929512,
        0.8804762392171493
       ],
       "rotation": [
        -0.7853981633974482,
        0.6154797086703871,
        0.5235987755982987,
        "XYZ"
       ]
      }
     },
     "adee5bc029d549508f0d02778f3ae793": {
      "model_module": "@jupyter-widgets/controls",
      "model_module_version": "1.5.0",
      "model_name": "DescriptionStyleModel",
      "state": {
       "description_width": ""
      }
     },
     "b03c7fe4c8384175ae41f2f43e23478e": {
      "model_module": "@jupyter-widgets/base",
      "model_module_version": "1.2.0",
      "model_name": "LayoutModel",
      "state": {}
     },
     "b04834210b8d42ccb819039b05af8058": {
      "model_module": "@jupyter-widgets/controls",
      "model_module_version": "1.5.0",
      "model_name": "LinkModel",
      "state": {
       "source": [
        "IPY_MODEL_5300008301d44f4a933bd99bbc797c3d",
        "value"
       ],
       "target": [
        "IPY_MODEL_2c5449605c994b6d83028fbcc2ebdb53",
        "color"
       ]
      }
     },
     "b0874331d9ac470b89421a95a06ec1f2": {
      "model_module": "@jupyter-widgets/controls",
      "model_module_version": "1.5.0",
      "model_name": "CheckboxModel",
      "state": {
       "description": "Level 2",
       "disabled": false,
       "layout": "IPY_MODEL_506c062d7f9f480f8ff3e25b879289ff",
       "style": "IPY_MODEL_39a6604d546c4629aa1a1122cc48ab40",
       "value": true
      }
     },
     "b0c1c59db28847b6b0864845441c49f0": {
      "model_module": "@jupyter-widgets/controls",
      "model_module_version": "1.5.0",
      "model_name": "DescriptionStyleModel",
      "state": {
       "description_width": ""
      }
     },
     "b1e3367197924e81bcf16649de0c40f1": {
      "model_module": "@jupyter-widgets/base",
      "model_module_version": "1.2.0",
      "model_name": "LayoutModel",
      "state": {}
     },
     "b1e56b09e3394b63990b93f3b2c13c4f": {
      "model_module": "@jupyter-widgets/controls",
      "model_module_version": "1.5.0",
      "model_name": "DescriptionStyleModel",
      "state": {
       "description_width": ""
      }
     },
     "b4a022e6c8ce44978239f1d141d5e8c1": {
      "model_module": "@jupyter-widgets/controls",
      "model_module_version": "1.5.0",
      "model_name": "DescriptionStyleModel",
      "state": {
       "description_width": ""
      }
     },
     "b5670de07025498c8bcd5a82718048aa": {
      "model_module": "@jupyter-widgets/controls",
      "model_module_version": "1.5.0",
      "model_name": "TabModel",
      "state": {
       "_titles": {
        "0": "Source",
        "1": "Variables"
       },
       "children": [
        "IPY_MODEL_0f702d1fa9354dc2a0700fd652f6839e",
        "IPY_MODEL_df1545166ed440d6b9cc6f6028c478b3"
       ],
       "layout": "IPY_MODEL_88c11434b3a2413696f364295eae25af"
      }
     },
     "b5f59e875eab4e32b886be6149c5c038": {
      "buffers": [
       {
        "data": "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",
        "encoding": "base64",
        "path": [
         "array",
         "buffer"
        ]
       }
      ],
      "model_module": "jupyter-threejs",
      "model_module_version": "^2.1.0",
      "model_name": "BufferAttributeModel",
      "state": {
       "_view_module": null,
       "_view_module_version": "",
       "array": {
        "buffer": {},
        "dtype": "uint32",
        "shape": [
         672
        ]
       },
       "version": 2
      }
     },
     "b620e90b037448c78209ce7954dd5026": {
      "model_module": "@jupyter-widgets/controls",
      "model_module_version": "1.5.0",
      "model_name": "LinkModel",
      "state": {
       "source": [
        "IPY_MODEL_02019e8022324aeb9c7dddfc3f2e4030",
        "value"
       ],
       "target": [
        "IPY_MODEL_3e3a11eaba2549799ab048d09bf4deb9",
        "linewidth"
       ]
      }
     },
     "b6e55a2009b84021b5a0f4d032f73b5a": {
      "model_module": "@jupyter-widgets/base",
      "model_module_version": "1.2.0",
      "model_name": "LayoutModel",
      "state": {}
     },
     "b70915af4f024de08bfbd1a0ca78073c": {
      "model_module": "@jupyter-widgets/output",
      "model_module_version": "1.0.0",
      "model_name": "OutputModel",
      "state": {
       "layout": "IPY_MODEL_dd4d07b02c4848689f31619b5129f5b3"
      }
     },
     "b71ecea6a1524c49907a3b0225b73fe5": {
      "model_module": "@jupyter-widgets/controls",
      "model_module_version": "1.5.0",
      "model_name": "TextModel",
      "state": {
       "disabled": true,
       "layout": "IPY_MODEL_2360e0248f0a4287a192cecd90f61ff9",
       "style": "IPY_MODEL_7b3827b9bedc46e6ad4e89fcc14347bf",
       "value": "0.0"
      }
     },
     "baa0615890ed4697a50e19f6db41b58f": {
      "model_module": "@jupyter-widgets/output",
      "model_module_version": "1.0.0",
      "model_name": "OutputModel",
      "state": {
       "layout": "IPY_MODEL_7e4f00def848423a9884ff44afdbe524",
       "outputs": [
        {
         "data": {
          "application/vnd.jupyter.widget-view+json": {
           "model_id": "39f30ec129d84164aa11e6929395cff9",
           "version_major": 2,
           "version_minor": 0
          },
          "text/plain": "Tab(children=(Output(), Output(), Output(), Output(), Output(), Output(), Output()), _titles={'0': 'all', '1':…"
         },
         "metadata": {},
         "output_type": "display_data"
        }
       ]
      }
     },
     "bb30c2e7b48a4168b19cf8fe5e98ca73": {
      "model_module": "@jupyter-widgets/base",
      "model_module_version": "1.2.0",
      "model_name": "LayoutModel",
      "state": {}
     },
     "bb386966bd674616b17ebc1d39f05c6e": {
      "model_module": "@jupyter-widgets/output",
      "model_module_version": "1.0.0",
      "model_name": "OutputModel",
      "state": {
       "layout": "IPY_MODEL_387df68be2e2427baf4a93510b4e916f",
       "outputs": [
        {
         "data": {
          "application/vnd.jupyter.widget-view+json": {
           "model_id": "5066eaca5e7a47d7b2276dc61deed7b4",
           "version_major": 2,
           "version_minor": 0
          },
          "text/plain": "HBox(children=(Select(layout=Layout(height='95%'), options=('cell_volume', 'cylindrical_r', 'cylindrical_radiu…"
         },
         "metadata": {},
         "output_type": "display_data"
        }
       ]
      }
     },
     "bbac149d46c74ce8a008429bf36f92ff": {
      "model_module": "@jupyter-widgets/controls",
      "model_module_version": "1.5.0",
      "model_name": "DescriptionStyleModel",
      "state": {
       "description_width": ""
      }
     },
     "bc6c3a43d77440b3bac234ac57cda0f1": {
      "model_module": "@jupyter-widgets/controls",
      "model_module_version": "1.5.0",
      "model_name": "DescriptionStyleModel",
      "state": {
       "description_width": ""
      }
     },
     "bebd6ff1e41e4693a0a939b3c71657a6": {
      "model_module": "@jupyter-widgets/controls",
      "model_module_version": "1.5.0",
      "model_name": "SliderStyleModel",
      "state": {
       "description_width": ""
      }
     },
     "bf3cc2a7eb4c432486b0f5aab127f819": {
      "model_module": "@jupyter-widgets/controls",
      "model_module_version": "1.5.0",
      "model_name": "TextModel",
      "state": {
       "disabled": true,
       "layout": "IPY_MODEL_489853bffbac4fddbb3a975d4e6a47d9",
       "style": "IPY_MODEL_412a5e9b29c74286947f0a19512faaa9",
       "value": "1.0"
      }
     },
     "bfe03a59073c4cfcbc823916d6b03f07": {
      "model_module": "@jupyter-widgets/controls",
      "model_module_version": "1.5.0",
      "model_name": "HBoxModel",
      "state": {
       "children": [
        "IPY_MODEL_96dba6c632e0448893632f3f806d72f7",
        "IPY_MODEL_de149253f97c45ca80a6cebf357e4237",
        "IPY_MODEL_84b19b8f8e73433888a8dd60f6411311",
        "IPY_MODEL_2d56fcd3cc2b42ca9d976914d4da8877"
       ],
       "layout": "IPY_MODEL_ac522424a0e347349ad82ba4084a23be"
      }
     },
     "c143abd2903149bdac77755ac4c7a81d": {
      "model_module": "@jupyter-widgets/base",
      "model_module_version": "1.2.0",
      "model_name": "LayoutModel",
      "state": {}
     },
     "c2400e34c82340afa8eaf47fc6fc0ae4": {
      "model_module": "@jupyter-widgets/base",
      "model_module_version": "1.2.0",
      "model_name": "LayoutModel",
      "state": {
       "height": "95%"
      }
     },
     "c27638139f7c489896db5253317fb0f9": {
      "model_module": "@jupyter-widgets/controls",
      "model_module_version": "1.5.0",
      "model_name": "LinkModel",
      "state": {
       "source": [
        "IPY_MODEL_3b1e9895751745c8be3f41015d3527ba",
        "value"
       ],
       "target": [
        "IPY_MODEL_72d0cccd4cae45c49a94adefb37439e5",
        "visible"
       ]
      }
     },
     "c2f43ad4271d40c883ca377b5ae5a7bc": {
      "model_module": "@jupyter-widgets/controls",
      "model_module_version": "1.5.0",
      "model_name": "HBoxModel",
      "state": {
       "children": [
        "IPY_MODEL_e523ac56f3b34b22912aeb641c4fa505",
        "IPY_MODEL_d944f4877ac244ecbed31eece0902270",
        "IPY_MODEL_b71ecea6a1524c49907a3b0225b73fe5",
        "IPY_MODEL_a8203b97f40042e0a2ba63dc0d986d9a"
       ],
       "layout": "IPY_MODEL_032ee0f6cb2947f0aa766913610c47da"
      }
     },
     "c359cbbdf9224533a4a4cd059e61181a": {
      "model_module": "@jupyter-widgets/controls",
      "model_module_version": "1.5.0",
      "model_name": "LinkModel",
      "state": {
       "source": [
        "IPY_MODEL_c3b7fd6944db4e58ac0ecf380d43603b",
        "value"
       ],
       "target": [
        "IPY_MODEL_79b2b7f83dd444e1b6fe466035de69ee",
        "color"
       ]
      }
     },
     "c3b7fd6944db4e58ac0ecf380d43603b": {
      "model_module": "@jupyter-widgets/controls",
      "model_module_version": "1.5.0",
      "model_name": "ColorPickerModel",
      "state": {
       "concise": true,
       "disabled": false,
       "layout": "IPY_MODEL_5a0bbd50f6df4e2c8e01ad875ca82ce0",
       "style": "IPY_MODEL_f5c3b63b51cf45c0b0af2c65e77baf4e",
       "value": "#3d0965"
      }
     },
     "c50502640a8548848c89d92a08e07175": {
      "buffers": [
       {
        "data": "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",
        "encoding": "base64",
        "path": [
         "value"
        ]
       }
      ],
      "model_module": "@jupyter-widgets/controls",
      "model_module_version": "1.5.0",
      "model_name": "ImageModel",
      "state": {
       "height": "400",
       "layout": "IPY_MODEL_cd0501bb30f949f4ac0a89ca8da8458e",
       "value": {},
       "width": "400"
      }
     },
     "c55a9a47f4d94acb9bb482b97fcfb573": {
      "model_module": "@jupyter-widgets/controls",
      "model_module_version": "1.5.0",
      "model_name": "HBoxModel",
      "state": {
       "children": [
        "IPY_MODEL_2cc5ab75726b490fb0669fe7f8c55848",
        "IPY_MODEL_cd4c0f69ec2d44cb90471e8e2097afbe"
       ],
       "layout": "IPY_MODEL_91bc685385cd42dc92f5af016b67d02c"
      }
     },
     "c58caca68d2b401bbca9ae4fa3046859": {
      "model_module": "@jupyter-widgets/controls",
      "model_module_version": "1.5.0",
      "model_name": "CheckboxModel",
      "state": {
       "description": "Level 4",
       "disabled": false,
       "layout": "IPY_MODEL_0fbee6afac2c475ab48ff352d223b32b",
       "style": "IPY_MODEL_bc6c3a43d77440b3bac234ac57cda0f1",
       "value": true
      }
     },
     "c66736bdb6774df3a1919f8e3e2be5c4": {
      "model_module": "@jupyter-widgets/controls",
      "model_module_version": "1.5.0",
      "model_name": "DescriptionStyleModel",
      "state": {
       "description_width": ""
      }
     },
     "c683cc56eeb244ca81de913b3b8a2655": {
      "model_module": "@jupyter-widgets/controls",
      "model_module_version": "1.5.0",
      "model_name": "GridBoxModel",
      "state": {
       "children": [
        "IPY_MODEL_3b1e9895751745c8be3f41015d3527ba",
        "IPY_MODEL_04feae015eff4f66ab9d441ebd10a907",
        "IPY_MODEL_ccb9694f3ffe4ede88923337b73333e7",
        "IPY_MODEL_1f0023b2d3a4415cbbfbe817d0bb0121",
        "IPY_MODEL_3cd1c24baee24ea58f08e45dccb7d342",
        "IPY_MODEL_26eb0948c53d4945a26379bdbd1c7b8f",
        "IPY_MODEL_b0874331d9ac470b89421a95a06ec1f2",
        "IPY_MODEL_385b221bbc81414bb49553b0fe3e4e5b",
        "IPY_MODEL_3707f192484746419c0bd83781133aaa",
        "IPY_MODEL_511a10efce9747d597c724743783a3c4",
        "IPY_MODEL_c3b7fd6944db4e58ac0ecf380d43603b",
        "IPY_MODEL_ff9665221d434d5bb5df502dd6e5cb4f",
        "IPY_MODEL_c58caca68d2b401bbca9ae4fa3046859",
        "IPY_MODEL_ce09dae0a2c449bba64216e1f8480939",
        "IPY_MODEL_78516b5aef124edb96f4ae948bfd9815",
        "IPY_MODEL_e1afd81b4e6a425bb5218e339cd2b8b6",
        "IPY_MODEL_4674d17c9ebb4560916ec28f4d8b566d",
        "IPY_MODEL_e2768d5cbc60450bb68076ce4040f790",
        "IPY_MODEL_87fb75425bd343c9b9a89f1bc49a33b1",
        "IPY_MODEL_7ba39eb6e3bd4593ae2dcf2434e940c8",
        "IPY_MODEL_02019e8022324aeb9c7dddfc3f2e4030",
        "IPY_MODEL_084b20a6b7fe484d947a30f44958bf0a",
        "IPY_MODEL_5300008301d44f4a933bd99bbc797c3d",
        "IPY_MODEL_74340973c3884e98a29e0ac1c5582330",
        "IPY_MODEL_9cf9ca0791984523907a14aea136c64b",
        "IPY_MODEL_0a49c37f78a44d569cc070dbbbd5f1a0",
        "IPY_MODEL_52b1765d1d4745a98584ca4aafe711e2"
       ],
       "layout": "IPY_MODEL_96c4d73f03ba40a48d3701b2bfab92ac"
      }
     },
     "c6a5b9b847484cb1b432f8245366198e": {
      "model_module": "jupyter-threejs",
      "model_module_version": "^2.1.0",
      "model_name": "SceneModel",
      "state": {
       "_view_module": null,
       "_view_module_version": "",
       "children": [
        "IPY_MODEL_addfb491d3f5473fa41429f064bb40bc",
        "IPY_MODEL_dbd0129a20d84a2daca9038676ae4b90",
        "IPY_MODEL_72d0cccd4cae45c49a94adefb37439e5",
        "IPY_MODEL_f9fdddefab7844b9a16233e464f43a23",
        "IPY_MODEL_9e740efb82ce4d3cb96f467f5827814f",
        "IPY_MODEL_dcce57df21a542b589ba75241648618b",
        "IPY_MODEL_fa1aa61792934520b0ecdecbfb40035d",
        "IPY_MODEL_ed8b4b1b4ca44414a9ee584eb3c0e5fa",
        "IPY_MODEL_204ca954a8854c50bfbf85824e61bc6d",
        "IPY_MODEL_92d2ac48329144b2b5ec1df5b7b4d0c3",
        "IPY_MODEL_e7419c97f5af4ac98b616a728e7d59a5"
       ]
      }
     },
     "c736055926864bdfb53b27a35b1d5566": {
      "buffers": [
       {
        "data": "AAAAPwAAAD8AAAA/AAAqPwAAAD8AAAA/AAAqPwAAKD8AAAA/AAAAPwAAKD8AAAA/AAAAPwAAAD8AAC4/AAAqPwAAAD8AAC4/AAAqPwAAKD8AAC4/AAAAPwAAKD8AAC4/AACsPgAAAD8AAAA/AAAAPwAAAD8AAAA/AAAAPwAALD8AAAA/AACsPgAALD8AAAA/AACsPgAAAD8AACo/AAAAPwAAAD8AACo/AAAAPwAALD8AACo/AACsPgAALD8AACo/AAAAPwAArD4AAAA/AAAsPwAArD4AAAA/AAAsPwAAAD8AAAA/AAAAPwAAAD8AAAA/AAAAPwAArD4AACo/AAAsPwAArD4AACo/AAAsPwAAAD8AACo/AAAAPwAAAD8AACo/AACsPgAArD4AAAA/AAAAPwAArD4AAAA/AAAAPwAAAD8AAAA/AACsPgAAAD8AAAA/AACsPgAArD4AACw/AAAAPwAArD4AACw/AAAAPwAAAD8AACw/AACsPgAAAD8AACw/AAAAPwAAAD8AAKw+AAAuPwAAAD8AAKw+AAAuPwAAMj8AAKw+AAAAPwAAMj8AAKw+AAAAPwAAAD8AAAA/AAAuPwAAAD8AAAA/AAAuPwAAMj8AAAA/AAAAPwAAMj8AAAA/AACsPgAAAD8AAKg+AAAAPwAAAD8AAKg+AAAAPwAAKD8AAKg+AACsPgAAKD8AAKg+AACsPgAAAD8AAAA/AAAAPwAAAD8AAAA/AAAAPwAAKD8AAAA/AACsPgAAKD8AAAA/AAAAPwAApD4AAKg+AAAqPwAApD4AAKg+AAAqPwAAAD8AAKg+AAAAPwAAAD8AAKg+AAAAPwAApD4AAAA/AAAqPwAApD4AAAA/AAAqPwAAAD8AAAA/AAAAPwAAAD8AAAA/AACoPgAArD4AAKg+AAAAPwAArD4AAKg+AAAAPwAAAD8AAKg+AACoPgAAAD8AAKg+AACoPgAArD4AAAA/AAAAPwAArD4AAAA/AAAAPwAAAD8AAAA/AACoPgAAAD8AAAA/",
        "encoding": "base64",
        "path": [
         "array",
         "buffer"
        ]
       }
      ],
      "model_module": "jupyter-threejs",
      "model_module_version": "^2.1.0",
      "model_name": "BufferAttributeModel",
      "state": {
       "_view_module": null,
       "_view_module_version": "",
       "array": {
        "buffer": {},
        "dtype": "float32",
        "shape": [
         64,
         3
        ]
       },
       "version": 2
      }
     },
     "c7ad54ea816c487d83fc69432c310ae3": {
      "model_module": "@jupyter-widgets/base",
      "model_module_version": "1.2.0",
      "model_name": "LayoutModel",
      "state": {
       "height": "100%",
       "overflow_y": "scroll",
       "width": "100%"
      }
     },
     "c9528df8038b424ca704e1221c9d394a": {
      "model_module": "@jupyter-widgets/controls",
      "model_module_version": "1.5.0",
      "model_name": "DescriptionStyleModel",
      "state": {
       "description_width": ""
      }
     },
     "c987ef2f4b884dda9bc0f551bc387e72": {
      "model_module": "@jupyter-widgets/controls",
      "model_module_version": "1.5.0",
      "model_name": "DescriptionStyleModel",
      "state": {
       "description_width": ""
      }
     },
     "ca861e3694fe45a9a74d3dd5026a6104": {
      "model_module": "@jupyter-widgets/controls",
      "model_module_version": "1.5.0",
      "model_name": "DescriptionStyleModel",
      "state": {
       "description_width": ""
      }
     },
     "cbdd2cabc08a4eea8a9ff942e36712f8": {
      "model_module": "@jupyter-widgets/base",
      "model_module_version": "1.2.0",
      "model_name": "LayoutModel",
      "state": {
       "flex": "2 1 auto",
       "height": "95%",
       "width": "auto"
      }
     },
     "cc0f3e5d9b054de08c66b6d3214ccd52": {
      "model_module": "@jupyter-widgets/controls",
      "model_module_version": "1.5.0",
      "model_name": "HBoxModel",
      "state": {
       "children": [
        "IPY_MODEL_63900e0f273f4b9c948ede5648b3a869",
        "IPY_MODEL_3db324eb11094ec89d9e8e7fba5dd42d"
       ],
       "layout": "IPY_MODEL_5ce06a212c584719853dd088f84e1a12"
      }
     },
     "ccb0ae59420540bcb095924c6371317f": {
      "model_module": "jupyter-threejs",
      "model_module_version": "^2.1.0",
      "model_name": "AmbientLightModel",
      "state": {
       "_view_module": null,
       "_view_module_version": ""
      }
     },
     "ccb4d21e4de9408b8fe776f17863e1d5": {
      "model_module": "@jupyter-widgets/controls",
      "model_module_version": "1.5.0",
      "model_name": "LinkModel",
      "state": {
       "source": [
        "IPY_MODEL_4674d17c9ebb4560916ec28f4d8b566d",
        "value"
       ],
       "target": [
        "IPY_MODEL_d0c82c86f2f84329b1955983e7f96eeb",
        "color"
       ]
      }
     },
     "ccb9694f3ffe4ede88923337b73333e7": {
      "model_module": "@jupyter-widgets/controls",
      "model_module_version": "1.5.0",
      "model_name": "FloatSliderModel",
      "state": {
       "layout": "IPY_MODEL_6a8ec9c4fc7348cdb39d997d066e30a7",
       "max": 10,
       "step": 0.1,
       "style": "IPY_MODEL_da7dc8617fdd4b37af1f2c6772dffbfb",
       "value": 1
      }
     },
     "ccf7883a724f49babc96eac06cf08bb7": {
      "model_module": "@jupyter-widgets/base",
      "model_module_version": "1.2.0",
      "model_name": "LayoutModel",
      "state": {
       "flex": "2 1 auto",
       "height": "95%",
       "width": "auto"
      }
     },
     "cd0501bb30f949f4ac0a89ca8da8458e": {
      "model_module": "@jupyter-widgets/base",
      "model_module_version": "1.2.0",
      "model_name": "LayoutModel",
      "state": {}
     },
     "cd1e09606b4249639a4fad1223e14c3e": {
      "model_module": "@jupyter-widgets/base",
      "model_module_version": "1.2.0",
      "model_name": "LayoutModel",
      "state": {}
     },
     "cd4c0f69ec2d44cb90471e8e2097afbe": {
      "model_module": "@jupyter-widgets/controls",
      "model_module_version": "1.5.0",
      "model_name": "TabModel",
      "state": {
       "_titles": {
        "0": "Source",
        "1": "Variables"
       },
       "children": [
        "IPY_MODEL_88c7369ec2cf4a1dad31a722813ce65a",
        "IPY_MODEL_31a189bcac9f4972be0225e2ff7da893"
       ],
       "layout": "IPY_MODEL_687c6f88b76345b6a88031ff297345cb"
      }
     },
     "ce09dae0a2c449bba64216e1f8480939": {
      "model_module": "@jupyter-widgets/controls",
      "model_module_version": "1.5.0",
      "model_name": "ColorPickerModel",
      "state": {
       "concise": true,
       "disabled": false,
       "layout": "IPY_MODEL_e323873f8c0143ba84fb6aac2ee2824a",
       "style": "IPY_MODEL_c987ef2f4b884dda9bc0f551bc387e72",
       "value": "#57106e"
      }
     },
     "ce4b88b622c34590997d5b4e938cd5c5": {
      "model_module": "@jupyter-widgets/controls",
      "model_module_version": "1.5.0",
      "model_name": "HTMLModel",
      "state": {
       "layout": "IPY_MODEL_4fd460dd65774af3ba53193c275026f6",
       "style": "IPY_MODEL_b4a022e6c8ce44978239f1d141d5e8c1",
       "value": "Empty"
      }
     },
     "cf973d8aa83f4c5396d11439c60a7862": {
      "model_module": "@jupyter-widgets/controls",
      "model_module_version": "1.5.0",
      "model_name": "LabelModel",
      "state": {
       "layout": "IPY_MODEL_f4cb723737f941cc9a230d01903d8d8b",
       "style": "IPY_MODEL_d278378d83744c76af178bbe3d4c4dcb",
       "value": "Domain Width"
      }
     },
     "cfe68cc8fac44723847ae0c065a4b0f0": {
      "model_module": "@jupyter-widgets/base",
      "model_module_version": "1.2.0",
      "model_name": "LayoutModel",
      "state": {}
     },
     "d0047d42e07a4580809be3ee25539342": {
      "model_module": "@jupyter-widgets/controls",
      "model_module_version": "1.5.0",
      "model_name": "LinkModel",
      "state": {
       "source": [
        "IPY_MODEL_e1afd81b4e6a425bb5218e339cd2b8b6",
        "value"
       ],
       "target": [
        "IPY_MODEL_ed8b4b1b4ca44414a9ee584eb3c0e5fa",
        "visible"
       ]
      }
     },
     "d0c46f564d224b8cb84dbbff9160b709": {
      "model_module": "@jupyter-widgets/base",
      "model_module_version": "1.2.0",
      "model_name": "LayoutModel",
      "state": {
       "height": "100%",
       "overflow_y": "scroll",
       "width": "100%"
      }
     },
     "d0c82c86f2f84329b1955983e7f96eeb": {
      "model_module": "jupyter-threejs",
      "model_module_version": "^2.1.0",
      "model_name": "LineBasicMaterialModel",
      "state": {
       "_view_module": null,
       "_view_module_version": "",
       "color": "#71196e"
      }
     },
     "d1d1145685aa4668ae09555b93d0050a": {
      "model_module": "@jupyter-widgets/base",
      "model_module_version": "1.2.0",
      "model_name": "LayoutModel",
      "state": {}
     },
     "d2235fc9ba8f4c94ad4fd0674ce7847d": {
      "model_module": "jupyter-threejs",
      "model_module_version": "^2.1.0",
      "model_name": "BufferGeometryModel",
      "state": {
       "_view_module": null,
       "_view_module_version": "",
       "attributes": {
        "index": "IPY_MODEL_6dbbfae20e21453db3a525a4b44699a2",
        "position": "IPY_MODEL_c736055926864bdfb53b27a35b1d5566"
       }
      }
     },
     "d2357cc48770427fa565748db03b3f5c": {
      "model_module": "jupyter-threejs",
      "model_module_version": "^2.1.0",
      "model_name": "BufferGeometryModel",
      "state": {
       "_view_module": null,
       "_view_module_version": "",
       "attributes": {
        "index": "IPY_MODEL_ff912e4281394957b86846b17e5e2d97",
        "position": "IPY_MODEL_68e09c6e089d4858aa113a0a21a70839"
       }
      }
     },
     "d27184645feb4002b6439c926b081f2b": {
      "model_module": "@jupyter-widgets/controls",
      "model_module_version": "1.5.0",
      "model_name": "HBoxModel",
      "state": {
       "children": [
        "IPY_MODEL_226c7f2779a04eea8cd1316269c75fc1",
        "IPY_MODEL_7c1c73608c4d4d24821a3e6bf1572e7d"
       ],
       "layout": "IPY_MODEL_e336e897a95248b1adc345bf2f9c6e50"
      }
     },
     "d278378d83744c76af178bbe3d4c4dcb": {
      "model_module": "@jupyter-widgets/controls",
      "model_module_version": "1.5.0",
      "model_name": "DescriptionStyleModel",
      "state": {
       "description_width": ""
      }
     },
     "d340fef991dc4c729dfcf836937f5bb8": {
      "model_module": "@jupyter-widgets/controls",
      "model_module_version": "1.5.0",
      "model_name": "DescriptionStyleModel",
      "state": {
       "description_width": ""
      }
     },
     "d3d51890719d46a79045bc4557870e00": {
      "model_module": "@jupyter-widgets/controls",
      "model_module_version": "1.5.0",
      "model_name": "LinkModel",
      "state": {
       "source": [
        "IPY_MODEL_26eb0948c53d4945a26379bdbd1c7b8f",
        "value"
       ],
       "target": [
        "IPY_MODEL_68f31536fbe84e63bb2567113a058c03",
        "linewidth"
       ]
      }
     },
     "d4dc7e0946f74c98b243a7689df2a3cc": {
      "model_module": "@jupyter-widgets/controls",
      "model_module_version": "1.5.0",
      "model_name": "BoxModel",
      "state": {
       "children": [
        "IPY_MODEL_4c17c36a257446199f40b181eb6f9aa8"
       ],
       "layout": "IPY_MODEL_3c61a385ca7642eaa9229da60da74ea7"
      }
     },
     "d5cbd768c1334dd9b775d21d79c6318c": {
      "model_module": "@jupyter-widgets/base",
      "model_module_version": "1.2.0",
      "model_name": "LayoutModel",
      "state": {
       "height": "14em"
      }
     },
     "d6a7fe10cd884457af251699c917f161": {
      "model_module": "@jupyter-widgets/base",
      "model_module_version": "1.2.0",
      "model_name": "LayoutModel",
      "state": {}
     },
     "d747d56c16f3465ab1fe3963490ea4d3": {
      "model_module": "@jupyter-widgets/base",
      "model_module_version": "1.2.0",
      "model_name": "LayoutModel",
      "state": {}
     },
     "d7a60971a5994a5b971a37a6424d730d": {
      "model_module": "@jupyter-widgets/controls",
      "model_module_version": "1.5.0",
      "model_name": "SliderStyleModel",
      "state": {
       "description_width": ""
      }
     },
     "d7be527242944583878fdc70b1372b64": {
      "buffers": [
       {
        "data": "AAAAAAEAAAABAAAAAgAAAAIAAAADAAAAAwAAAAAAAAAEAAAABQAAAAUAAAAGAAAABgAAAAcAAAAHAAAABAAAAAAAAAAEAAAAAQAAAAUAAAACAAAABgAAAAMAAAAHAAAACAAAAAkAAAAJAAAACgAAAAoAAAALAAAACwAAAAgAAAAMAAAADQAAAA0AAAAOAAAADgAAAA8AAAAPAAAADAAAAAgAAAAMAAAACQAAAA0AAAAKAAAADgAAAAsAAAAPAAAAEAAAABEAAAARAAAAEgAAABIAAAATAAAAEwAAABAAAAAUAAAAFQAAABUAAAAWAAAAFgAAABcAAAAXAAAAFAAAABAAAAAUAAAAEQAAABUAAAASAAAAFgAAABMAAAAXAAAAGAAAABkAAAAZAAAAGgAAABoAAAAbAAAAGwAAABgAAAAcAAAAHQAAAB0AAAAeAAAAHgAAAB8AAAAfAAAAHAAAABgAAAAcAAAAGQAAAB0AAAAaAAAAHgAAABsAAAAfAAAAIAAAACEAAAAhAAAAIgAAACIAAAAjAAAAIwAAACAAAAAkAAAAJQAAACUAAAAmAAAAJgAAACcAAAAnAAAAJAAAACAAAAAkAAAAIQAAACUAAAAiAAAAJgAAACMAAAAnAAAAKAAAACkAAAApAAAAKgAAACoAAAArAAAAKwAAACgAAAAsAAAALQAAAC0AAAAuAAAALgAAAC8AAAAvAAAALAAAACgAAAAsAAAAKQAAAC0AAAAqAAAALgAAACsAAAAvAAAAMAAAADEAAAAxAAAAMgAAADIAAAAzAAAAMwAAADAAAAA0AAAANQAAADUAAAA2AAAANgAAADcAAAA3AAAANAAAADAAAAA0AAAAMQAAADUAAAAyAAAANgAAADMAAAA3AAAAOAAAADkAAAA5AAAAOgAAADoAAAA7AAAAOwAAADgAAAA8AAAAPQAAAD0AAAA+AAAAPgAAAD8AAAA/AAAAPAAAADgAAAA8AAAAOQAAAD0AAAA6AAAAPgAAADsAAAA/AAAA",
        "encoding": "base64",
        "path": [
         "array",
         "buffer"
        ]
       }
      ],
      "model_module": "jupyter-threejs",
      "model_module_version": "^2.1.0",
      "model_name": "BufferAttributeModel",
      "state": {
       "_view_module": null,
       "_view_module_version": "",
       "array": {
        "buffer": {},
        "dtype": "uint32",
        "shape": [
         192
        ]
       },
       "version": 2
      }
     },
     "d930112802f04ebeb221228b2d312da8": {
      "buffers": [
       {
        "data": "AAAAAAEAAAABAAAAAgAAAAIAAAADAAAAAwAAAAAAAAAEAAAABQAAAAUAAAAGAAAABgAAAAcAAAAHAAAABAAAAAAAAAAEAAAAAQAAAAUAAAACAAAABgAAAAMAAAAHAAAA",
        "encoding": "base64",
        "path": [
         "array",
         "buffer"
        ]
       }
      ],
      "model_module": "jupyter-threejs",
      "model_module_version": "^2.1.0",
      "model_name": "BufferAttributeModel",
      "state": {
       "_view_module": null,
       "_view_module_version": "",
       "array": {
        "buffer": {},
        "dtype": "uint32",
        "shape": [
         24
        ]
       },
       "version": 2
      }
     },
     "d944f4877ac244ecbed31eece0902270": {
      "model_module": "@jupyter-widgets/controls",
      "model_module_version": "1.5.0",
      "model_name": "TextModel",
      "state": {
       "disabled": true,
       "layout": "IPY_MODEL_e133a230f58f4fc693d82052bfc84cc7",
       "style": "IPY_MODEL_02be9a8162c74f1aba1190d0a8291ea0",
       "value": "0.0"
      }
     },
     "da58c8bd55504cdc8b59627e11e2afec": {
      "model_module": "@jupyter-widgets/base",
      "model_module_version": "1.2.0",
      "model_name": "LayoutModel",
      "state": {}
     },
     "da603a428a3c4473a9f21ce91a38cff1": {
      "model_module": "@jupyter-widgets/controls",
      "model_module_version": "1.5.0",
      "model_name": "LabelModel",
      "state": {
       "layout": "IPY_MODEL_ff3f27b8d36344d59392772947c7b299",
       "style": "IPY_MODEL_1f32a7c1deed4350ada068f88b06c266",
       "value": "Domain Left Edge"
      }
     },
     "da7dc8617fdd4b37af1f2c6772dffbfb": {
      "model_module": "@jupyter-widgets/controls",
      "model_module_version": "1.5.0",
      "model_name": "SliderStyleModel",
      "state": {
       "description_width": ""
      }
     },
     "da913d006c8a49c9a0413aac11359a0f": {
      "model_module": "jupyter-threejs",
      "model_module_version": "^2.1.0",
      "model_name": "LineBasicMaterialModel",
      "state": {
       "_view_module": null,
       "_view_module_version": "",
       "color": "#210c4a"
      }
     },
     "dbd0129a20d84a2daca9038676ae4b90": {
      "model_module": "jupyter-threejs",
      "model_module_version": "^2.1.0",
      "model_name": "AmbientLightModel",
      "state": {
       "_view_module": null,
       "_view_module_version": "",
       "color": "#dddddd"
      }
     },
     "dcadba0d074c4696abc5bc995121ec91": {
      "model_module": "@jupyter-widgets/base",
      "model_module_version": "1.2.0",
      "model_name": "LayoutModel",
      "state": {}
     },
     "dcce57df21a542b589ba75241648618b": {
      "model_module": "jupyter-threejs",
      "model_module_version": "^2.1.0",
      "model_name": "LineSegmentsModel",
      "state": {
       "_view_module": null,
       "_view_module_version": "",
       "geometry": "IPY_MODEL_d2235fc9ba8f4c94ad4fd0674ce7847d",
       "material": "IPY_MODEL_79b2b7f83dd444e1b6fe466035de69ee"
      }
     },
     "dd4d07b02c4848689f31619b5129f5b3": {
      "model_module": "@jupyter-widgets/base",
      "model_module_version": "1.2.0",
      "model_name": "LayoutModel",
      "state": {
       "height": "9em",
       "width": "100%"
      }
     },
     "dd801343551a4266a83dcbbd3e5279ba": {
      "model_module": "@jupyter-widgets/base",
      "model_module_version": "1.2.0",
      "model_name": "LayoutModel",
      "state": {}
     },
     "dd98de69a2094242a69c36be87859a99": {
      "model_module": "@jupyter-widgets/base",
      "model_module_version": "1.2.0",
      "model_name": "LayoutModel",
      "state": {}
     },
     "de149253f97c45ca80a6cebf357e4237": {
      "model_module": "@jupyter-widgets/controls",
      "model_module_version": "1.5.0",
      "model_name": "TextModel",
      "state": {
       "disabled": true,
       "layout": "IPY_MODEL_45b461c8a2f041e4b48a935a0e4e7fe4",
       "style": "IPY_MODEL_c66736bdb6774df3a1919f8e3e2be5c4",
       "value": "1.0"
      }
     },
     "df1545166ed440d6b9cc6f6028c478b3": {
      "model_module": "@jupyter-widgets/controls",
      "model_module_version": "1.5.0",
      "model_name": "BoxModel",
      "state": {
       "children": [
        "IPY_MODEL_8edeaa063f864a1bb5e74fb601d50fd1"
       ],
       "layout": "IPY_MODEL_1fc55647dc9640a4bd2173e04426af43"
      }
     },
     "dff0fad7774b45a081a043f096294d7e": {
      "model_module": "@jupyter-widgets/controls",
      "model_module_version": "1.5.0",
      "model_name": "LinkModel",
      "state": {
       "source": [
        "IPY_MODEL_7ba39eb6e3bd4593ae2dcf2434e940c8",
        "value"
       ],
       "target": [
        "IPY_MODEL_3e3a11eaba2549799ab048d09bf4deb9",
        "color"
       ]
      }
     },
     "e0b32b2eaa2f433ab0ac34957215a88b": {
      "model_module": "@jupyter-widgets/controls",
      "model_module_version": "1.5.0",
      "model_name": "HBoxModel",
      "state": {
       "children": [
        "IPY_MODEL_421020f7878a4001934c936e896f35fb",
        "IPY_MODEL_c683cc56eeb244ca81de913b3b8a2655"
       ],
       "layout": "IPY_MODEL_bb30c2e7b48a4168b19cf8fe5e98ca73"
      }
     },
     "e133a230f58f4fc693d82052bfc84cc7": {
      "model_module": "@jupyter-widgets/base",
      "model_module_version": "1.2.0",
      "model_name": "LayoutModel",
      "state": {}
     },
     "e14874c06cea405199ec764edde992f4": {
      "model_module": "@jupyter-widgets/controls",
      "model_module_version": "1.5.0",
      "model_name": "SelectModel",
      "state": {
       "_options_labels": [
        "age",
        "creation_time",
        "dynamical_time",
        "mesh_id",
        "metallicity_fraction",
        "particle_angular_momentum",
        "particle_angular_momentum_magnitude",
        "particle_angular_momentum_x",
        "particle_angular_momentum_y",
        "particle_angular_momentum_z",
        "particle_cylindrical_velocity_theta",
        "particle_cylindrical_velocity_z",
        "particle_index",
        "particle_mass",
        "particle_ones",
        "particle_position",
        "particle_position_cylindrical_radius",
        "particle_position_cylindrical_theta",
        "particle_position_cylindrical_z",
        "particle_position_relative_x",
        "particle_position_relative_y",
        "particle_position_relative_z",
        "particle_position_spherical_phi",
        "particle_position_spherical_radius",
        "particle_position_spherical_theta",
        "particle_position_x",
        "particle_position_y",
        "particle_position_z",
        "particle_radial_velocity",
        "particle_radius",
        "particle_specific_angular_momentum",
        "particle_specific_angular_momentum_x",
        "particle_specific_angular_momentum_y",
        "particle_specific_angular_momentum_z",
        "particle_spherical_position_phi",
        "particle_spherical_position_radius",
        "particle_spherical_position_theta",
        "particle_spherical_velocity_phi",
        "particle_spherical_velocity_radius",
        "particle_spherical_velocity_theta",
        "particle_type",
        "particle_velocity",
        "particle_velocity_cylindrical_radius",
        "particle_velocity_cylindrical_theta",
        "particle_velocity_cylindrical_z",
        "particle_velocity_magnitude",
        "particle_velocity_relative_x",
        "particle_velocity_relative_y",
        "particle_velocity_relative_z",
        "particle_velocity_spherical_phi",
        "particle_velocity_spherical_radius",
        "particle_velocity_spherical_theta",
        "particle_velocity_x",
        "particle_velocity_y",
        "particle_velocity_z",
        "relative_particle_position",
        "relative_particle_position_x",
        "relative_particle_position_y",
        "relative_particle_position_z",
        "relative_particle_velocity",
        "relative_particle_velocity_x",
        "relative_particle_velocity_y",
        "relative_particle_velocity_z"
       ],
       "index": 0,
       "layout": "IPY_MODEL_c2400e34c82340afa8eaf47fc6fc0ae4",
       "style": "IPY_MODEL_0a9af5c9973f49079ab7ad6b20a8e319"
      }
     },
     "e1afd81b4e6a425bb5218e339cd2b8b6": {
      "model_module": "@jupyter-widgets/controls",
      "model_module_version": "1.5.0",
      "model_name": "CheckboxModel",
      "state": {
       "description": "Level 5",
       "disabled": false,
       "layout": "IPY_MODEL_0cf33a5769a44faaa562d3b3703eeceb",
       "style": "IPY_MODEL_0af682c873504a4cb04fa469f56b482d",
       "value": true
      }
     },
     "e20e31ab5fe84a23a2c83a01935c5772": {
      "model_module": "@jupyter-widgets/controls",
      "model_module_version": "1.5.0",
      "model_name": "DescriptionStyleModel",
      "state": {
       "description_width": ""
      }
     },
     "e2768d5cbc60450bb68076ce4040f790": {
      "model_module": "@jupyter-widgets/controls",
      "model_module_version": "1.5.0",
      "model_name": "FloatSliderModel",
      "state": {
       "layout": "IPY_MODEL_7106ef00f618415a9c44480a928bbb2a",
       "max": 10,
       "step": 0.1,
       "style": "IPY_MODEL_60fccebfd41446b0b983d2f2da154b88",
       "value": 1
      }
     },
     "e2b7faf82cb04b17b5c83e1225a47f72": {
      "model_module": "@jupyter-widgets/controls",
      "model_module_version": "1.5.0",
      "model_name": "HTMLModel",
      "state": {
       "layout": "IPY_MODEL_1a69f70bdd1f4f9b93287542f531ea69",
       "style": "IPY_MODEL_06ee27816abb4aeaa6b4351f2e0e508c",
       "value": "Empty"
      }
     },
     "e323873f8c0143ba84fb6aac2ee2824a": {
      "model_module": "@jupyter-widgets/base",
      "model_module_version": "1.2.0",
      "model_name": "LayoutModel",
      "state": {}
     },
     "e336e897a95248b1adc345bf2f9c6e50": {
      "model_module": "@jupyter-widgets/base",
      "model_module_version": "1.2.0",
      "model_name": "LayoutModel",
      "state": {
       "height": "14em"
      }
     },
     "e43fa913d3a942f3b75c97e2c3a62636": {
      "model_module": "@jupyter-widgets/controls",
      "model_module_version": "1.5.0",
      "model_name": "DescriptionStyleModel",
      "state": {
       "description_width": ""
      }
     },
     "e4dec9c760cb427a8515cdfe3b6b13c2": {
      "model_module": "@jupyter-widgets/controls",
      "model_module_version": "1.5.0",
      "model_name": "LinkModel",
      "state": {
       "source": [
        "IPY_MODEL_9cf9ca0791984523907a14aea136c64b",
        "value"
       ],
       "target": [
        "IPY_MODEL_e7419c97f5af4ac98b616a728e7d59a5",
        "visible"
       ]
      }
     },
     "e523ac56f3b34b22912aeb641c4fa505": {
      "model_module": "@jupyter-widgets/controls",
      "model_module_version": "1.5.0",
      "model_name": "TextModel",
      "state": {
       "disabled": true,
       "layout": "IPY_MODEL_cd1e09606b4249639a4fad1223e14c3e",
       "style": "IPY_MODEL_b0c1c59db28847b6b0864845441c49f0",
       "value": "0.0"
      }
     },
     "e548a06bb1a2482b99fc2ab52f6c728d": {
      "model_module": "@jupyter-widgets/base",
      "model_module_version": "1.2.0",
      "model_name": "LayoutModel",
      "state": {
       "flex": "2 1 auto",
       "height": "95%",
       "width": "auto"
      }
     },
     "e5cadad8060c4d5c8712206362c21dd4": {
      "model_module": "@jupyter-widgets/base",
      "model_module_version": "1.2.0",
      "model_name": "LayoutModel",
      "state": {
       "height": "95%"
      }
     },
     "e637a8a2aa8d4af89f632f9e5380f8bc": {
      "model_module": "@jupyter-widgets/controls",
      "model_module_version": "1.5.0",
      "model_name": "DescriptionStyleModel",
      "state": {
       "description_width": ""
      }
     },
     "e63cead8724640fcaa3dfad4388e3bc7": {
      "model_module": "@jupyter-widgets/controls",
      "model_module_version": "1.5.0",
      "model_name": "LinkModel",
      "state": {
       "source": [
        "IPY_MODEL_e2768d5cbc60450bb68076ce4040f790",
        "value"
       ],
       "target": [
        "IPY_MODEL_d0c82c86f2f84329b1955983e7f96eeb",
        "linewidth"
       ]
      }
     },
     "e6ffef1b84fb47a79693595c2337684d": {
      "model_module": "@jupyter-widgets/base",
      "model_module_version": "1.2.0",
      "model_name": "LayoutModel",
      "state": {}
     },
     "e7419c97f5af4ac98b616a728e7d59a5": {
      "model_module": "jupyter-threejs",
      "model_module_version": "^2.1.0",
      "model_name": "LineSegmentsModel",
      "state": {
       "_view_module": null,
       "_view_module_version": "",
       "geometry": "IPY_MODEL_01fe6f9c1c8543caa3bc70d4968804dd",
       "material": "IPY_MODEL_95a2da8175bc418da1d1c55f8c31b635"
      }
     },
     "eaa6c1078ae44fdcb0df43012554580d": {
      "model_module": "jupyter-threejs",
      "model_module_version": "^2.1.0",
      "model_name": "BufferGeometryModel",
      "state": {
       "_view_module": null,
       "_view_module_version": "",
       "attributes": {
        "index": "IPY_MODEL_b5f59e875eab4e32b886be6149c5c038",
        "position": "IPY_MODEL_8e13c57c164147b0a4bb06ba8935fcb5"
       }
      }
     },
     "eb8ec71fc3e5406bb3df65029a569e9c": {
      "model_module": "@jupyter-widgets/base",
      "model_module_version": "1.2.0",
      "model_name": "LayoutModel",
      "state": {}
     },
     "eb9e0905729a483fbe775f3f67a683a2": {
      "model_module": "@jupyter-widgets/base",
      "model_module_version": "1.2.0",
      "model_name": "LayoutModel",
      "state": {
       "flex": "2 1 auto",
       "height": "95%",
       "width": "auto"
      }
     },
     "eccc5d196188427dac2ed39c4baf42e6": {
      "model_module": "@jupyter-widgets/base",
      "model_module_version": "1.2.0",
      "model_name": "LayoutModel",
      "state": {
       "height": "95%"
      }
     },
     "ecf2682cc85d4d97a9e659e73b080a02": {
      "model_module": "@jupyter-widgets/base",
      "model_module_version": "1.2.0",
      "model_name": "LayoutModel",
      "state": {
       "height": "95%"
      }
     },
     "ed17d8dea8d34a17bed6c3c4b94fd758": {
      "model_module": "@jupyter-widgets/base",
      "model_module_version": "1.2.0",
      "model_name": "LayoutModel",
      "state": {
       "height": "500px",
       "width": "700px"
      }
     },
     "ed8b4b1b4ca44414a9ee584eb3c0e5fa": {
      "model_module": "jupyter-threejs",
      "model_module_version": "^2.1.0",
      "model_name": "LineSegmentsModel",
      "state": {
       "_view_module": null,
       "_view_module_version": "",
       "geometry": "IPY_MODEL_d2357cc48770427fa565748db03b3f5c",
       "material": "IPY_MODEL_d0c82c86f2f84329b1955983e7f96eeb"
      }
     },
     "ee4cdc1b218d414c9f51ba63e6014279": {
      "model_module": "@jupyter-widgets/controls",
      "model_module_version": "1.5.0",
      "model_name": "HTMLModel",
      "state": {
       "layout": "IPY_MODEL_2a5503ca75874af0a5b95128576c09b2",
       "style": "IPY_MODEL_30dcd6e8d81f41de9cda7956975d8322",
       "value": "Empty"
      }
     },
     "f3f4f7c9fe6845ca868375d98f6a7f37": {
      "model_module": "@jupyter-widgets/base",
      "model_module_version": "1.2.0",
      "model_name": "LayoutModel",
      "state": {}
     },
     "f430f2a2e8af4c969e36b34297687883": {
      "model_module": "@jupyter-widgets/controls",
      "model_module_version": "1.5.0",
      "model_name": "DescriptionStyleModel",
      "state": {
       "description_width": ""
      }
     },
     "f4cb723737f941cc9a230d01903d8d8b": {
      "model_module": "@jupyter-widgets/base",
      "model_module_version": "1.2.0",
      "model_name": "LayoutModel",
      "state": {
       "width": "20%"
      }
     },
     "f554946b10394b1697b9574669ac0460": {
      "model_module": "@jupyter-widgets/controls",
      "model_module_version": "1.5.0",
      "model_name": "SelectModel",
      "state": {
       "_options_labels": [
        "cell_volume",
        "cylindrical_r",
        "cylindrical_radius",
        "cylindrical_theta",
        "cylindrical_z",
        "disk_angle",
        "dx",
        "dy",
        "dz",
        "grid_indices",
        "grid_level",
        "height",
        "morton_index",
        "ones",
        "ones_over_dx",
        "path_element_x",
        "path_element_y",
        "path_element_z",
        "radius",
        "spherical_phi",
        "spherical_r",
        "spherical_radius",
        "spherical_theta",
        "vertex_x",
        "vertex_y",
        "vertex_z",
        "virial_radius_fraction",
        "volume",
        "x",
        "y",
        "z",
        "zeros"
       ],
       "index": 0,
       "layout": "IPY_MODEL_e5cadad8060c4d5c8712206362c21dd4",
       "style": "IPY_MODEL_e43fa913d3a942f3b75c97e2c3a62636"
      }
     },
     "f5a31ceb3c184180a816e73dd4825dcd": {
      "model_module": "@jupyter-widgets/base",
      "model_module_version": "1.2.0",
      "model_name": "LayoutModel",
      "state": {}
     },
     "f5c3b63b51cf45c0b0af2c65e77baf4e": {
      "model_module": "@jupyter-widgets/controls",
      "model_module_version": "1.5.0",
      "model_name": "DescriptionStyleModel",
      "state": {
       "description_width": ""
      }
     },
     "f623df9a6be14ddb831803fc856a38e2": {
      "model_module": "@jupyter-widgets/base",
      "model_module_version": "1.2.0",
      "model_name": "LayoutModel",
      "state": {}
     },
     "f69b88ff39744dcf94302dec13df33e3": {
      "model_module": "@jupyter-widgets/controls",
      "model_module_version": "1.5.0",
      "model_name": "LinkModel",
      "state": {
       "source": [
        "IPY_MODEL_b0874331d9ac470b89421a95a06ec1f2",
        "value"
       ],
       "target": [
        "IPY_MODEL_9e740efb82ce4d3cb96f467f5827814f",
        "visible"
       ]
      }
     },
     "f71ed00eef1c4fd78e0c902cc0e30093": {
      "model_module": "@jupyter-widgets/controls",
      "model_module_version": "1.5.0",
      "model_name": "LinkModel",
      "state": {
       "source": [
        "IPY_MODEL_3cd1c24baee24ea58f08e45dccb7d342",
        "value"
       ],
       "target": [
        "IPY_MODEL_68f31536fbe84e63bb2567113a058c03",
        "color"
       ]
      }
     },
     "f806defddd1f41ca86020079bebbfba4": {
      "model_module": "jupyter-threejs",
      "model_module_version": "^2.1.0",
      "model_name": "LineBasicMaterialModel",
      "state": {
       "_view_module": null,
       "_view_module_version": "",
       "color": "#000004"
      }
     },
     "f9fdddefab7844b9a16233e464f43a23": {
      "model_module": "jupyter-threejs",
      "model_module_version": "^2.1.0",
      "model_name": "LineSegmentsModel",
      "state": {
       "_view_module": null,
       "_view_module_version": "",
       "geometry": "IPY_MODEL_6dd24089e87947ccba6d332526aa61ff",
       "material": "IPY_MODEL_68f31536fbe84e63bb2567113a058c03"
      }
     },
     "fa1aa61792934520b0ecdecbfb40035d": {
      "model_module": "jupyter-threejs",
      "model_module_version": "^2.1.0",
      "model_name": "LineSegmentsModel",
      "state": {
       "_view_module": null,
       "_view_module_version": "",
       "geometry": "IPY_MODEL_69e8e2d8f63f41eea767a93bcbd519a9",
       "material": "IPY_MODEL_436849ac6612416d8ab535e388fd4e94"
      }
     },
     "fa7a0ee21760400fa66dc4d19e0acb0e": {
      "model_module": "@jupyter-widgets/controls",
      "model_module_version": "1.5.0",
      "model_name": "DescriptionStyleModel",
      "state": {
       "description_width": ""
      }
     },
     "fb4189a24b8646128b13ce4928256ddd": {
      "model_module": "@jupyter-widgets/base",
      "model_module_version": "1.2.0",
      "model_name": "LayoutModel",
      "state": {}
     },
     "fc169b3a1b9248ab9a3784db7ad98507": {
      "model_module": "@jupyter-widgets/base",
      "model_module_version": "1.2.0",
      "model_name": "LayoutModel",
      "state": {}
     },
     "fd09f0012c8a4151bec03c2623c8292a": {
      "model_module": "@jupyter-widgets/base",
      "model_module_version": "1.2.0",
      "model_name": "LayoutModel",
      "state": {
       "height": "95%"
      }
     },
     "fd2f183d83d747c99fc6ce2d320ec6e5": {
      "buffers": [
       {
        "data": "AAAAAAEAAAABAAAAAgAAAAIAAAADAAAAAwAAAAAAAAAEAAAABQAAAAUAAAAGAAAABgAAAAcAAAAHAAAABAAAAAAAAAAEAAAAAQAAAAUAAAACAAAABgAAAAMAAAAHAAAACAAAAAkAAAAJAAAACgAAAAoAAAALAAAACwAAAAgAAAAMAAAADQAAAA0AAAAOAAAADgAAAA8AAAAPAAAADAAAAAgAAAAMAAAACQAAAA0AAAAKAAAADgAAAAsAAAAPAAAAEAAAABEAAAARAAAAEgAAABIAAAATAAAAEwAAABAAAAAUAAAAFQAAABUAAAAWAAAAFgAAABcAAAAXAAAAFAAAABAAAAAUAAAAEQAAABUAAAASAAAAFgAAABMAAAAXAAAAGAAAABkAAAAZAAAAGgAAABoAAAAbAAAAGwAAABgAAAAcAAAAHQAAAB0AAAAeAAAAHgAAAB8AAAAfAAAAHAAAABgAAAAcAAAAGQAAAB0AAAAaAAAAHgAAABsAAAAfAAAAIAAAACEAAAAhAAAAIgAAACIAAAAjAAAAIwAAACAAAAAkAAAAJQAAACUAAAAmAAAAJgAAACcAAAAnAAAAJAAAACAAAAAkAAAAIQAAACUAAAAiAAAAJgAAACMAAAAnAAAAKAAAACkAAAApAAAAKgAAACoAAAArAAAAKwAAACgAAAAsAAAALQAAAC0AAAAuAAAALgAAAC8AAAAvAAAALAAAACgAAAAsAAAAKQAAAC0AAAAqAAAALgAAACsAAAAvAAAAMAAAADEAAAAxAAAAMgAAADIAAAAzAAAAMwAAADAAAAA0AAAANQAAADUAAAA2AAAANgAAADcAAAA3AAAANAAAADAAAAA0AAAAMQAAADUAAAAyAAAANgAAADMAAAA3AAAAOAAAADkAAAA5AAAAOgAAADoAAAA7AAAAOwAAADgAAAA8AAAAPQAAAD0AAAA+AAAAPgAAAD8AAAA/AAAAPAAAADgAAAA8AAAAOQAAAD0AAAA6AAAAPgAAADsAAAA/AAAA",
        "encoding": "base64",
        "path": [
         "array",
         "buffer"
        ]
       }
      ],
      "model_module": "jupyter-threejs",
      "model_module_version": "^2.1.0",
      "model_name": "BufferAttributeModel",
      "state": {
       "_view_module": null,
       "_view_module_version": "",
       "array": {
        "buffer": {},
        "dtype": "uint32",
        "shape": [
         192
        ]
       },
       "version": 2
      }
     },
     "fd81831ba6e34797b3f9220296c54d75": {
      "model_module": "@jupyter-widgets/controls",
      "model_module_version": "1.5.0",
      "model_name": "DescriptionStyleModel",
      "state": {
       "description_width": ""
      }
     },
     "fde8b5c864c0461f82972247bc3ea406": {
      "buffers": [
       {
        "data": "AAAAPwAAAD8AAAA/AAA4PwAAAD8AAAA/AAA4PwAAOD8AAAA/AAAAPwAAOD8AAAA/AAAAPwAAAD8AADg/AAA4PwAAAD8AADg/AAA4PwAAOD8AADg/AAAAPwAAOD8AADg/AACQPgAAAD8AAAA/AAAAPwAAAD8AAAA/AAAAPwAAPD8AAAA/AACQPgAAPD8AAAA/AACQPgAAAD8AADg/AAAAPwAAAD8AADg/AAAAPwAAPD8AADg/AACQPgAAPD8AADg/AAAAPwAAkD4AAAA/AAA4PwAAkD4AAAA/AAA4PwAAAD8AAAA/AAAAPwAAAD8AAAA/AAAAPwAAkD4AADg/AAA4PwAAkD4AADg/AAA4PwAAAD8AADg/AAAAPwAAAD8AADg/AACQPgAAkD4AAAA/AAAAPwAAkD4AAAA/AAAAPwAAAD8AAAA/AACQPgAAAD8AAAA/AACQPgAAkD4AADg/AAAAPwAAkD4AADg/AAAAPwAAAD8AADg/AACQPgAAAD8AADg/AAAAPwAAAD8AAJA+AAA4PwAAAD8AAJA+AAA4PwAAOD8AAJA+AAAAPwAAOD8AAJA+AAAAPwAAAD8AAAA/AAA4PwAAAD8AAAA/AAA4PwAAOD8AAAA/AAAAPwAAOD8AAAA/AACIPgAAAD8AAJA+AAAAPwAAAD8AAJA+AAAAPwAAOD8AAJA+AACIPgAAOD8AAJA+AACIPgAAAD8AAAA/AAAAPwAAAD8AAAA/AAAAPwAAOD8AAAA/AACIPgAAOD8AAAA/AAAAPwAAiD4AAJA+AAA4PwAAiD4AAJA+AAA4PwAAAD8AAJA+AAAAPwAAAD8AAJA+AAAAPwAAiD4AAAA/AAA4PwAAiD4AAAA/AAA4PwAAAD8AAAA/AAAAPwAAAD8AAAA/AACIPgAAkD4AAJA+AAAAPwAAkD4AAJA+AAAAPwAAAD8AAJA+AACIPgAAAD8AAJA+AACIPgAAkD4AAAA/AAAAPwAAkD4AAAA/AAAAPwAAAD8AAAA/AACIPgAAAD8AAAA/",
        "encoding": "base64",
        "path": [
         "array",
         "buffer"
        ]
       }
      ],
      "model_module": "jupyter-threejs",
      "model_module_version": "^2.1.0",
      "model_name": "BufferAttributeModel",
      "state": {
       "_view_module": null,
       "_view_module_version": "",
       "array": {
        "buffer": {},
        "dtype": "float32",
        "shape": [
         64,
         3
        ]
       },
       "version": 2
      }
     },
     "fe36aa30593f49e78865a40307f73403": {
      "model_module": "@jupyter-widgets/controls",
      "model_module_version": "1.5.0",
      "model_name": "DescriptionStyleModel",
      "state": {
       "description_width": ""
      }
     },
     "ff3f27b8d36344d59392772947c7b299": {
      "model_module": "@jupyter-widgets/base",
      "model_module_version": "1.2.0",
      "model_name": "LayoutModel",
      "state": {
       "width": "20%"
      }
     },
     "ff912e4281394957b86846b17e5e2d97": {
      "buffers": [
       {
        "data": "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",
        "encoding": "base64",
        "path": [
         "array",
         "buffer"
        ]
       }
      ],
      "model_module": "jupyter-threejs",
      "model_module_version": "^2.1.0",
      "model_name": "BufferAttributeModel",
      "state": {
       "_view_module": null,
       "_view_module_version": "",
       "array": {
        "buffer": {},
        "dtype": "uint32",
        "shape": [
         1224
        ]
       },
       "version": 2
      }
     },
     "ff9665221d434d5bb5df502dd6e5cb4f": {
      "model_module": "@jupyter-widgets/controls",
      "model_module_version": "1.5.0",
      "model_name": "FloatSliderModel",
      "state": {
       "layout": "IPY_MODEL_35ed2c837e9041b2b70c3f6c457f48a3",
       "max": 10,
       "step": 0.1,
       "style": "IPY_MODEL_1bd8f6b7d52940ceaf2a565167bc0a25",
       "value": 1
      }
     },
     "ffbafb5902da4c2c9f3caad1a38f35a1": {
      "model_module": "@jupyter-widgets/controls",
      "model_module_version": "1.5.0",
      "model_name": "LinkModel",
      "state": {
       "source": [
        "IPY_MODEL_0a49c37f78a44d569cc070dbbbd5f1a0",
        "value"
       ],
       "target": [
        "IPY_MODEL_95a2da8175bc418da1d1c55f8c31b635",
        "color"
       ]
      }
     }
    },
    "version_major": 2,
    "version_minor": 0
   }
  }
 },
 "nbformat": 4,
 "nbformat_minor": 4
}
