{
 "cells": [
  {
   "cell_type": "code",
   "execution_count": 2,
   "id": "fc8d6538",
   "metadata": {},
   "outputs": [],
   "source": [
    "%matplotlib inline\n",
    "import sys, os\n",
    "os.chdir('/fe4/blackhole-star/data/shredded')\n",
    "os.environ['PYOPENGL_PLATFORM'] = 'egl'  # without this, OpenGL.EGL won't work.  Needed for batch render."
   ]
  },
  {
   "cell_type": "code",
   "execution_count": 3,
   "id": "566bbb24",
   "metadata": {},
   "outputs": [],
   "source": [
    "from OpenGL import EGL"
   ]
  },
  {
   "cell_type": "code",
   "execution_count": 4,
   "id": "26b209ad",
   "metadata": {},
   "outputs": [],
   "source": [
    "import yt, yt_idv"
   ]
  },
  {
   "cell_type": "code",
   "execution_count": 4,
   "id": "3f81d5ad",
   "metadata": {},
   "outputs": [
    {
     "data": {
      "text/plain": [
       "['m1.0_p16_b2.0_300k_plt50']"
      ]
     },
     "execution_count": 4,
     "metadata": {},
     "output_type": "execute_result"
    }
   ],
   "source": [
    "import glob; glob.glob('*plt50')"
   ]
  },
  {
   "cell_type": "code",
   "execution_count": 5,
   "id": "02392af5",
   "metadata": {},
   "outputs": [
    {
     "name": "stderr",
     "output_type": "stream",
     "text": [
      "yt : [INFO     ] 2022-03-24 14:29:24,729 Parameters: current_time              = 44232.23623685412\n",
      "yt : [INFO     ] 2022-03-24 14:29:24,732 Parameters: domain_dimensions         = [8 8 8]\n",
      "yt : [INFO     ] 2022-03-24 14:29:24,735 Parameters: domain_left_edge          = [0. 0. 0.]\n",
      "yt : [INFO     ] 2022-03-24 14:29:24,736 Parameters: domain_right_edge         = [8.95258e+13 8.95258e+13 8.95258e+13]\n",
      "yt : [INFO     ] 2022-03-24 14:29:24,737 Parameters: cosmological_simulation   = 0\n"
     ]
    }
   ],
   "source": [
    "ds = yt.load('m1.0_p16_b2.0_300k_plt50/multitidal_hdf5_plt_cnt_0200')\n",
    "ds.force_periodicity()"
   ]
  },
  {
   "cell_type": "code",
   "execution_count": 6,
   "id": "c1718954",
   "metadata": {},
   "outputs": [],
   "source": [
    "rc = yt_idv.render_context(engine='egl', gui=True, width=2048,height=2048)"
   ]
  },
  {
   "cell_type": "code",
   "execution_count": 7,
   "id": "75fc8c55",
   "metadata": {},
   "outputs": [],
   "source": [
    "ad = ds.all_data()\n",
    "ad.max_level = 11\n",
    "\n",
    "sg = rc.add_scene(ad, 'density', no_ghost=False)"
   ]
  },
  {
   "cell_type": "code",
   "execution_count": 8,
   "id": "4526bb71",
   "metadata": {},
   "outputs": [
    {
     "name": "stdout",
     "output_type": "stream",
     "text": [
      "Computed new cmap values 2.5496801325515343e-15 - 0.001650735386647284\n"
     ]
    }
   ],
   "source": [
    "im = rc.run()\n"
   ]
  },
  {
   "cell_type": "code",
   "execution_count": 12,
   "id": "fa193895",
   "metadata": {},
   "outputs": [],
   "source": [
    "import matplotlib.pyplot as mp"
   ]
  },
  {
   "cell_type": "code",
   "execution_count": 9,
   "id": "f4fcd55b",
   "metadata": {
    "scrolled": true
   },
   "outputs": [
    {
     "data": {
      "application/vnd.jupyter.widget-view+json": {
       "model_id": "e12ee85bca1848908855c9e0e3cf6af3",
       "version_major": 2,
       "version_minor": 0
      },
      "text/plain": [
       "Image(value=b'\\x89PNG\\r\\n\\x1a\\n\\x00\\x00\\x00\\rIHDR\\x00\\x00\\x08\\x00\\x00\\x00\\x08\\x00\\x08\\x06\\x00\\x00\\x00\\xb2\\xa7\\…"
      ]
     },
     "metadata": {},
     "output_type": "display_data"
    }
   ],
   "source": [
    "rc.add_image()"
   ]
  },
  {
   "cell_type": "code",
   "execution_count": 10,
   "id": "4aeb348a",
   "metadata": {},
   "outputs": [],
   "source": [
    "rc.scene.camera.move_forward(0.8)\n",
    "rc.run()"
   ]
  },
  {
   "cell_type": "code",
   "execution_count": 17,
   "id": "1696a0ac",
   "metadata": {},
   "outputs": [],
   "source": [
    "rc.scene.camera.position[:] = [0.5,0.7,0.1]\n",
    "rc.scene.camera._update_matrices()"
   ]
  },
  {
   "cell_type": "code",
   "execution_count": 18,
   "id": "faf5ee2a",
   "metadata": {},
   "outputs": [],
   "source": [
    "rc.run()"
   ]
  },
  {
   "cell_type": "code",
   "execution_count": 21,
   "id": "587a81b3",
   "metadata": {},
   "outputs": [
    {
     "data": {
      "text/plain": [
       "array([[-0.8017837 , -0.53452253, -0.26726124,  0.80178374],\n",
       "       [-0.59761435,  0.71713716,  0.35856855, -0.23904568],\n",
       "       [-0.        ,  0.44721356, -0.89442724, -0.22360677],\n",
       "       [ 0.        ,  0.        ,  0.        ,  1.        ]],\n",
       "      dtype=float32)"
      ]
     },
     "execution_count": 21,
     "metadata": {},
     "output_type": "execute_result"
    }
   ],
   "source": [
    "rc.scene.camera.view_matrix"
   ]
  },
  {
   "cell_type": "code",
   "execution_count": 39,
   "id": "24627dd3",
   "metadata": {},
   "outputs": [
    {
     "data": {
      "text/plain": [
       "(4.577636712545434e-05, 20.0)"
      ]
     },
     "execution_count": 39,
     "metadata": {},
     "output_type": "execute_result"
    }
   ],
   "source": [
    "rc.scene.camera.near_plane, rc.scene.camera.far_plane"
   ]
  },
  {
   "cell_type": "code",
   "execution_count": 22,
   "id": "a69e68b4",
   "metadata": {},
   "outputs": [
    {
     "name": "stdout",
     "output_type": "stream",
     "text": [
      "__class__   __delattr__   __dict__   __dir__   __doc__   __eq__   __format__   __ge__   __getattribute__   __getstate__   __gt__   __hash__   __init__   __init_subclass__   __le__   __lt__   __module__   __ne__   __new__   __reduce__   __reduce_ex__   __repr__   __setattr__   __setstate__   __sizeof__   __str__   __subclasshook__   __weakref__   _add_notifiers   _compute_matrices   _cross_validation_lock   _default_up   _default_view_matrix   _get_trait_default_generator   _map_to_surface   _notify_observers   _notify_trait   _orientation_default   _register_validator   _remove_notifiers   _set_uniforms   _trait_default_generators   _trait_notifiers   _trait_validators   _trait_values   _update_matrices   add_traits   aspect_ratio   class_own_trait_events   class_own_traits   class_trait_names   class_traits   compute_matrices   cross_validation_lock   far_plane   focus   fov   has_trait   held   hold_trait_notifications   hold_traits   move_forward   near_plane   notify_change   observe   offset_position   on_trait_change   orientation   position   proj_func   projection_matrix   set_trait   setup_instance   trait_defaults   trait_events   trait_has_value   trait_metadata   trait_names   trait_values   traits   unobserve   unobserve_all   up   update_orientation   view_matrix\n"
     ]
    }
   ],
   "source": [
    "print(\"   \".join(dir(rc.scene.camera)))"
   ]
  },
  {
   "cell_type": "code",
   "execution_count": 30,
   "id": "15d15f61",
   "metadata": {},
   "outputs": [
    {
     "data": {
      "text/plain": [
       "array([[-8.0178368e-01, -5.3452253e-01, -2.6726124e-01,  0.0000000e+00],\n",
       "       [-5.9761435e-01,  7.1713716e-01,  3.5856852e-01,  0.0000000e+00],\n",
       "       [-5.4423399e-09,  4.4721356e-01, -8.9442718e-01,  0.0000000e+00],\n",
       "       [ 5.0000000e-01,  6.9999999e-01,  1.0000000e-01,  1.0000000e+00]],\n",
       "      dtype=float32)"
      ]
     },
     "execution_count": 30,
     "metadata": {},
     "output_type": "execute_result"
    }
   ],
   "source": [
    "import numpy\n",
    "numpy.linalg.inv(rc.scene.camera.view_matrix).transpose()"
   ]
  },
  {
   "cell_type": "code",
   "execution_count": 31,
   "id": "bf399a04",
   "metadata": {},
   "outputs": [
    {
     "data": {
      "text/plain": [
       "[]"
      ]
     },
     "execution_count": 31,
     "metadata": {},
     "output_type": "execute_result"
    }
   ],
   "source": [
    "[x for x in dir(rc.scene.camera.view_matrix) if 'off' in x]"
   ]
  },
  {
   "cell_type": "code",
   "execution_count": 35,
   "id": "722e5454",
   "metadata": {},
   "outputs": [
    {
     "data": {
      "text/plain": [
       "array([[-0.8017837 , -0.53452253, -0.26726124,  0.80178374],\n",
       "       [-0.59761435,  0.71713716,  0.35856855, -0.23904568],\n",
       "       [-0.        ,  0.44721356, -0.89442724, -0.22360677],\n",
       "       [ 0.        ,  0.        ,  0.        ,  1.        ]],\n",
       "      dtype=float32)"
      ]
     },
     "execution_count": 35,
     "metadata": {},
     "output_type": "execute_result"
    }
   ],
   "source": [
    "rc.scene.camera._update_matrices()\n",
    "rc.scene.camera.view_matrix"
   ]
  },
  {
   "cell_type": "code",
   "execution_count": 49,
   "id": "2b7feaae",
   "metadata": {},
   "outputs": [],
   "source": [
    "def T44(s):\n",
    "    return numpy.array( [float(v) for v in s.replace('[',' ').replace(']',' ').replace(',',' ').replace('(',' ').replace(')',' ').split()]).reshape(4,4)\n",
    "\n",
    "vm = numpy.transpose( numpy.linalg.inv(T44('0.8831300258436215 -0.3249697855549908 0.3383430151928479 0 -0.4048501396250351 -0.8923140822235469 0.199679601139272 0 0.2370183999166184 -0.3133212682565492 -0.9195934215505641 0 1.05853 -0.33372 -0.946352 1') ))\n",
    "#rc.scene.camera.view_matrix = numpy.transpose( numpy.linalg.inv(T44('') ))\n",
    "rc.scene.camera.view_matrix = vm\n",
    "\n",
    "rc.run()"
   ]
  },
  {
   "cell_type": "code",
   "execution_count": 45,
   "id": "54f444a0",
   "metadata": {},
   "outputs": [],
   "source": [
    "rc.scene.camera.view_matrix = T44('0.8831300258436215 -0.3249697855549908 0.3383430151928479 0 -0.4048501396250351 -0.8923140822235469 0.199679601139272 0 0.2370183999166184 -0.3133212682565492 -0.9195934215505641 0 1.05853 -0.33372 -0.946352 1')\n",
    "rc.run()"
   ]
  },
  {
   "cell_type": "code",
   "execution_count": 44,
   "id": "54a1d674",
   "metadata": {},
   "outputs": [],
   "source": [
    "rc.run()\n"
   ]
  },
  {
   "cell_type": "code",
   "execution_count": null,
   "id": "ad73ca0a",
   "metadata": {},
   "outputs": [],
   "source": [
    "help(rc.add_image)"
   ]
  },
  {
   "cell_type": "code",
   "execution_count": null,
   "id": "59b1ab87",
   "metadata": {},
   "outputs": [],
   "source": [
    "ds.periodicity = [True,True,True]"
   ]
  },
  {
   "cell_type": "code",
   "execution_count": null,
   "id": "24b76db5",
   "metadata": {},
   "outputs": [],
   "source": [
    "rc.run()"
   ]
  },
  {
   "cell_type": "code",
   "execution_count": null,
   "id": "5f5a8263",
   "metadata": {},
   "outputs": [],
   "source": [
    "sg.camera.position = [0.5,0.7,0.2]\n",
    "rc.run()"
   ]
  },
  {
   "cell_type": "code",
   "execution_count": null,
   "id": "8779abf6",
   "metadata": {},
   "outputs": [],
   "source": [
    "rc.add_image(2048,2048)"
   ]
  },
  {
   "cell_type": "code",
   "execution_count": null,
   "id": "7dea8671",
   "metadata": {},
   "outputs": [],
   "source": [
    "[x for x in dir(sg.camera) if x[0]!='_']"
   ]
  },
  {
   "cell_type": "code",
   "execution_count": null,
   "id": "4da909a4",
   "metadata": {},
   "outputs": [],
   "source": [
    "sg.camera.view_matrix"
   ]
  },
  {
   "cell_type": "code",
   "execution_count": null,
   "id": "a13efb4e",
   "metadata": {},
   "outputs": [],
   "source": [
    "sg.camera.position"
   ]
  },
  {
   "cell_type": "code",
   "execution_count": null,
   "id": "5ebc81e3",
   "metadata": {},
   "outputs": [],
   "source": [
    "help(sg.camera.move_forward)"
   ]
  },
  {
   "cell_type": "code",
   "execution_count": null,
   "id": "911107e8",
   "metadata": {},
   "outputs": [],
   "source": [
    "sg.camera.move_forward(-0.25)"
   ]
  },
  {
   "cell_type": "code",
   "execution_count": null,
   "id": "e577dd69",
   "metadata": {},
   "outputs": [],
   "source": [
    "rc.run()"
   ]
  },
  {
   "cell_type": "code",
   "execution_count": null,
   "id": "843aca37",
   "metadata": {},
   "outputs": [],
   "source": []
  },
  {
   "cell_type": "code",
   "execution_count": null,
   "id": "aa1dd59c",
   "metadata": {},
   "outputs": [],
   "source": []
  },
  {
   "cell_type": "code",
   "execution_count": null,
   "id": "4d7baefe",
   "metadata": {},
   "outputs": [],
   "source": [
    "\n"
   ]
  },
  {
   "cell_type": "code",
   "execution_count": null,
   "id": "38345e04",
   "metadata": {},
   "outputs": [],
   "source": [
    "rc.image_widget"
   ]
  },
  {
   "cell_type": "code",
   "execution_count": null,
   "id": "c47475bb",
   "metadata": {},
   "outputs": [],
   "source": [
    "rc.image_widget.width"
   ]
  },
  {
   "cell_type": "code",
   "execution_count": null,
   "id": "13b31dec",
   "metadata": {},
   "outputs": [],
   "source": [
    "[x for x in dir(rc.image_widget) if x[0]!='_']"
   ]
  },
  {
   "cell_type": "code",
   "execution_count": null,
   "id": "c4ed8a39",
   "metadata": {},
   "outputs": [],
   "source": [
    "rc.image_widget.keys"
   ]
  },
  {
   "cell_type": "code",
   "execution_count": null,
   "id": "5aab1ded",
   "metadata": {},
   "outputs": [],
   "source": []
  }
 ],
 "metadata": {
  "kernelspec": {
   "display_name": "Python 3 (ipykernel)",
   "language": "python",
   "name": "python3"
  },
  "language_info": {
   "codemirror_mode": {
    "name": "ipython",
    "version": 3
   },
   "file_extension": ".py",
   "mimetype": "text/x-python",
   "name": "python",
   "nbconvert_exporter": "python",
   "pygments_lexer": "ipython3",
   "version": "3.9.7"
  }
 },
 "nbformat": 4,
 "nbformat_minor": 5
}
